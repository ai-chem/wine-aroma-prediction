{
 "cells": [
  {
   "cell_type": "markdown",
   "metadata": {},
   "source": [
    "# Wine aroma prediction using Vision Transformer\n",
    "Here will be used Vision Transformer to predict wine aroma from the previously obtained wine composition matrices"
   ]
  },
  {
   "cell_type": "code",
   "execution_count": 1,
   "metadata": {},
   "outputs": [
    {
     "name": "stderr",
     "output_type": "stream",
     "text": [
      "C:\\Users\\Peach\\AppData\\Local\\Temp\\ipykernel_23312\\1427776762.py:13: TqdmExperimentalWarning: Using `tqdm.autonotebook.tqdm` in notebook mode. Use `tqdm.tqdm` instead to force console mode (e.g. in jupyter console)\n",
      "  from tqdm.autonotebook import tqdm\n"
     ]
    }
   ],
   "source": [
    "#Import the necessary libraries\n",
    "import numpy as np\n",
    "import pandas as pd\n",
    "\n",
    "import torch\n",
    "import torch.nn as nn\n",
    "import torch.nn.functional as F\n",
    "from transformers import ViTForImageClassification\n",
    "from torch.cuda.amp import autocast, GradScaler\n",
    "from torch.utils.data import DataLoader, Subset\n",
    "\n",
    "from sklearn.model_selection import train_test_split, KFold\n",
    "from sklearn.metrics import average_precision_score\n",
    "\n",
    "from tqdm import tqdm"
   ]
  },
  {
   "cell_type": "markdown",
   "metadata": {},
   "source": [
    "## 1. Working with data\n",
    "At this stage, Load the previously prepared data, and process the data for further neural networking "
   ]
  },
  {
   "cell_type": "code",
   "execution_count": 2,
   "metadata": {},
   "outputs": [],
   "source": [
    "# Loading data\n",
    "X_array =  np.load('X_array.npy')\n",
    "Y_array =  np.load('Y_array.npy')"
   ]
  },
  {
   "cell_type": "code",
   "execution_count": 3,
   "metadata": {},
   "outputs": [],
   "source": [
    "# Separation of data into training, validation and test data in the ratio of 70:20:10\n",
    "X_train, X_test, y_train, y_test = train_test_split(X_array, Y_array, test_size=0.1, random_state=42)\n",
    "X_train, X_val, y_train, y_val = train_test_split(X_train, y_train, test_size=0.2, random_state=42)"
   ]
  },
  {
   "cell_type": "code",
   "execution_count": 4,
   "metadata": {},
   "outputs": [],
   "source": [
    "# Conversion to a tensor\n",
    "X_train = torch.tensor(X_train)\n",
    "y_train = torch.tensor(y_train)\n",
    "X_val = torch.tensor(X_val)\n",
    "y_val = torch.tensor(y_val)\n",
    "X_test = torch.tensor(X_test)\n",
    "y_test = torch.tensor(y_test)"
   ]
  },
  {
   "cell_type": "code",
   "execution_count": 5,
   "metadata": {},
   "outputs": [
    {
     "name": "stdout",
     "output_type": "stream",
     "text": [
      "323\n",
      "323\n",
      "81\n",
      "81\n",
      "45\n",
      "45\n"
     ]
    }
   ],
   "source": [
    "print(len(X_train))\n",
    "print(len(y_train))\n",
    "print(len(X_val))\n",
    "print(len(y_val))\n",
    "print(len(X_test))\n",
    "print(len(y_test))"
   ]
  },
  {
   "cell_type": "markdown",
   "metadata": {},
   "source": [
    "Since Vision Transformer has been trained on 224x224 images, need to bring images to the same size by padding (adding white pixels in equal proportions to the bottom, top and sides of the image), a method chosen to preserve chemical information without distorting it through interpolation"
   ]
  },
  {
   "cell_type": "code",
   "execution_count": 6,
   "metadata": {},
   "outputs": [],
   "source": [
    "# Create a custom dataset\n",
    "class CustomDataset(torch.utils.data.Dataset):\n",
    "    def __init__(self, x, y):\n",
    "        # Add channels if there are none (i.e. if the images have dimension [N, H, W]).\n",
    "        if x.dim() == 3:  \n",
    "            x = x.unsqueeze(1)  # Add channel dimensionality [N, 1, H, W]\n",
    "\n",
    "        self.x = self.pad_to_224(x)  # Adding padding\n",
    "        self.y = y\n",
    "\n",
    "    def pad_to_224(self, x):\n",
    "        padded_images = []\n",
    "        for img in x:\n",
    "            # Check that the input images are of size [1, 44, 100]\n",
    "            _, h, w = img.shape\n",
    "            assert h == 44 and w == 100, \"Incorrect size of the input image\"\n",
    "\n",
    "            # Applying padding\n",
    "            img_padded = TF.pad(img, (62, 90), fill=255)  # white background\n",
    "\n",
    "            padded_images.append(img_padded)\n",
    "\n",
    "        return torch.stack(padded_images)\n",
    "\n",
    "    def __len__(self):\n",
    "        return len(self.x)\n",
    "\n",
    "    def __getitem__(self, idx):\n",
    "        return self.x[idx], self.y[idx]\n",
    "\n",
    "# Create Dataset and DataLoader\n",
    "dataset_train = CustomDataset(X_train, y_train)\n",
    "dataset_val = CustomDataset(X_val, y_val)\n",
    "dataset_test = CustomDataset(X_test, y_test)\n",
    "\n",
    "dataloader_train = torch.utils.data.DataLoader(dataset_train, batch_size=32, shuffle=True)\n",
    "dataloader_val = torch.utils.data.DataLoader(dataset_val, batch_size=32, shuffle=True)\n",
    "dataloader_test = torch.utils.data.DataLoader(dataset_test, batch_size=32, shuffle=False)\n"
   ]
  },
  {
   "cell_type": "code",
   "execution_count": 7,
   "metadata": {},
   "outputs": [
    {
     "name": "stdout",
     "output_type": "stream",
     "text": [
      "torch.Size([32, 1, 224, 224])\n",
      "torch.Size([32, 1, 224, 224])\n",
      "torch.Size([32, 1, 224, 224])\n",
      "torch.Size([32, 1, 224, 224])\n",
      "torch.Size([32, 1, 224, 224])\n",
      "torch.Size([32, 1, 224, 224])\n",
      "torch.Size([32, 1, 224, 224])\n",
      "torch.Size([32, 1, 224, 224])\n",
      "torch.Size([32, 1, 224, 224])\n",
      "torch.Size([32, 1, 224, 224])\n",
      "torch.Size([3, 1, 224, 224])\n"
     ]
    }
   ],
   "source": [
    "for x, y in dataloader_train:\n",
    "    print(x.size())"
   ]
  },
  {
   "cell_type": "markdown",
   "metadata": {},
   "source": [
    "## 3. Loading of the pre-trained model and its additional training\n",
    "At this stage will load the pre-trained model, change the necessary parameters, and retrain it on data"
   ]
  },
  {
   "cell_type": "code",
   "execution_count": null,
   "metadata": {},
   "outputs": [],
   "source": [
    "def accuracy(logits, labels, threshold=0.5):\n",
    "    probs = torch.sigmoid(logits)\n",
    "    preds = (probs > threshold).float()\n",
    "    return (preds == labels).float().mean().item()"
   ]
  },
  {
   "cell_type": "code",
   "execution_count": null,
   "metadata": {},
   "outputs": [],
   "source": [
    "@torch.no_grad()\n",
    "def eval_acc_vit(model, loader, device, threshold=0.5):\n",
    "    model.eval()\n",
    "    s, n = 0.0, 0\n",
    "    for x, y in loader:\n",
    "        x, y = x.to(device).float(), y.to(device).float()\n",
    "        out = model(x)  # ImageClassifierOutput\n",
    "        s += accuracy(out.logits.cpu(), y.cpu(), threshold)\n",
    "        n += 1\n",
    "    return s / max(1, n)\n",
    "\n",
    "@torch.no_grad()\n",
    "def per_sample_accuracy_vit(model, loader, device, threshold=0.5):\n",
    "    model.eval()\n",
    "    vals = []\n",
    "    for x, y in loader:\n",
    "        x, y = x.to(device).float(), y.to(device).float()\n",
    "        out = model(x)\n",
    "        probs = torch.sigmoid(out.logits)\n",
    "        preds = (probs > threshold).float()\n",
    "        acc_sample = (preds == y).float().mean(dim=1)  # [B]\n",
    "        vals.append(acc_sample.cpu().numpy())\n",
    "    return np.concatenate(vals, axis=0)"
   ]
  },
  {
   "cell_type": "code",
   "execution_count": null,
   "metadata": {},
   "outputs": [],
   "source": [
    "def bootstrap_mean_std(values, n_boot=2000, seed=42):\n",
    "    rng = np.random.default_rng(seed)\n",
    "    values = np.asarray(values, dtype=float)\n",
    "    n = len(values)\n",
    "    boot_means = [values[rng.integers(0, n, size=n)].mean() for _ in range(n_boot)]\n",
    "    return float(values.mean()), float(np.std(boot_means, ddof=1))"
   ]
  },
  {
   "cell_type": "code",
   "execution_count": null,
   "metadata": {},
   "outputs": [],
   "source": [
    "@torch.no_grad()\n",
    "def pr_auc_metrics_vit(model, loader, device):\n",
    "    model.eval()\n",
    "    Ys, Ps = [], []\n",
    "    for x, y in loader:\n",
    "        x, y = x.to(device).float(), y.to(device).float()\n",
    "        out = model(x)\n",
    "        Ys.append(y.cpu().numpy())\n",
    "        Ps.append(torch.sigmoid(out.logits).cpu().numpy())\n",
    "    Y = np.concatenate(Ys, axis=0)  # (N, C)\n",
    "    P = np.concatenate(Ps, axis=0)  # (N, C)\n",
    "    C = Y.shape[1]\n",
    "\n",
    "    ap = np.full(C, np.nan, dtype=float)\n",
    "    support = Y.sum(axis=0)\n",
    "    for j in range(C):\n",
    "        ap[j] = average_precision_score(Y[:, j], P[:, j]) if support[j] > 0 else np.nan\n",
    "\n",
    "    try:\n",
    "        micro_ap = average_precision_score(Y, P, average='micro')\n",
    "        macro_ap = average_precision_score(Y, P, average='macro')\n",
    "    except ValueError:\n",
    "        micro_ap, macro_ap = np.nan, np.nan\n",
    "    return ap, micro_ap, macro_ap"
   ]
  },
  {
   "cell_type": "code",
   "execution_count": null,
   "metadata": {},
   "outputs": [],
   "source": [
    "def build_vit_1ch_pretrained(num_labels=10, model_name=\"google/vit-base-patch16-224\",\n",
    "                             freeze_encoder=True, unfreeze_last=0):\n",
    "\n",
    "    model = ViTForImageClassification.from_pretrained(\n",
    "        model_name,\n",
    "        num_labels=num_labels,\n",
    "        ignore_mismatched_sizes=True\n",
    "    )\n",
    "    model.config.problem_type = \"multi_label_classification\"\n",
    "\n",
    "    old_proj = model.vit.embeddings.patch_embeddings.projection  \n",
    "    hidden   = old_proj.out_channels\n",
    "    new_proj = nn.Conv2d(\n",
    "        in_channels=1,\n",
    "        out_channels=hidden,\n",
    "        kernel_size=old_proj.kernel_size,\n",
    "        stride=old_proj.stride,\n",
    "        padding=old_proj.padding,\n",
    "        bias=False\n",
    "    )\n",
    "    with torch.no_grad():\n",
    "        new_proj.weight.copy_(old_proj.weight.mean(dim=1, keepdim=True))\n",
    "    model.vit.embeddings.patch_embeddings.projection = new_proj\n",
    "\n",
    "    model.config.num_channels = 1\n",
    "\n",
    "    if hasattr(model.vit.embeddings.patch_embeddings, \"num_channels\"):\n",
    "        model.vit.embeddings.patch_embeddings.num_channels = 1\n",
    "\n",
    "    if freeze_encoder:\n",
    "        for p in model.vit.parameters():\n",
    "            p.requires_grad = False\n",
    "        for p in model.classifier.parameters():\n",
    "            p.requires_grad = True\n",
    "        if unfreeze_last > 0:\n",
    "            layers = model.vit.encoder.layer\n",
    "            for blk in layers[-unfreeze_last:]:\n",
    "                for p in blk.parameters():\n",
    "                    p.requires_grad = True\n",
    "            for p in model.vit.layernorm.parameters():\n",
    "                p.requires_grad = True\n",
    "    return model"
   ]
  },
  {
   "cell_type": "code",
   "execution_count": null,
   "metadata": {},
   "outputs": [],
   "source": [
    "device = torch.device(\"cuda\" if torch.cuda.is_available() else \"cpu\")\n",
    "n_splits   = 5\n",
    "num_epochs = 15          \n",
    "batch_size = 32\n",
    "threshold  = 0.5\n",
    "seed       = 42\n",
    "lr_head    = 2e-4       "
   ]
  },
  {
   "cell_type": "code",
   "execution_count": null,
   "metadata": {},
   "outputs": [],
   "source": [
    "class_names = [\"Flowers\",\"Chocolate/Cacao\",\"Coffee\",\"Nuts\",\"Fruits\",\n",
    "               \"Citrus\",\"Berries\",\"Wood\",\"Tobacco/Smoke\",\"Herbs and spices\"]"
   ]
  },
  {
   "cell_type": "code",
   "execution_count": null,
   "metadata": {},
   "outputs": [],
   "source": [
    "full_train = CustomDataset(X_train, y_train)   \n",
    "kf = KFold(n_splits=n_splits, shuffle=True, random_state=seed)\n",
    "\n",
    "cv_accs = []\n",
    "cv_ap_all, cv_micro_all, cv_macro_all = [], [], []\n",
    "\n",
    "for fold, (tr_idx, va_idx) in enumerate(kf.split(range(len(full_train))), 1):\n",
    "    print(f\"\\n==== Fold {fold}/{n_splits} ====\")\n",
    "    ds_tr = Subset(full_train, tr_idx)\n",
    "    ds_va = Subset(full_train, va_idx)\n",
    "    dl_tr = DataLoader(ds_tr, batch_size=batch_size, shuffle=True,  num_workers=0)\n",
    "    dl_va = DataLoader(ds_va, batch_size=batch_size, shuffle=False, num_workers=0)\n",
    "\n",
    "    model = build_vit_1ch_pretrained(num_labels=10, freeze_encoder=True, unfreeze_last=0).to(device)\n",
    "    opt_params = [p for p in model.parameters() if p.requires_grad]\n",
    "    optimizer = torch.optim.AdamW(opt_params, lr=lr_head, betas=(0.9, 0.999), weight_decay=1e-4)\n",
    "    scaler = GradScaler()\n",
    "\n",
    "    for epoch in range(num_epochs):\n",
    "        model.train()\n",
    "        for x, y in tqdm(dl_tr, leave=False, desc=f\"Fold {fold} Ep {epoch+1}/{num_epochs}\"):\n",
    "            x, y = x.to(device).float(), y.to(device).float()\n",
    "            assert x.dim() == 4 and x.size(1) == 1, f\"Ожидается [B,1,H,W], получено {tuple(x.shape)}\"\n",
    "            optimizer.zero_grad(set_to_none=True)\n",
    "            with autocast(True):\n",
    "                out = model(x)  \n",
    "                loss = nn.functional.binary_cross_entropy_with_logits(out.logits, y)\n",
    "            scaler.scale(loss).backward()\n",
    "            scaler.step(optimizer); scaler.update()\n",
    "\n",
    "    val_acc = eval_acc_vit(model, dl_va, device, threshold)\n",
    "    ap_fold, micro_auc, macro_auc = pr_auc_metrics_vit(model, dl_va, device)\n",
    "    print(f\"VAL Acc: {val_acc:.4f}  |  PR-AUC micro={micro_auc:.3f}  macro={macro_auc:.3f}\")\n",
    "\n",
    "    cv_accs.append(val_acc)\n",
    "    cv_ap_all.append(ap_fold)\n",
    "    cv_micro_all.append(micro_auc)\n",
    "    cv_macro_all.append(macro_auc)\n",
    "\n",
    "    del model, optimizer, scaler\n",
    "    torch.cuda.empty_cache()\n",
    "\n",
    "cv_acc_mean, cv_acc_std = float(np.mean(cv_accs)), float(np.std(cv_accs, ddof=1))\n",
    "cv_ap_mat  = np.vstack(cv_ap_all)                       # (K, C)\n",
    "cv_ap_mean = np.nanmean(cv_ap_mat, axis=0)              # (C,)\n",
    "cv_ap_std  = np.nanstd(cv_ap_mat,  axis=0, ddof=1)\n",
    "cv_micro_mean = float(np.nanmean(cv_micro_all))\n",
    "cv_micro_std  = float(np.nanstd(cv_micro_all, ddof=1))\n",
    "cv_macro_mean = float(np.nanmean(cv_macro_all))\n",
    "cv_macro_std  = float(np.nanstd(cv_macro_all, ddof=1))\n",
    "\n",
    "print(f\"\\nCV Accuracy: {cv_acc_mean:.3f} ± {cv_acc_std:.3f}\")\n",
    "print(f\"CV PR-AUC Micro: {cv_micro_mean:.3f} ± {cv_micro_std:.3f}\")\n",
    "print(f\"CV PR-AUC Macro: {cv_macro_mean:.3f} ± {cv_macro_std:.3f}\")"
   ]
  },
  {
   "cell_type": "markdown",
   "metadata": {},
   "source": [
    "## 4. Final Model"
   ]
  },
  {
   "cell_type": "code",
   "execution_count": null,
   "metadata": {},
   "outputs": [
    {
     "name": "stdout",
     "output_type": "stream",
     "text": [
      "\n",
      "==== Fold 1/5 ====\n"
     ]
    },
    {
     "name": "stderr",
     "output_type": "stream",
     "text": [
      "Some weights of ViTForImageClassification were not initialized from the model checkpoint at google/vit-base-patch16-224 and are newly initialized because the shapes did not match:\n",
      "- classifier.bias: found shape torch.Size([1000]) in the checkpoint and torch.Size([10]) in the model instantiated\n",
      "- classifier.weight: found shape torch.Size([1000, 768]) in the checkpoint and torch.Size([10, 768]) in the model instantiated\n",
      "You should probably TRAIN this model on a down-stream task to be able to use it for predictions and inference.\n",
      "C:\\Users\\Peach\\anaconda3\\envs\\practicum\\lib\\site-packages\\torch\\amp\\grad_scaler.py:131: UserWarning: torch.cuda.amp.GradScaler is enabled, but CUDA is not available.  Disabling.\n",
      "  warnings.warn(\n",
      "Fold 1 Ep 1/15:   0%|                                                                            | 0/9 [00:00<?, ?it/s]C:\\Users\\Peach\\anaconda3\\envs\\practicum\\lib\\site-packages\\torch\\amp\\autocast_mode.py:250: UserWarning: User provided device_type of 'cuda', but CUDA is not available. Disabling\n",
      "  warnings.warn(\n",
      "                                                                                                                       "
     ]
    },
    {
     "name": "stdout",
     "output_type": "stream",
     "text": [
      "VAL Acc: 0.7250  |  PR-AUC micro=0.615  macro=0.374\n",
      "\n",
      "==== Fold 2/5 ====\n"
     ]
    },
    {
     "name": "stderr",
     "output_type": "stream",
     "text": [
      "Some weights of ViTForImageClassification were not initialized from the model checkpoint at google/vit-base-patch16-224 and are newly initialized because the shapes did not match:\n",
      "- classifier.bias: found shape torch.Size([1000]) in the checkpoint and torch.Size([10]) in the model instantiated\n",
      "- classifier.weight: found shape torch.Size([1000, 768]) in the checkpoint and torch.Size([10, 768]) in the model instantiated\n",
      "You should probably TRAIN this model on a down-stream task to be able to use it for predictions and inference.\n",
      "C:\\Users\\Peach\\anaconda3\\envs\\practicum\\lib\\site-packages\\torch\\amp\\grad_scaler.py:131: UserWarning: torch.cuda.amp.GradScaler is enabled, but CUDA is not available.  Disabling.\n",
      "  warnings.warn(\n",
      "Fold 2 Ep 1/15:   0%|                                                                            | 0/9 [00:00<?, ?it/s]C:\\Users\\Peach\\anaconda3\\envs\\practicum\\lib\\site-packages\\torch\\amp\\autocast_mode.py:250: UserWarning: User provided device_type of 'cuda', but CUDA is not available. Disabling\n",
      "  warnings.warn(\n",
      "                                                                                                                       "
     ]
    },
    {
     "name": "stdout",
     "output_type": "stream",
     "text": [
      "VAL Acc: 0.7073  |  PR-AUC micro=0.597  macro=0.367\n",
      "\n",
      "==== Fold 3/5 ====\n"
     ]
    },
    {
     "name": "stderr",
     "output_type": "stream",
     "text": [
      "Some weights of ViTForImageClassification were not initialized from the model checkpoint at google/vit-base-patch16-224 and are newly initialized because the shapes did not match:\n",
      "- classifier.bias: found shape torch.Size([1000]) in the checkpoint and torch.Size([10]) in the model instantiated\n",
      "- classifier.weight: found shape torch.Size([1000, 768]) in the checkpoint and torch.Size([10, 768]) in the model instantiated\n",
      "You should probably TRAIN this model on a down-stream task to be able to use it for predictions and inference.\n",
      "C:\\Users\\Peach\\anaconda3\\envs\\practicum\\lib\\site-packages\\torch\\amp\\grad_scaler.py:131: UserWarning: torch.cuda.amp.GradScaler is enabled, but CUDA is not available.  Disabling.\n",
      "  warnings.warn(\n",
      "Fold 3 Ep 1/15:   0%|                                                                            | 0/9 [00:00<?, ?it/s]C:\\Users\\Peach\\anaconda3\\envs\\practicum\\lib\\site-packages\\torch\\amp\\autocast_mode.py:250: UserWarning: User provided device_type of 'cuda', but CUDA is not available. Disabling\n",
      "  warnings.warn(\n",
      "                                                                                                                       "
     ]
    },
    {
     "name": "stdout",
     "output_type": "stream",
     "text": [
      "VAL Acc: 0.7469  |  PR-AUC micro=0.526  macro=0.316\n",
      "\n",
      "==== Fold 4/5 ====\n"
     ]
    },
    {
     "name": "stderr",
     "output_type": "stream",
     "text": [
      "Some weights of ViTForImageClassification were not initialized from the model checkpoint at google/vit-base-patch16-224 and are newly initialized because the shapes did not match:\n",
      "- classifier.bias: found shape torch.Size([1000]) in the checkpoint and torch.Size([10]) in the model instantiated\n",
      "- classifier.weight: found shape torch.Size([1000, 768]) in the checkpoint and torch.Size([10, 768]) in the model instantiated\n",
      "You should probably TRAIN this model on a down-stream task to be able to use it for predictions and inference.\n",
      "C:\\Users\\Peach\\anaconda3\\envs\\practicum\\lib\\site-packages\\torch\\amp\\grad_scaler.py:131: UserWarning: torch.cuda.amp.GradScaler is enabled, but CUDA is not available.  Disabling.\n",
      "  warnings.warn(\n",
      "Fold 4 Ep 1/15:   0%|                                                                            | 0/9 [00:00<?, ?it/s]C:\\Users\\Peach\\anaconda3\\envs\\practicum\\lib\\site-packages\\torch\\amp\\autocast_mode.py:250: UserWarning: User provided device_type of 'cuda', but CUDA is not available. Disabling\n",
      "  warnings.warn(\n",
      "                                                                                                                       "
     ]
    },
    {
     "name": "stdout",
     "output_type": "stream",
     "text": [
      "VAL Acc: 0.7844  |  PR-AUC micro=0.614  macro=0.300\n",
      "\n",
      "==== Fold 5/5 ====\n"
     ]
    },
    {
     "name": "stderr",
     "output_type": "stream",
     "text": [
      "Some weights of ViTForImageClassification were not initialized from the model checkpoint at google/vit-base-patch16-224 and are newly initialized because the shapes did not match:\n",
      "- classifier.bias: found shape torch.Size([1000]) in the checkpoint and torch.Size([10]) in the model instantiated\n",
      "- classifier.weight: found shape torch.Size([1000, 768]) in the checkpoint and torch.Size([10, 768]) in the model instantiated\n",
      "You should probably TRAIN this model on a down-stream task to be able to use it for predictions and inference.\n",
      "C:\\Users\\Peach\\anaconda3\\envs\\practicum\\lib\\site-packages\\torch\\amp\\grad_scaler.py:131: UserWarning: torch.cuda.amp.GradScaler is enabled, but CUDA is not available.  Disabling.\n",
      "  warnings.warn(\n",
      "Fold 5 Ep 1/15:   0%|                                                                            | 0/9 [00:00<?, ?it/s]C:\\Users\\Peach\\anaconda3\\envs\\practicum\\lib\\site-packages\\torch\\amp\\autocast_mode.py:250: UserWarning: User provided device_type of 'cuda', but CUDA is not available. Disabling\n",
      "  warnings.warn(\n",
      "                                                                                                                       "
     ]
    },
    {
     "name": "stdout",
     "output_type": "stream",
     "text": [
      "VAL Acc: 0.7797  |  PR-AUC micro=0.588  macro=0.332\n",
      "\n",
      "CV Accuracy: 0.749 ± 0.034\n",
      "CV PR-AUC Micro: 0.588 ± 0.036\n",
      "CV PR-AUC Macro: 0.338 ± 0.032\n"
     ]
    },
    {
     "name": "stderr",
     "output_type": "stream",
     "text": [
      "Some weights of ViTForImageClassification were not initialized from the model checkpoint at google/vit-base-patch16-224 and are newly initialized because the shapes did not match:\n",
      "- classifier.bias: found shape torch.Size([1000]) in the checkpoint and torch.Size([10]) in the model instantiated\n",
      "- classifier.weight: found shape torch.Size([1000, 768]) in the checkpoint and torch.Size([10, 768]) in the model instantiated\n",
      "You should probably TRAIN this model on a down-stream task to be able to use it for predictions and inference.\n",
      "C:\\Users\\Peach\\anaconda3\\envs\\practicum\\lib\\site-packages\\torch\\amp\\grad_scaler.py:131: UserWarning: torch.cuda.amp.GradScaler is enabled, but CUDA is not available.  Disabling.\n",
      "  warnings.warn(\n",
      "Final ViT Ep 1/15:   0%|                                                                        | 0/11 [00:00<?, ?it/s]C:\\Users\\Peach\\anaconda3\\envs\\practicum\\lib\\site-packages\\torch\\amp\\autocast_mode.py:250: UserWarning: User provided device_type of 'cuda', but CUDA is not available. Disabling\n",
      "  warnings.warn(\n",
      "                                                                                                                       "
     ]
    },
    {
     "name": "stdout",
     "output_type": "stream",
     "text": [
      "\n",
      "TEST Accuracy (ViT-B/16 1ch): 0.762 ± 0.019\n",
      "TEST PR-AUC Micro: 0.635\n",
      "TEST PR-AUC Macro: 0.372\n",
      "\n",
      "=== Per-class PR-AUC (CV & Test) — ViT-B/16 1ch ===\n",
      "     Aroma class  CV PR-AUC (mean)  CV PR-AUC (std)  Test PR-AUC\n",
      "          Citrus             0.704            0.054        0.842\n",
      "         Flowers             0.590            0.066        0.699\n",
      "            Nuts             0.569            0.109        0.650\n",
      "Herbs and spices             0.361            0.096        0.401\n",
      "          Fruits             0.312            0.041        0.234\n",
      "            Wood             0.235            0.218        0.100\n",
      "   Tobacco/Smoke             0.179            0.122        0.288\n",
      "          Coffee             0.160            0.014        0.287\n",
      "         Berries             0.152            0.083        0.173\n",
      " Chocolate/Cacao             0.118            0.039        0.048\n"
     ]
    }
   ],
   "source": [
    "dataset_full    = CustomDataset(X_train, y_train)\n",
    "dataloader_full = DataLoader(dataset_full, batch_size=batch_size, shuffle=True)\n",
    "\n",
    "dataset_test    = CustomDataset(X_test, y_test)\n",
    "dataloader_test = DataLoader(dataset_test, batch_size=batch_size, shuffle=False)\n",
    "\n",
    "final_vit = build_vit_1ch_pretrained(num_labels=10, freeze_encoder=True, unfreeze_last=0).to(device)\n",
    "opt_params = [p for p in final_vit.parameters() if p.requires_grad]\n",
    "optimizer  = torch.optim.AdamW(opt_params, lr=lr_head, betas=(0.9, 0.999), weight_decay=1e-4)\n",
    "scaler     = GradScaler()\n",
    "\n",
    "for epoch in range(num_epochs):\n",
    "    final_vit.train()\n",
    "    for x, y in tqdm(dataloader_full, leave=False, desc=f\"Final ViT Ep {epoch+1}/{num_epochs}\"):\n",
    "        x, y = x.to(device).float(), y.to(device).float()\n",
    "        assert x.dim() == 4 and x.size(1) == 1, f\"Ожидается [B,1,H,W], получено {tuple(x.shape)}\"\n",
    "        optimizer.zero_grad(set_to_none=True)\n",
    "        with autocast(True):\n",
    "            out = final_vit(x)\n",
    "            loss = nn.functional.binary_cross_entropy_with_logits(out.logits, y)\n",
    "        scaler.scale(loss).backward()\n",
    "        scaler.step(optimizer); scaler.update()\n",
    "\n",
    "test_acc_sample = per_sample_accuracy_vit(final_vit, dataloader_test, device, threshold)\n",
    "test_acc_mean, test_acc_std = bootstrap_mean_std(test_acc_sample, n_boot=2000, seed=42)\n",
    "test_ap, test_micro_auc, test_macro_auc = pr_auc_metrics_vit(final_vit, dataloader_test, device)\n",
    "\n",
    "print(f\"\\nTEST Accuracy: {test_acc_mean:.3f} ± {test_acc_std:.3f}\")\n",
    "print(f\"TEST PR-AUC Micro: {test_micro_auc:.3f}\")\n",
    "print(f\"TEST PR-AUC Macro: {test_macro_auc:.3f}\")\n",
    "\n",
    "\n",
    "df_pr_auc = pd.DataFrame({\n",
    "    \"Aroma class\":        class_names,\n",
    "    \"CV PR-AUC (mean)\":   np.round(cv_ap_mean, 3),\n",
    "    \"CV PR-AUC (std)\":    np.round(cv_ap_std, 3),\n",
    "    \"Test PR-AUC\":        np.round(test_ap, 3)\n",
    "}).sort_values(by=\"CV PR-AUC (mean)\", ascending=False).reset_index(drop=True)\n",
    "\n",
    "print(\"\\n=== Per-class PR-AUC (CV & Test) — ViT-B/16 1ch ===\")\n",
    "print(df_pr_auc.to_string(index=False))"
   ]
  },
  {
   "cell_type": "markdown",
   "metadata": {},
   "source": [
    "## 5. PR-AUC Bars — Test Set"
   ]
  },
  {
   "cell_type": "code",
   "execution_count": 9,
   "metadata": {},
   "outputs": [
    {
     "data": {
      "image/png": "[encoded data removed]",
      "text/plain": [
       "<Figure size 1000x500 with 1 Axes>"
      ]
     },
     "metadata": {},
     "output_type": "display_data"
    }
   ],
   "source": [
    "def plot_pr_auc_test(ap_values, class_names, y_test_tensor, savepath=None, show_lift=True):\n",
    "\n",
    "    ap_values = np.asarray(ap_values, dtype=float)\n",
    "    if hasattr(y_test_tensor, \"cpu\"):\n",
    "        Yt = y_test_tensor.cpu().numpy()\n",
    "    else:\n",
    "        Yt = np.asarray(y_test_tensor)\n",
    "\n",
    "    # Prevalence \n",
    "    prev = np.nanmean(Yt, axis=0).astype(float)\n",
    "\n",
    "    ap_safe = np.copy(ap_values)\n",
    "    ap_sort_key = np.where(np.isnan(ap_safe), -1.0, ap_safe)\n",
    "\n",
    "    order = np.argsort(-ap_sort_key)\n",
    "    ap_sorted   = ap_values[order]\n",
    "    prev_sorted = prev[order]\n",
    "    names_sorted = [class_names[i] for i in order]\n",
    "\n",
    "    y_pos = np.arange(len(ap_sorted))\n",
    "\n",
    "    fig, ax = plt.subplots(figsize=(10, max(4, 0.5 * len(ap_sorted))))\n",
    "\n",
    "    bars = ax.barh(y_pos, np.nan_to_num(ap_sorted, nan=0.0),\n",
    "                   color=\"#a78bfa\", edgecolor=\"#6d28d9\", lw=1.2)\n",
    "    ax.set_xlim(0, 1.13)\n",
    "    ax.set_xlabel(\"PR-AUC (AP) for Test Set\", fontsize=10)\n",
    "    ax.set_ylabel(\"Class\")\n",
    "    ax.set_yticks(y_pos)\n",
    "    ax.set_yticklabels(names_sorted, fontsize=12)\n",
    "    ax.grid(axis=\"x\", linestyle=\":\", alpha=0.6)\n",
    "\n",
    "    for bar, apv, pv in zip(bars, ap_sorted, prev_sorted):\n",
    "        y = bar.get_y() + bar.get_height() / 2\n",
    "        x_text = min((0.0 if np.isnan(apv) else apv) + 0.01, 0.98)\n",
    "        label = f\"{apv:.3f}\"\n",
    "        if show_lift:\n",
    "        ax.text(x_text, y, label, va=\"center\", fontsize=12)\n",
    "\n",
    "    plt.tight_layout()\n",
    "    if savepath:\n",
    "        plt.savefig(savepath, dpi=300)\n",
    "    plt.show()\n",
    "\n",
    "plot_pr_auc_test(test_ap, class_names, y_test, savepath=None, show_lift=True)"
   ]
  },
  {
   "cell_type": "code",
   "execution_count": null,
   "metadata": {},
   "outputs": [],
   "source": []
  }
 ],
 "metadata": {
  "kernelspec": {
   "display_name": "Python 3 (ipykernel)",
   "language": "python",
   "name": "python3"
  },
  "language_info": {
   "codemirror_mode": {
    "name": "ipython",
    "version": 3
   },
   "file_extension": ".py",
   "mimetype": "text/x-python",
   "name": "python",
   "nbconvert_exporter": "python",
   "pygments_lexer": "ipython3",
   "version": "3.9.23"
  }
 },
 "nbformat": 4,
 "nbformat_minor": 4
}
