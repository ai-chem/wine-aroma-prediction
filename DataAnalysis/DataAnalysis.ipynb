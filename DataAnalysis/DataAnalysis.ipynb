{
 "cells": [
  {
   "cell_type": "markdown",
   "metadata": {},
   "source": [
    "# Wine composition and aromatic characteristics. Data preparation and EDA\n"
   ]
  },
  {
   "cell_type": "code",
   "execution_count": 11,
   "metadata": {},
   "outputs": [],
   "source": [
    "import numpy as np \n",
    "import pandas as pd \n",
    "import matplotlib.pyplot as plt\n",
    "import seaborn as sns\n",
    "import plotly.graph_objects as go\n",
    "import plotly.express as px\n",
    "import re\n",
    "from geopy.geocoders import Nominatim\n",
    "import geopandas as gpd"
   ]
  },
  {
   "cell_type": "markdown",
   "metadata": {},
   "source": [
    "## 1. Data Description"
   ]
  },
  {
   "cell_type": "code",
   "execution_count": 12,
   "metadata": {},
   "outputs": [],
   "source": [
    "colors = ['#4fabd0', '#dbe9f4', '#f0d0db', '#edb9c6', '#13979c',\n",
    "                 '#b3d8e8', '#f2f2f2', '#e0b0ff', '#ffabab', '#ffd8b1',\n",
    "                 '#7fcdbb', '#41b6c4', '#1d91c0', '#225ea8', '#253494',\n",
    "                  '#081d58', '#f7fcfd', '#fee0d2', '#fcbba1', '#fc9272']"
   ]
  },
  {
   "cell_type": "code",
   "execution_count": 13,
   "metadata": {},
   "outputs": [
    {
     "data": {
      "text/html": [
       "<div>\n",
       "<style scoped>\n",
       "    .dataframe tbody tr th:only-of-type {\n",
       "        vertical-align: middle;\n",
       "    }\n",
       "\n",
       "    .dataframe tbody tr th {\n",
       "        vertical-align: top;\n",
       "    }\n",
       "\n",
       "    .dataframe thead th {\n",
       "        text-align: right;\n",
       "    }\n",
       "</style>\n",
       "<table border=\"1\" class=\"dataframe\">\n",
       "  <thead>\n",
       "    <tr style=\"text-align: right;\">\n",
       "      <th></th>\n",
       "      <th>Wine</th>\n",
       "      <th>Grape sort</th>\n",
       "      <th>Year</th>\n",
       "      <th>Region</th>\n",
       "      <th>Country</th>\n",
       "      <th>Acetoine</th>\n",
       "      <th>Acetaldehyde</th>\n",
       "      <th>Methanol</th>\n",
       "      <th>1-propanol</th>\n",
       "      <th>Ethyl lactate</th>\n",
       "      <th>...</th>\n",
       "      <th>Herbs and spices</th>\n",
       "      <th>Tobacco/Smoke</th>\n",
       "      <th>Wood</th>\n",
       "      <th>Berries</th>\n",
       "      <th>Citrus</th>\n",
       "      <th>Fruits</th>\n",
       "      <th>Nuts</th>\n",
       "      <th>Coffee</th>\n",
       "      <th>Chocolate/Cacao</th>\n",
       "      <th>Flowers</th>\n",
       "    </tr>\n",
       "  </thead>\n",
       "  <tbody>\n",
       "    <tr>\n",
       "      <th>0</th>\n",
       "      <td>Nobile</td>\n",
       "      <td>Rubin</td>\n",
       "      <td>2017</td>\n",
       "      <td>NaN</td>\n",
       "      <td>Bulgaria</td>\n",
       "      <td>0.0</td>\n",
       "      <td>33.76</td>\n",
       "      <td>110.03</td>\n",
       "      <td>0.0</td>\n",
       "      <td>0.000</td>\n",
       "      <td>...</td>\n",
       "      <td>0</td>\n",
       "      <td>1</td>\n",
       "      <td>0</td>\n",
       "      <td>1</td>\n",
       "      <td>0</td>\n",
       "      <td>0</td>\n",
       "      <td>0</td>\n",
       "      <td>0</td>\n",
       "      <td>1</td>\n",
       "      <td>0</td>\n",
       "    </tr>\n",
       "    <tr>\n",
       "      <th>1</th>\n",
       "      <td>Vidinska Gamza</td>\n",
       "      <td>Storgozia</td>\n",
       "      <td>2017</td>\n",
       "      <td>NaN</td>\n",
       "      <td>Bulgaria</td>\n",
       "      <td>0.0</td>\n",
       "      <td>24.12</td>\n",
       "      <td>141.95</td>\n",
       "      <td>0.0</td>\n",
       "      <td>0.000</td>\n",
       "      <td>...</td>\n",
       "      <td>1</td>\n",
       "      <td>1</td>\n",
       "      <td>0</td>\n",
       "      <td>1</td>\n",
       "      <td>0</td>\n",
       "      <td>0</td>\n",
       "      <td>0</td>\n",
       "      <td>0</td>\n",
       "      <td>1</td>\n",
       "      <td>0</td>\n",
       "    </tr>\n",
       "    <tr>\n",
       "      <th>2</th>\n",
       "      <td>Traversa</td>\n",
       "      <td>Tannat</td>\n",
       "      <td>2000</td>\n",
       "      <td>NaN</td>\n",
       "      <td>Uruguay</td>\n",
       "      <td>0.0</td>\n",
       "      <td>0.00</td>\n",
       "      <td>0.00</td>\n",
       "      <td>0.0</td>\n",
       "      <td>0.000</td>\n",
       "      <td>...</td>\n",
       "      <td>0</td>\n",
       "      <td>0</td>\n",
       "      <td>0</td>\n",
       "      <td>1</td>\n",
       "      <td>0</td>\n",
       "      <td>0</td>\n",
       "      <td>0</td>\n",
       "      <td>0</td>\n",
       "      <td>0</td>\n",
       "      <td>0</td>\n",
       "    </tr>\n",
       "    <tr>\n",
       "      <th>3</th>\n",
       "      <td>La Comtesse</td>\n",
       "      <td>Albarino</td>\n",
       "      <td>2015</td>\n",
       "      <td>Pontevedra</td>\n",
       "      <td>Spain</td>\n",
       "      <td>0.0</td>\n",
       "      <td>0.00</td>\n",
       "      <td>0.00</td>\n",
       "      <td>0.0</td>\n",
       "      <td>0.000</td>\n",
       "      <td>...</td>\n",
       "      <td>1</td>\n",
       "      <td>1</td>\n",
       "      <td>0</td>\n",
       "      <td>1</td>\n",
       "      <td>0</td>\n",
       "      <td>1</td>\n",
       "      <td>0</td>\n",
       "      <td>1</td>\n",
       "      <td>1</td>\n",
       "      <td>0</td>\n",
       "    </tr>\n",
       "    <tr>\n",
       "      <th>4</th>\n",
       "      <td>Armas de Lanzos</td>\n",
       "      <td>Albarino</td>\n",
       "      <td>2015</td>\n",
       "      <td>Pontevedra</td>\n",
       "      <td>Spain</td>\n",
       "      <td>0.0</td>\n",
       "      <td>0.00</td>\n",
       "      <td>0.00</td>\n",
       "      <td>0.0</td>\n",
       "      <td>0.000</td>\n",
       "      <td>...</td>\n",
       "      <td>1</td>\n",
       "      <td>0</td>\n",
       "      <td>0</td>\n",
       "      <td>0</td>\n",
       "      <td>0</td>\n",
       "      <td>1</td>\n",
       "      <td>0</td>\n",
       "      <td>0</td>\n",
       "      <td>0</td>\n",
       "      <td>1</td>\n",
       "    </tr>\n",
       "    <tr>\n",
       "      <th>...</th>\n",
       "      <td>...</td>\n",
       "      <td>...</td>\n",
       "      <td>...</td>\n",
       "      <td>...</td>\n",
       "      <td>...</td>\n",
       "      <td>...</td>\n",
       "      <td>...</td>\n",
       "      <td>...</td>\n",
       "      <td>...</td>\n",
       "      <td>...</td>\n",
       "      <td>...</td>\n",
       "      <td>...</td>\n",
       "      <td>...</td>\n",
       "      <td>...</td>\n",
       "      <td>...</td>\n",
       "      <td>...</td>\n",
       "      <td>...</td>\n",
       "      <td>...</td>\n",
       "      <td>...</td>\n",
       "      <td>...</td>\n",
       "      <td>...</td>\n",
       "    </tr>\n",
       "    <tr>\n",
       "      <th>444</th>\n",
       "      <td>Brisas del Este</td>\n",
       "      <td>Tannat</td>\n",
       "      <td>2005</td>\n",
       "      <td>Canelones</td>\n",
       "      <td>Uruguay</td>\n",
       "      <td>0.0</td>\n",
       "      <td>0.00</td>\n",
       "      <td>0.00</td>\n",
       "      <td>0.0</td>\n",
       "      <td>3.022</td>\n",
       "      <td>...</td>\n",
       "      <td>0</td>\n",
       "      <td>0</td>\n",
       "      <td>0</td>\n",
       "      <td>1</td>\n",
       "      <td>0</td>\n",
       "      <td>1</td>\n",
       "      <td>0</td>\n",
       "      <td>0</td>\n",
       "      <td>0</td>\n",
       "      <td>0</td>\n",
       "    </tr>\n",
       "    <tr>\n",
       "      <th>445</th>\n",
       "      <td>Bouza</td>\n",
       "      <td>Tannat</td>\n",
       "      <td>2005</td>\n",
       "      <td>Canelones</td>\n",
       "      <td>Uruguay</td>\n",
       "      <td>0.0</td>\n",
       "      <td>0.00</td>\n",
       "      <td>0.00</td>\n",
       "      <td>0.0</td>\n",
       "      <td>4.892</td>\n",
       "      <td>...</td>\n",
       "      <td>0</td>\n",
       "      <td>0</td>\n",
       "      <td>0</td>\n",
       "      <td>1</td>\n",
       "      <td>0</td>\n",
       "      <td>0</td>\n",
       "      <td>0</td>\n",
       "      <td>0</td>\n",
       "      <td>0</td>\n",
       "      <td>0</td>\n",
       "    </tr>\n",
       "    <tr>\n",
       "      <th>446</th>\n",
       "      <td>Salida</td>\n",
       "      <td>Tannat</td>\n",
       "      <td>2005</td>\n",
       "      <td>Canelones</td>\n",
       "      <td>Uruguay</td>\n",
       "      <td>0.0</td>\n",
       "      <td>0.00</td>\n",
       "      <td>0.00</td>\n",
       "      <td>0.0</td>\n",
       "      <td>6.256</td>\n",
       "      <td>...</td>\n",
       "      <td>1</td>\n",
       "      <td>0</td>\n",
       "      <td>0</td>\n",
       "      <td>1</td>\n",
       "      <td>0</td>\n",
       "      <td>0</td>\n",
       "      <td>0</td>\n",
       "      <td>0</td>\n",
       "      <td>0</td>\n",
       "      <td>0</td>\n",
       "    </tr>\n",
       "    <tr>\n",
       "      <th>447</th>\n",
       "      <td>Single Vineyard</td>\n",
       "      <td>Tannat</td>\n",
       "      <td>2005</td>\n",
       "      <td>Canelones</td>\n",
       "      <td>Uruguay</td>\n",
       "      <td>0.0</td>\n",
       "      <td>0.00</td>\n",
       "      <td>0.00</td>\n",
       "      <td>0.0</td>\n",
       "      <td>118.317</td>\n",
       "      <td>...</td>\n",
       "      <td>0</td>\n",
       "      <td>1</td>\n",
       "      <td>0</td>\n",
       "      <td>1</td>\n",
       "      <td>0</td>\n",
       "      <td>0</td>\n",
       "      <td>1</td>\n",
       "      <td>0</td>\n",
       "      <td>1</td>\n",
       "      <td>1</td>\n",
       "    </tr>\n",
       "    <tr>\n",
       "      <th>448</th>\n",
       "      <td>Pan de Azucar</td>\n",
       "      <td>Tannat</td>\n",
       "      <td>2005</td>\n",
       "      <td>Canelones</td>\n",
       "      <td>Uruguay</td>\n",
       "      <td>0.0</td>\n",
       "      <td>0.00</td>\n",
       "      <td>0.00</td>\n",
       "      <td>0.0</td>\n",
       "      <td>191.579</td>\n",
       "      <td>...</td>\n",
       "      <td>1</td>\n",
       "      <td>0</td>\n",
       "      <td>0</td>\n",
       "      <td>1</td>\n",
       "      <td>0</td>\n",
       "      <td>0</td>\n",
       "      <td>0</td>\n",
       "      <td>0</td>\n",
       "      <td>0</td>\n",
       "      <td>0</td>\n",
       "    </tr>\n",
       "  </tbody>\n",
       "</table>\n",
       "<p>449 rows × 66 columns</p>\n",
       "</div>"
      ],
      "text/plain": [
       "                Wine Grape sort  Year       Region   Country  Acetoine  \\\n",
       "0             Nobile      Rubin  2017          NaN  Bulgaria       0.0   \n",
       "1     Vidinska Gamza  Storgozia  2017          NaN  Bulgaria       0.0   \n",
       "2           Traversa     Tannat  2000          NaN   Uruguay       0.0   \n",
       "3        La Comtesse   Albarino  2015   Pontevedra     Spain       0.0   \n",
       "4    Armas de Lanzos   Albarino  2015   Pontevedra     Spain       0.0   \n",
       "..               ...        ...   ...          ...       ...       ...   \n",
       "444  Brisas del Este     Tannat  2005    Canelones   Uruguay       0.0   \n",
       "445            Bouza     Tannat  2005    Canelones   Uruguay       0.0   \n",
       "446           Salida     Tannat  2005    Canelones   Uruguay       0.0   \n",
       "447  Single Vineyard     Tannat  2005    Canelones   Uruguay       0.0   \n",
       "448    Pan de Azucar     Tannat  2005    Canelones   Uruguay       0.0   \n",
       "\n",
       "     Acetaldehyde  Methanol  1-propanol  Ethyl lactate  ...  Herbs and spices  \\\n",
       "0           33.76    110.03         0.0          0.000  ...                 0   \n",
       "1           24.12    141.95         0.0          0.000  ...                 1   \n",
       "2            0.00      0.00         0.0          0.000  ...                 0   \n",
       "3            0.00      0.00         0.0          0.000  ...                 1   \n",
       "4            0.00      0.00         0.0          0.000  ...                 1   \n",
       "..            ...       ...         ...            ...  ...               ...   \n",
       "444          0.00      0.00         0.0          3.022  ...                 0   \n",
       "445          0.00      0.00         0.0          4.892  ...                 0   \n",
       "446          0.00      0.00         0.0          6.256  ...                 1   \n",
       "447          0.00      0.00         0.0        118.317  ...                 0   \n",
       "448          0.00      0.00         0.0        191.579  ...                 1   \n",
       "\n",
       "     Tobacco/Smoke  Wood  Berries  Citrus  Fruits  Nuts  Coffee  \\\n",
       "0                1     0        1       0       0     0       0   \n",
       "1                1     0        1       0       0     0       0   \n",
       "2                0     0        1       0       0     0       0   \n",
       "3                1     0        1       0       1     0       1   \n",
       "4                0     0        0       0       1     0       0   \n",
       "..             ...   ...      ...     ...     ...   ...     ...   \n",
       "444              0     0        1       0       1     0       0   \n",
       "445              0     0        1       0       0     0       0   \n",
       "446              0     0        1       0       0     0       0   \n",
       "447              1     0        1       0       0     1       0   \n",
       "448              0     0        1       0       0     0       0   \n",
       "\n",
       "     Chocolate/Cacao  Flowers  \n",
       "0                  1        0  \n",
       "1                  1        0  \n",
       "2                  0        0  \n",
       "3                  1        0  \n",
       "4                  0        1  \n",
       "..               ...      ...  \n",
       "444                0        0  \n",
       "445                0        0  \n",
       "446                0        0  \n",
       "447                1        1  \n",
       "448                0        0  \n",
       "\n",
       "[449 rows x 66 columns]"
      ]
     },
     "execution_count": 13,
     "metadata": {},
     "output_type": "execute_result"
    }
   ],
   "source": [
    "wine_aroma_df = pd.read_csv('WineAroma.csv')\n",
    "wine_aroma_df"
   ]
  },
  {
   "cell_type": "code",
   "execution_count": 14,
   "metadata": {},
   "outputs": [],
   "source": [
    "# Removing extra spaces from the columns Region, Country, Grapesort, Wine\n",
    "def strip_str(str):\n",
    "    try:\n",
    "        return str.strip()\n",
    "    except:\n",
    "        return str\n",
    "\n",
    "wine_aroma_df['Region'] = wine_aroma_df['Region'].apply(strip_str)\n",
    "wine_aroma_df['Country'] = wine_aroma_df['Country'].apply(strip_str)\n",
    "wine_aroma_df['Grape sort'] = wine_aroma_df['Grape sort'].apply(strip_str)\n",
    "wine_aroma_df['Wine'] = wine_aroma_df['Wine'].apply(strip_str)\n"
   ]
  },
  {
   "cell_type": "markdown",
   "metadata": {},
   "source": [
    "### Description of the dataset\n",
    "This dataset was assembled by hand and contains information on 449 wines, including their chemical composition and flavor\n",
    "\n",
    "- `Wine` - The name of the wine\n",
    "- `Grape sort` - Grape variety\n",
    "- `Year` - The year of wine production\n",
    "- `Region` - The region where grapes grow\n",
    "- `Country` - Country of wine production\n",
    "- `Acetoine` - `Dodecanoic acid` - concentrations (mg/l)\n",
    "- `DOI` - Link to the article\n",
    "- `Descriptors` - Wine flavor\n",
    "- `Herbs and spices`, `Tobacco/Smoke`, `Wood`, `Berries`, `Citrus`,\n",
    "`Fruits`, `Nuts`, `Coffee`, `Chocolate/Cacao`, `Flowers` - Classification of wine flavors into 10 groups\n"
   ]
  },
  {
   "cell_type": "code",
   "execution_count": null,
   "metadata": {},
   "outputs": [
    {
     "name": "stdout",
     "output_type": "stream",
     "text": [
      "<class 'pandas.core.frame.DataFrame'>\n",
      "RangeIndex: 449 entries, 0 to 448\n",
      "Data columns (total 66 columns):\n",
      " #   Column                     Non-Null Count  Dtype  \n",
      "---  ------                     --------------  -----  \n",
      " 0   Wine                       446 non-null    object \n",
      " 1   Grape sort                 443 non-null    object \n",
      " 2   Year                       449 non-null    int64  \n",
      " 3   Region                     412 non-null    object \n",
      " 4   Country                    444 non-null    object \n",
      " 5   Acetoine                   449 non-null    float64\n",
      " 6   Acetaldehyde               449 non-null    float64\n",
      " 7   Methanol                   449 non-null    float64\n",
      " 8   1-propanol                 449 non-null    float64\n",
      " 9   Ethyl lactate              449 non-null    float64\n",
      " 10  Isobutanol                 449 non-null    float64\n",
      " 11  1-butanol                  449 non-null    float64\n",
      " 12  2-butanol                  449 non-null    float64\n",
      " 13  2-methyl-1-butanol         449 non-null    float64\n",
      " 14  3-methyl-1-butanol         449 non-null    float64\n",
      " 15  2-methyl-1-propanol        449 non-null    float64\n",
      " 16  1-pentanol                 449 non-null    float64\n",
      " 17  1-hexanol                  449 non-null    float64\n",
      " 18  2,3-butanediol             449 non-null    float64\n",
      " 19  2-phenylethanol            449 non-null    float64\n",
      " 20  3-(Methylthio)-1-propanol  449 non-null    float64\n",
      " 21  Hexyl acetate              449 non-null    float64\n",
      " 22  Ethyl octanoate            449 non-null    float64\n",
      " 23  Diethyl succinate          449 non-null    float64\n",
      " 24  2-phenylethyl acetate      449 non-null    float64\n",
      " 25  Diethyl malate             449 non-null    float64\n",
      " 26  Ethyl decanoate            449 non-null    float64\n",
      " 27  Isoamyl alcohol            449 non-null    float64\n",
      " 28  Isoamyl acetate            449 non-null    float64\n",
      " 29  1-heptanol                 449 non-null    float64\n",
      " 30  Ethyl acetate              449 non-null    float64\n",
      " 31  Isopropyl acetate          449 non-null    float64\n",
      " 32  Isobutyl acetate           449 non-null    float64\n",
      " 33  Ethyl butyrate             449 non-null    float64\n",
      " 34  Ethyl hexanoate            449 non-null    float64\n",
      " 35  Ethyl isovalerate          449 non-null    float64\n",
      " 36  Pentyl acetate             449 non-null    float64\n",
      " 37  Phenyl acetate             449 non-null    float64\n",
      " 38  Ethyl caprylate            449 non-null    float64\n",
      " 39  alpha-TERPINEOL            449 non-null    float64\n",
      " 40  Linalool                   449 non-null    float64\n",
      " 41  Nerol                      449 non-null    float64\n",
      " 42  Citronellol                449 non-null    float64\n",
      " 43  Geraniol                   449 non-null    float64\n",
      " 44  1-octanol                  449 non-null    float64\n",
      " 45  Hexanoic acid              449 non-null    float64\n",
      " 46  Octanoic acid              449 non-null    float64\n",
      " 47  Decanoic acid              449 non-null    float64\n",
      " 48  Propanoic acid             449 non-null    float64\n",
      " 49  butyric acid               449 non-null    float64\n",
      " 50  2-methylpropanoic acid     449 non-null    float64\n",
      " 51  2-methylbutyric acid       449 non-null    float64\n",
      " 52  3-methylbutyric acid       449 non-null    float64\n",
      " 53  Dodecanoic acid            449 non-null    float64\n",
      " 54  DOI                        449 non-null    object \n",
      " 55  Descriptors                437 non-null    object \n",
      " 56  Herbs and spices           449 non-null    int64  \n",
      " 57  Tobacco/Smoke              449 non-null    int64  \n",
      " 58  Wood                       449 non-null    int64  \n",
      " 59  Berries                    449 non-null    int64  \n",
      " 60  Citrus                     449 non-null    int64  \n",
      " 61  Fruits                     449 non-null    int64  \n",
      " 62  Nuts                       449 non-null    int64  \n",
      " 63  Coffee                     449 non-null    int64  \n",
      " 64  Chocolate/Cacao            449 non-null    int64  \n",
      " 65  Flowers                    449 non-null    int64  \n",
      "dtypes: float64(49), int64(11), object(6)\n",
      "memory usage: 231.6+ KB\n"
     ]
    }
   ],
   "source": [
    "wine_aroma_df.info()"
   ]
  },
  {
   "cell_type": "code",
   "execution_count": 16,
   "metadata": {},
   "outputs": [
    {
     "data": {
      "text/html": [
       "<div>\n",
       "<style scoped>\n",
       "    .dataframe tbody tr th:only-of-type {\n",
       "        vertical-align: middle;\n",
       "    }\n",
       "\n",
       "    .dataframe tbody tr th {\n",
       "        vertical-align: top;\n",
       "    }\n",
       "\n",
       "    .dataframe thead th {\n",
       "        text-align: right;\n",
       "    }\n",
       "</style>\n",
       "<table border=\"1\" class=\"dataframe\">\n",
       "  <thead>\n",
       "    <tr style=\"text-align: right;\">\n",
       "      <th></th>\n",
       "      <th>Year</th>\n",
       "      <th>Acetoine</th>\n",
       "      <th>Acetaldehyde</th>\n",
       "      <th>Methanol</th>\n",
       "      <th>1-propanol</th>\n",
       "      <th>Ethyl lactate</th>\n",
       "      <th>Isobutanol</th>\n",
       "      <th>1-butanol</th>\n",
       "      <th>2-butanol</th>\n",
       "      <th>2-methyl-1-butanol</th>\n",
       "      <th>...</th>\n",
       "      <th>Herbs and spices</th>\n",
       "      <th>Tobacco/Smoke</th>\n",
       "      <th>Wood</th>\n",
       "      <th>Berries</th>\n",
       "      <th>Citrus</th>\n",
       "      <th>Fruits</th>\n",
       "      <th>Nuts</th>\n",
       "      <th>Coffee</th>\n",
       "      <th>Chocolate/Cacao</th>\n",
       "      <th>Flowers</th>\n",
       "    </tr>\n",
       "  </thead>\n",
       "  <tbody>\n",
       "    <tr>\n",
       "      <th>count</th>\n",
       "      <td>449.000000</td>\n",
       "      <td>449.000000</td>\n",
       "      <td>449.000000</td>\n",
       "      <td>449.000000</td>\n",
       "      <td>449.000000</td>\n",
       "      <td>449.000000</td>\n",
       "      <td>449.000000</td>\n",
       "      <td>449.000000</td>\n",
       "      <td>449.000000</td>\n",
       "      <td>449.000000</td>\n",
       "      <td>...</td>\n",
       "      <td>449.000000</td>\n",
       "      <td>449.000000</td>\n",
       "      <td>449.000000</td>\n",
       "      <td>449.000000</td>\n",
       "      <td>449.000000</td>\n",
       "      <td>449.000000</td>\n",
       "      <td>449.000000</td>\n",
       "      <td>449.000000</td>\n",
       "      <td>449.000000</td>\n",
       "      <td>449.000000</td>\n",
       "    </tr>\n",
       "    <tr>\n",
       "      <th>mean</th>\n",
       "      <td>2012.329621</td>\n",
       "      <td>3.013686</td>\n",
       "      <td>9.370619</td>\n",
       "      <td>10.108518</td>\n",
       "      <td>6.276215</td>\n",
       "      <td>16.704722</td>\n",
       "      <td>15.561368</td>\n",
       "      <td>0.812189</td>\n",
       "      <td>0.067253</td>\n",
       "      <td>16.465266</td>\n",
       "      <td>...</td>\n",
       "      <td>0.619154</td>\n",
       "      <td>0.104677</td>\n",
       "      <td>0.164811</td>\n",
       "      <td>0.505568</td>\n",
       "      <td>0.240535</td>\n",
       "      <td>0.674833</td>\n",
       "      <td>0.075724</td>\n",
       "      <td>0.051225</td>\n",
       "      <td>0.104677</td>\n",
       "      <td>0.336303</td>\n",
       "    </tr>\n",
       "    <tr>\n",
       "      <th>std</th>\n",
       "      <td>6.231619</td>\n",
       "      <td>17.931572</td>\n",
       "      <td>33.164155</td>\n",
       "      <td>27.588826</td>\n",
       "      <td>15.327420</td>\n",
       "      <td>56.265246</td>\n",
       "      <td>34.157441</td>\n",
       "      <td>2.098714</td>\n",
       "      <td>0.481374</td>\n",
       "      <td>38.685584</td>\n",
       "      <td>...</td>\n",
       "      <td>0.486137</td>\n",
       "      <td>0.306478</td>\n",
       "      <td>0.371423</td>\n",
       "      <td>0.500527</td>\n",
       "      <td>0.427885</td>\n",
       "      <td>0.468960</td>\n",
       "      <td>0.264851</td>\n",
       "      <td>0.220702</td>\n",
       "      <td>0.306478</td>\n",
       "      <td>0.472971</td>\n",
       "    </tr>\n",
       "    <tr>\n",
       "      <th>min</th>\n",
       "      <td>1990.000000</td>\n",
       "      <td>0.000000</td>\n",
       "      <td>0.000000</td>\n",
       "      <td>0.000000</td>\n",
       "      <td>0.000000</td>\n",
       "      <td>0.000000</td>\n",
       "      <td>0.000000</td>\n",
       "      <td>0.000000</td>\n",
       "      <td>0.000000</td>\n",
       "      <td>0.000000</td>\n",
       "      <td>...</td>\n",
       "      <td>0.000000</td>\n",
       "      <td>0.000000</td>\n",
       "      <td>0.000000</td>\n",
       "      <td>0.000000</td>\n",
       "      <td>0.000000</td>\n",
       "      <td>0.000000</td>\n",
       "      <td>0.000000</td>\n",
       "      <td>0.000000</td>\n",
       "      <td>0.000000</td>\n",
       "      <td>0.000000</td>\n",
       "    </tr>\n",
       "    <tr>\n",
       "      <th>25%</th>\n",
       "      <td>2008.000000</td>\n",
       "      <td>0.000000</td>\n",
       "      <td>0.000000</td>\n",
       "      <td>0.000000</td>\n",
       "      <td>0.000000</td>\n",
       "      <td>0.000000</td>\n",
       "      <td>0.000000</td>\n",
       "      <td>0.000000</td>\n",
       "      <td>0.000000</td>\n",
       "      <td>0.000000</td>\n",
       "      <td>...</td>\n",
       "      <td>0.000000</td>\n",
       "      <td>0.000000</td>\n",
       "      <td>0.000000</td>\n",
       "      <td>0.000000</td>\n",
       "      <td>0.000000</td>\n",
       "      <td>0.000000</td>\n",
       "      <td>0.000000</td>\n",
       "      <td>0.000000</td>\n",
       "      <td>0.000000</td>\n",
       "      <td>0.000000</td>\n",
       "    </tr>\n",
       "    <tr>\n",
       "      <th>50%</th>\n",
       "      <td>2015.000000</td>\n",
       "      <td>0.000000</td>\n",
       "      <td>0.000000</td>\n",
       "      <td>0.000000</td>\n",
       "      <td>0.000000</td>\n",
       "      <td>0.000000</td>\n",
       "      <td>0.000000</td>\n",
       "      <td>0.000800</td>\n",
       "      <td>0.000000</td>\n",
       "      <td>0.000000</td>\n",
       "      <td>...</td>\n",
       "      <td>1.000000</td>\n",
       "      <td>0.000000</td>\n",
       "      <td>0.000000</td>\n",
       "      <td>1.000000</td>\n",
       "      <td>0.000000</td>\n",
       "      <td>1.000000</td>\n",
       "      <td>0.000000</td>\n",
       "      <td>0.000000</td>\n",
       "      <td>0.000000</td>\n",
       "      <td>0.000000</td>\n",
       "    </tr>\n",
       "    <tr>\n",
       "      <th>75%</th>\n",
       "      <td>2017.000000</td>\n",
       "      <td>0.000000</td>\n",
       "      <td>0.000000</td>\n",
       "      <td>0.000000</td>\n",
       "      <td>4.000000</td>\n",
       "      <td>6.256000</td>\n",
       "      <td>21.590000</td>\n",
       "      <td>0.640000</td>\n",
       "      <td>0.000000</td>\n",
       "      <td>8.140000</td>\n",
       "      <td>...</td>\n",
       "      <td>1.000000</td>\n",
       "      <td>0.000000</td>\n",
       "      <td>0.000000</td>\n",
       "      <td>1.000000</td>\n",
       "      <td>0.000000</td>\n",
       "      <td>1.000000</td>\n",
       "      <td>0.000000</td>\n",
       "      <td>0.000000</td>\n",
       "      <td>0.000000</td>\n",
       "      <td>1.000000</td>\n",
       "    </tr>\n",
       "    <tr>\n",
       "      <th>max</th>\n",
       "      <td>2020.000000</td>\n",
       "      <td>234.000000</td>\n",
       "      <td>347.000000</td>\n",
       "      <td>161.000000</td>\n",
       "      <td>182.000000</td>\n",
       "      <td>652.152000</td>\n",
       "      <td>425.000000</td>\n",
       "      <td>13.420000</td>\n",
       "      <td>8.093000</td>\n",
       "      <td>373.020000</td>\n",
       "      <td>...</td>\n",
       "      <td>1.000000</td>\n",
       "      <td>1.000000</td>\n",
       "      <td>1.000000</td>\n",
       "      <td>1.000000</td>\n",
       "      <td>1.000000</td>\n",
       "      <td>1.000000</td>\n",
       "      <td>1.000000</td>\n",
       "      <td>1.000000</td>\n",
       "      <td>1.000000</td>\n",
       "      <td>1.000000</td>\n",
       "    </tr>\n",
       "  </tbody>\n",
       "</table>\n",
       "<p>8 rows × 60 columns</p>\n",
       "</div>"
      ],
      "text/plain": [
       "              Year    Acetoine  Acetaldehyde    Methanol  1-propanol  \\\n",
       "count   449.000000  449.000000    449.000000  449.000000  449.000000   \n",
       "mean   2012.329621    3.013686      9.370619   10.108518    6.276215   \n",
       "std       6.231619   17.931572     33.164155   27.588826   15.327420   \n",
       "min    1990.000000    0.000000      0.000000    0.000000    0.000000   \n",
       "25%    2008.000000    0.000000      0.000000    0.000000    0.000000   \n",
       "50%    2015.000000    0.000000      0.000000    0.000000    0.000000   \n",
       "75%    2017.000000    0.000000      0.000000    0.000000    4.000000   \n",
       "max    2020.000000  234.000000    347.000000  161.000000  182.000000   \n",
       "\n",
       "       Ethyl lactate  Isobutanol   1-butanol   2-butanol  2-methyl-1-butanol  \\\n",
       "count     449.000000  449.000000  449.000000  449.000000          449.000000   \n",
       "mean       16.704722   15.561368    0.812189    0.067253           16.465266   \n",
       "std        56.265246   34.157441    2.098714    0.481374           38.685584   \n",
       "min         0.000000    0.000000    0.000000    0.000000            0.000000   \n",
       "25%         0.000000    0.000000    0.000000    0.000000            0.000000   \n",
       "50%         0.000000    0.000000    0.000800    0.000000            0.000000   \n",
       "75%         6.256000   21.590000    0.640000    0.000000            8.140000   \n",
       "max       652.152000  425.000000   13.420000    8.093000          373.020000   \n",
       "\n",
       "       ...  Herbs and spices  Tobacco/Smoke        Wood     Berries  \\\n",
       "count  ...        449.000000     449.000000  449.000000  449.000000   \n",
       "mean   ...          0.619154       0.104677    0.164811    0.505568   \n",
       "std    ...          0.486137       0.306478    0.371423    0.500527   \n",
       "min    ...          0.000000       0.000000    0.000000    0.000000   \n",
       "25%    ...          0.000000       0.000000    0.000000    0.000000   \n",
       "50%    ...          1.000000       0.000000    0.000000    1.000000   \n",
       "75%    ...          1.000000       0.000000    0.000000    1.000000   \n",
       "max    ...          1.000000       1.000000    1.000000    1.000000   \n",
       "\n",
       "           Citrus      Fruits        Nuts      Coffee  Chocolate/Cacao  \\\n",
       "count  449.000000  449.000000  449.000000  449.000000       449.000000   \n",
       "mean     0.240535    0.674833    0.075724    0.051225         0.104677   \n",
       "std      0.427885    0.468960    0.264851    0.220702         0.306478   \n",
       "min      0.000000    0.000000    0.000000    0.000000         0.000000   \n",
       "25%      0.000000    0.000000    0.000000    0.000000         0.000000   \n",
       "50%      0.000000    1.000000    0.000000    0.000000         0.000000   \n",
       "75%      0.000000    1.000000    0.000000    0.000000         0.000000   \n",
       "max      1.000000    1.000000    1.000000    1.000000         1.000000   \n",
       "\n",
       "          Flowers  \n",
       "count  449.000000  \n",
       "mean     0.336303  \n",
       "std      0.472971  \n",
       "min      0.000000  \n",
       "25%      0.000000  \n",
       "50%      0.000000  \n",
       "75%      1.000000  \n",
       "max      1.000000  \n",
       "\n",
       "[8 rows x 60 columns]"
      ]
     },
     "execution_count": 16,
     "metadata": {},
     "output_type": "execute_result"
    }
   ],
   "source": [
    "wine_aroma_df.describe() #Main characteristics of numeric columns"
   ]
  },
  {
   "cell_type": "markdown",
   "metadata": {},
   "source": [
    "**Output:** The data is complete, omissions occur either in the name of the wine or in the country/region of growth. All chemical data, as well as data on the flavor of the wine, are present, so they can be used further"
   ]
  },
  {
   "cell_type": "markdown",
   "metadata": {},
   "source": [
    "## 2. Analysis of descriptive data about wine\n",
    "In this paragraph, we will analyze which wines are presented in the dataset, where they grew, as well as the years of their production"
   ]
  },
  {
   "cell_type": "markdown",
   "metadata": {},
   "source": [
    "### 2.1. Country\n",
    "Let's estimate the distribution of wines by country"
   ]
  },
  {
   "cell_type": "code",
   "execution_count": null,
   "metadata": {},
   "outputs": [
    {
     "data": {
      "application/vnd.plotly.v1+json": {
       "config": {
        "plotlyServerURL": "https://plot.ly"
       },
       "data": [
        {
         "domain": {
          "x": [
           0,
           1
          ],
          "y": [
           0,
           1
          ]
         },
         "hovertemplate": "=%{label}<extra></extra>",
         "labels": [
          "Bulgaria",
          "Bulgaria",
          "Uruguay",
          "Spain",
          "Spain",
          "Spain",
          "Spain",
          "Spain",
          "Spain",
          "Spain",
          "Spain",
          "Spain",
          "Uruguay",
          "Uruguay",
          "Australia",
          "Australia",
          "Spain",
          "Spain",
          "Spain",
          "Spain",
          "Spain",
          "Spain",
          "Spain",
          "Spain",
          "Spain",
          "Spain",
          "Spain",
          "Spain",
          "Spain",
          "Slovakia",
          "Spain",
          "Spain",
          "Spain",
          "Italy",
          "Italy",
          "Italy",
          "Italy",
          "Italy",
          "Italy",
          "Italy",
          "Italy",
          "Italy",
          "Italy",
          "Italy",
          "Italy",
          "Spain",
          "Spain",
          "Spain",
          "Spain",
          "Spain",
          "Spain",
          "Spain",
          "Spain",
          "Spain",
          "Spain",
          "Spain",
          "Spain",
          "Spain",
          "Chile",
          "Chile",
          "Chile",
          "Chile",
          "Chile",
          "Chile",
          "Chile",
          "Chile",
          "Chile",
          "Spain",
          "Spain",
          "Spain",
          "Italy",
          "Italy",
          "Italy",
          "Italy",
          "Italy",
          "Italy",
          "Italy",
          "Italy",
          "Spain",
          "Spain",
          "Spain",
          "Spain",
          "Spain",
          "Spain",
          "Spain",
          "Spain",
          "Spain",
          "Spain",
          "Spain",
          "Spain",
          "Spain",
          "Spain",
          "Spain",
          "Spain",
          "Spain",
          "Spain",
          "Spain",
          "Spain",
          "Spain",
          "Spain",
          "Hungary",
          "Hungary",
          "Hungary",
          "Chile",
          "Chile",
          "Chile",
          "Chile",
          "Chile",
          "Chile",
          "Chile",
          "Chile",
          "Chile",
          "Chile",
          "Chile",
          "Chile",
          "Chile",
          "Chile",
          "Chile",
          "Chile",
          "Chile",
          "Chile",
          "Chile",
          "Chile",
          "Chile",
          "Chile",
          "Chile",
          "Chile",
          "Chile",
          "Chile",
          "Chile",
          "Spain",
          "Spain",
          "Spain",
          "Spain",
          "Spain",
          "Italy",
          "Italy",
          "Italy",
          "Italy",
          "Italy",
          "Italy",
          "Italy",
          "Italy",
          "USA",
          "USA",
          "USA",
          "USA",
          "USA",
          "Australia",
          "Australia",
          "Australia",
          "Italy",
          "Italy",
          "Italy",
          "Italy",
          "Italy",
          "Italy",
          "Italy",
          "Italy",
          "Italy",
          "Italy",
          "Italy",
          "Italy",
          "New Zealand",
          "New Zealand",
          "New Zealand",
          "New Zealand",
          "New Zealand",
          "Italy",
          "Italy",
          "Italy",
          "Italy",
          "Italy",
          "Italy",
          "Italy",
          "Italy",
          "Italy",
          "Italy",
          "Italy",
          "Italy",
          "Italy",
          "China",
          "China",
          "China",
          "China",
          "Australia",
          "Australia",
          "Australia",
          "Australia",
          "Australia",
          "Australia",
          "Australia",
          "Australia",
          "Australia",
          "Australia",
          "Italy",
          "Italy",
          "Italy",
          "Italy",
          "Italy",
          "Italy",
          "Italy",
          "Italy",
          "Italy",
          "Italy",
          "Spain",
          "Spain",
          "Spain",
          "Spain",
          "Spain",
          "Spain",
          "Spain",
          "Spain",
          "Spain",
          "Spain",
          "Spain",
          "Spain",
          "Spain",
          "Italy",
          "Italy",
          "Italy",
          "Italy",
          "Italy",
          "Italy",
          "Italy",
          "Italy",
          "Italy",
          "Australia",
          "Australia",
          "Australia",
          "Australia",
          "Australia",
          "Australia",
          "Spain",
          "Spain",
          "Spain",
          "Spain",
          "Spain",
          "Spain",
          "Spain",
          "Australia",
          "Australia",
          "Australia",
          "Australia",
          "Australia",
          "Australia",
          "Australia",
          "Australia",
          "Australia",
          "Australia",
          "Australia",
          "Italy",
          "Italy",
          "Italy",
          "Italy",
          "Italy",
          "Italy",
          "Spain",
          "Spain",
          "Spain",
          "Spain",
          "Spain",
          "Spain",
          "China",
          "China",
          "China",
          "Spain",
          "Spain",
          "Spain",
          "Spain",
          "Spain",
          "Spain",
          "Spain",
          "Spain",
          "Spain",
          "Spain",
          "Australia",
          "Australia",
          "Australia",
          "Australia",
          "Czech",
          "Czech",
          "USA",
          "USA",
          "USA",
          "USA",
          "Chile",
          "Chile",
          "Chile",
          "Chile",
          "Italy",
          "Italy",
          "Italy",
          "Italy",
          "China",
          "Australia",
          "Australia",
          "China",
          "China",
          "Spain",
          "Spain",
          "Spain",
          "Spain",
          "Spain",
          "Spain",
          "USA",
          "USA",
          "USA",
          "USA",
          "USA",
          "USA",
          "Australia",
          "Australia",
          "Australia",
          "Australia",
          "Australia",
          "Australia",
          "Australia",
          "Australia",
          "Australia",
          "Australia",
          "Italy",
          "Italy",
          "Italy",
          "France",
          "France",
          "Croatia",
          "Croatia",
          "Croatia",
          "Croatia",
          "Croatia",
          "Croatia",
          "Croatia",
          "Italy",
          "Italy",
          "Italy",
          "Italy",
          "Italy",
          "Italy",
          "Italy",
          "Italy",
          "Spain",
          "Spain",
          "Spain",
          "Spain",
          "Spain",
          "Spain",
          "Spain",
          "Australia",
          "Australia",
          "France",
          "France",
          "France",
          "France",
          "Spain",
          "Spain",
          "Spain",
          "Spain",
          "Portugal",
          "Portugal",
          "Portugal",
          "Portugal",
          "Spain",
          "Spain",
          "Spain",
          "Spain",
          "Spain",
          "Spain",
          "Spain",
          null,
          null,
          null,
          null,
          null,
          "New Zealand",
          "New Zealand",
          "New Zealand",
          "Spain",
          "Spain",
          "Spain",
          "Spain",
          "Spain",
          "Spain",
          "Spain",
          "Spain",
          "Spain",
          "Spain",
          "Spain",
          "Spain",
          "Spain",
          "Spain",
          "Spain",
          "Spain",
          "Spain",
          "Spain",
          "Spain",
          "Spain",
          "Spain",
          "Spain",
          "Spain",
          "Spain",
          "Spain",
          "Spain",
          "Spain",
          "New Zealand",
          "New Zealand",
          "New Zealand",
          "New Zealand",
          "New Zealand",
          "New Zealand",
          "New Zealand",
          "New Zealand",
          "Spain",
          "Spain",
          "Spain",
          "Spain",
          "Italy",
          "Italy",
          "Italy",
          "Italy",
          "Italy",
          "Italy",
          "Italy",
          "Italy",
          "Italy",
          "Italy",
          "Italy",
          "Italy",
          "Italy",
          "Spain",
          "Spain",
          "Spain",
          "Spain",
          "Spain",
          "Spain",
          "Croatia",
          "Croatia",
          "Croatia",
          "Australia",
          "Australia",
          "Australia",
          "Australia",
          "Australia",
          "Uruguay",
          "Uruguay",
          "Uruguay",
          "Uruguay",
          "Uruguay",
          "Uruguay"
         ],
         "legendgroup": "",
         "name": "",
         "showlegend": true,
         "textfont": {
          "size": 25
         },
         "textinfo": "label+percent",
         "textposition": "inside",
         "type": "pie"
        }
       ],
       "layout": {
        "height": 650,
        "legend": {
         "font": {
          "size": 20
         },
         "title": {
          "font": {
           "size": 18
          }
         },
         "tracegroupgap": 0
        },
        "margin": {
         "t": 60
        },
        "piecolorway": [
         "rgb(42, 86, 116)",
         "rgb(59, 115, 143)",
         "rgb(79, 144, 166)",
         "rgb(104, 171, 184)",
         "rgb(133, 196, 201)",
         "rgb(168, 219, 217)",
         "rgb(209, 238, 234)"
        ],
        "template": {
         "data": {
          "bar": [
           {
            "error_x": {
             "color": "#2a3f5f"
            },
            "error_y": {
             "color": "#2a3f5f"
            },
            "marker": {
             "line": {
              "color": "#E5ECF6",
              "width": 0.5
             },
             "pattern": {
              "fillmode": "overlay",
              "size": 10,
              "solidity": 0.2
             }
            },
            "type": "bar"
           }
          ],
          "barpolar": [
           {
            "marker": {
             "line": {
              "color": "#E5ECF6",
              "width": 0.5
             },
             "pattern": {
              "fillmode": "overlay",
              "size": 10,
              "solidity": 0.2
             }
            },
            "type": "barpolar"
           }
          ],
          "carpet": [
           {
            "aaxis": {
             "endlinecolor": "#2a3f5f",
             "gridcolor": "white",
             "linecolor": "white",
             "minorgridcolor": "white",
             "startlinecolor": "#2a3f5f"
            },
            "baxis": {
             "endlinecolor": "#2a3f5f",
             "gridcolor": "white",
             "linecolor": "white",
             "minorgridcolor": "white",
             "startlinecolor": "#2a3f5f"
            },
            "type": "carpet"
           }
          ],
          "choropleth": [
           {
            "colorbar": {
             "outlinewidth": 0,
             "ticks": ""
            },
            "type": "choropleth"
           }
          ],
          "contour": [
           {
            "colorbar": {
             "outlinewidth": 0,
             "ticks": ""
            },
            "colorscale": [
             [
              0,
              "#0d0887"
             ],
             [
              0.1111111111111111,
              "#46039f"
             ],
             [
              0.2222222222222222,
              "#7201a8"
             ],
             [
              0.3333333333333333,
              "#9c179e"
             ],
             [
              0.4444444444444444,
              "#bd3786"
             ],
             [
              0.5555555555555556,
              "#d8576b"
             ],
             [
              0.6666666666666666,
              "#ed7953"
             ],
             [
              0.7777777777777778,
              "#fb9f3a"
             ],
             [
              0.8888888888888888,
              "#fdca26"
             ],
             [
              1,
              "#f0f921"
             ]
            ],
            "type": "contour"
           }
          ],
          "contourcarpet": [
           {
            "colorbar": {
             "outlinewidth": 0,
             "ticks": ""
            },
            "type": "contourcarpet"
           }
          ],
          "heatmap": [
           {
            "colorbar": {
             "outlinewidth": 0,
             "ticks": ""
            },
            "colorscale": [
             [
              0,
              "#0d0887"
             ],
             [
              0.1111111111111111,
              "#46039f"
             ],
             [
              0.2222222222222222,
              "#7201a8"
             ],
             [
              0.3333333333333333,
              "#9c179e"
             ],
             [
              0.4444444444444444,
              "#bd3786"
             ],
             [
              0.5555555555555556,
              "#d8576b"
             ],
             [
              0.6666666666666666,
              "#ed7953"
             ],
             [
              0.7777777777777778,
              "#fb9f3a"
             ],
             [
              0.8888888888888888,
              "#fdca26"
             ],
             [
              1,
              "#f0f921"
             ]
            ],
            "type": "heatmap"
           }
          ],
          "heatmapgl": [
           {
            "colorbar": {
             "outlinewidth": 0,
             "ticks": ""
            },
            "colorscale": [
             [
              0,
              "#0d0887"
             ],
             [
              0.1111111111111111,
              "#46039f"
             ],
             [
              0.2222222222222222,
              "#7201a8"
             ],
             [
              0.3333333333333333,
              "#9c179e"
             ],
             [
              0.4444444444444444,
              "#bd3786"
             ],
             [
              0.5555555555555556,
              "#d8576b"
             ],
             [
              0.6666666666666666,
              "#ed7953"
             ],
             [
              0.7777777777777778,
              "#fb9f3a"
             ],
             [
              0.8888888888888888,
              "#fdca26"
             ],
             [
              1,
              "#f0f921"
             ]
            ],
            "type": "heatmapgl"
           }
          ],
          "histogram": [
           {
            "marker": {
             "pattern": {
              "fillmode": "overlay",
              "size": 10,
              "solidity": 0.2
             }
            },
            "type": "histogram"
           }
          ],
          "histogram2d": [
           {
            "colorbar": {
             "outlinewidth": 0,
             "ticks": ""
            },
            "colorscale": [
             [
              0,
              "#0d0887"
             ],
             [
              0.1111111111111111,
              "#46039f"
             ],
             [
              0.2222222222222222,
              "#7201a8"
             ],
             [
              0.3333333333333333,
              "#9c179e"
             ],
             [
              0.4444444444444444,
              "#bd3786"
             ],
             [
              0.5555555555555556,
              "#d8576b"
             ],
             [
              0.6666666666666666,
              "#ed7953"
             ],
             [
              0.7777777777777778,
              "#fb9f3a"
             ],
             [
              0.8888888888888888,
              "#fdca26"
             ],
             [
              1,
              "#f0f921"
             ]
            ],
            "type": "histogram2d"
           }
          ],
          "histogram2dcontour": [
           {
            "colorbar": {
             "outlinewidth": 0,
             "ticks": ""
            },
            "colorscale": [
             [
              0,
              "#0d0887"
             ],
             [
              0.1111111111111111,
              "#46039f"
             ],
             [
              0.2222222222222222,
              "#7201a8"
             ],
             [
              0.3333333333333333,
              "#9c179e"
             ],
             [
              0.4444444444444444,
              "#bd3786"
             ],
             [
              0.5555555555555556,
              "#d8576b"
             ],
             [
              0.6666666666666666,
              "#ed7953"
             ],
             [
              0.7777777777777778,
              "#fb9f3a"
             ],
             [
              0.8888888888888888,
              "#fdca26"
             ],
             [
              1,
              "#f0f921"
             ]
            ],
            "type": "histogram2dcontour"
           }
          ],
          "mesh3d": [
           {
            "colorbar": {
             "outlinewidth": 0,
             "ticks": ""
            },
            "type": "mesh3d"
           }
          ],
          "parcoords": [
           {
            "line": {
             "colorbar": {
              "outlinewidth": 0,
              "ticks": ""
             }
            },
            "type": "parcoords"
           }
          ],
          "pie": [
           {
            "automargin": true,
            "type": "pie"
           }
          ],
          "scatter": [
           {
            "fillpattern": {
             "fillmode": "overlay",
             "size": 10,
             "solidity": 0.2
            },
            "type": "scatter"
           }
          ],
          "scatter3d": [
           {
            "line": {
             "colorbar": {
              "outlinewidth": 0,
              "ticks": ""
             }
            },
            "marker": {
             "colorbar": {
              "outlinewidth": 0,
              "ticks": ""
             }
            },
            "type": "scatter3d"
           }
          ],
          "scattercarpet": [
           {
            "marker": {
             "colorbar": {
              "outlinewidth": 0,
              "ticks": ""
             }
            },
            "type": "scattercarpet"
           }
          ],
          "scattergeo": [
           {
            "marker": {
             "colorbar": {
              "outlinewidth": 0,
              "ticks": ""
             }
            },
            "type": "scattergeo"
           }
          ],
          "scattergl": [
           {
            "marker": {
             "colorbar": {
              "outlinewidth": 0,
              "ticks": ""
             }
            },
            "type": "scattergl"
           }
          ],
          "scattermapbox": [
           {
            "marker": {
             "colorbar": {
              "outlinewidth": 0,
              "ticks": ""
             }
            },
            "type": "scattermapbox"
           }
          ],
          "scatterpolar": [
           {
            "marker": {
             "colorbar": {
              "outlinewidth": 0,
              "ticks": ""
             }
            },
            "type": "scatterpolar"
           }
          ],
          "scatterpolargl": [
           {
            "marker": {
             "colorbar": {
              "outlinewidth": 0,
              "ticks": ""
             }
            },
            "type": "scatterpolargl"
           }
          ],
          "scatterternary": [
           {
            "marker": {
             "colorbar": {
              "outlinewidth": 0,
              "ticks": ""
             }
            },
            "type": "scatterternary"
           }
          ],
          "surface": [
           {
            "colorbar": {
             "outlinewidth": 0,
             "ticks": ""
            },
            "colorscale": [
             [
              0,
              "#0d0887"
             ],
             [
              0.1111111111111111,
              "#46039f"
             ],
             [
              0.2222222222222222,
              "#7201a8"
             ],
             [
              0.3333333333333333,
              "#9c179e"
             ],
             [
              0.4444444444444444,
              "#bd3786"
             ],
             [
              0.5555555555555556,
              "#d8576b"
             ],
             [
              0.6666666666666666,
              "#ed7953"
             ],
             [
              0.7777777777777778,
              "#fb9f3a"
             ],
             [
              0.8888888888888888,
              "#fdca26"
             ],
             [
              1,
              "#f0f921"
             ]
            ],
            "type": "surface"
           }
          ],
          "table": [
           {
            "cells": {
             "fill": {
              "color": "#EBF0F8"
             },
             "line": {
              "color": "white"
             }
            },
            "header": {
             "fill": {
              "color": "#C8D4E3"
             },
             "line": {
              "color": "white"
             }
            },
            "type": "table"
           }
          ]
         },
         "layout": {
          "annotationdefaults": {
           "arrowcolor": "#2a3f5f",
           "arrowhead": 0,
           "arrowwidth": 1
          },
          "autotypenumbers": "strict",
          "coloraxis": {
           "colorbar": {
            "outlinewidth": 0,
            "ticks": ""
           }
          },
          "colorscale": {
           "diverging": [
            [
             0,
             "#8e0152"
            ],
            [
             0.1,
             "#c51b7d"
            ],
            [
             0.2,
             "#de77ae"
            ],
            [
             0.3,
             "#f1b6da"
            ],
            [
             0.4,
             "#fde0ef"
            ],
            [
             0.5,
             "#f7f7f7"
            ],
            [
             0.6,
             "#e6f5d0"
            ],
            [
             0.7,
             "#b8e186"
            ],
            [
             0.8,
             "#7fbc41"
            ],
            [
             0.9,
             "#4d9221"
            ],
            [
             1,
             "#276419"
            ]
           ],
           "sequential": [
            [
             0,
             "#0d0887"
            ],
            [
             0.1111111111111111,
             "#46039f"
            ],
            [
             0.2222222222222222,
             "#7201a8"
            ],
            [
             0.3333333333333333,
             "#9c179e"
            ],
            [
             0.4444444444444444,
             "#bd3786"
            ],
            [
             0.5555555555555556,
             "#d8576b"
            ],
            [
             0.6666666666666666,
             "#ed7953"
            ],
            [
             0.7777777777777778,
             "#fb9f3a"
            ],
            [
             0.8888888888888888,
             "#fdca26"
            ],
            [
             1,
             "#f0f921"
            ]
           ],
           "sequentialminus": [
            [
             0,
             "#0d0887"
            ],
            [
             0.1111111111111111,
             "#46039f"
            ],
            [
             0.2222222222222222,
             "#7201a8"
            ],
            [
             0.3333333333333333,
             "#9c179e"
            ],
            [
             0.4444444444444444,
             "#bd3786"
            ],
            [
             0.5555555555555556,
             "#d8576b"
            ],
            [
             0.6666666666666666,
             "#ed7953"
            ],
            [
             0.7777777777777778,
             "#fb9f3a"
            ],
            [
             0.8888888888888888,
             "#fdca26"
            ],
            [
             1,
             "#f0f921"
            ]
           ]
          },
          "colorway": [
           "#636efa",
           "#EF553B",
           "#00cc96",
           "#ab63fa",
           "#FFA15A",
           "#19d3f3",
           "#FF6692",
           "#B6E880",
           "#FF97FF",
           "#FECB52"
          ],
          "font": {
           "color": "#2a3f5f"
          },
          "geo": {
           "bgcolor": "white",
           "lakecolor": "white",
           "landcolor": "#E5ECF6",
           "showlakes": true,
           "showland": true,
           "subunitcolor": "white"
          },
          "hoverlabel": {
           "align": "left"
          },
          "hovermode": "closest",
          "mapbox": {
           "style": "light"
          },
          "paper_bgcolor": "white",
          "plot_bgcolor": "#E5ECF6",
          "polar": {
           "angularaxis": {
            "gridcolor": "white",
            "linecolor": "white",
            "ticks": ""
           },
           "bgcolor": "#E5ECF6",
           "radialaxis": {
            "gridcolor": "white",
            "linecolor": "white",
            "ticks": ""
           }
          },
          "scene": {
           "xaxis": {
            "backgroundcolor": "#E5ECF6",
            "gridcolor": "white",
            "gridwidth": 2,
            "linecolor": "white",
            "showbackground": true,
            "ticks": "",
            "zerolinecolor": "white"
           },
           "yaxis": {
            "backgroundcolor": "#E5ECF6",
            "gridcolor": "white",
            "gridwidth": 2,
            "linecolor": "white",
            "showbackground": true,
            "ticks": "",
            "zerolinecolor": "white"
           },
           "zaxis": {
            "backgroundcolor": "#E5ECF6",
            "gridcolor": "white",
            "gridwidth": 2,
            "linecolor": "white",
            "showbackground": true,
            "ticks": "",
            "zerolinecolor": "white"
           }
          },
          "shapedefaults": {
           "line": {
            "color": "#2a3f5f"
           }
          },
          "ternary": {
           "aaxis": {
            "gridcolor": "white",
            "linecolor": "white",
            "ticks": ""
           },
           "baxis": {
            "gridcolor": "white",
            "linecolor": "white",
            "ticks": ""
           },
           "bgcolor": "#E5ECF6",
           "caxis": {
            "gridcolor": "white",
            "linecolor": "white",
            "ticks": ""
           }
          },
          "title": {
           "x": 0.05
          },
          "xaxis": {
           "automargin": true,
           "gridcolor": "white",
           "linecolor": "white",
           "ticks": "",
           "title": {
            "standoff": 15
           },
           "zerolinecolor": "white",
           "zerolinewidth": 2
          },
          "yaxis": {
           "automargin": true,
           "gridcolor": "white",
           "linecolor": "white",
           "ticks": "",
           "title": {
            "standoff": 15
           },
           "zerolinecolor": "white",
           "zerolinewidth": 2
          }
         }
        },
        "title": {
         "font": {
          "size": 24
         }
        },
        "width": 800
       }
      }
     },
     "metadata": {},
     "output_type": "display_data"
    }
   ],
   "source": [
    "# Creating a pie chart\n",
    "fig = px.pie(wine_aroma_df, names='Country', color_discrete_sequence = px.colors.sequential.Teal_r, labels={'Country': ''}, width=800,  height=650)\n",
    "\n",
    "# Setting labels\n",
    "fig.update_traces(textposition='inside', textinfo='label+percent', textfont_size=25)\n",
    "\n",
    "\n",
    "# Updating layout for title and labels\n",
    "fig.update_layout(\n",
    "    title_font_size=24,  \n",
    "    legend_font_size=20,  \n",
    "    legend_title_font_size=18 \n",
    ")\n",
    "\n",
    "# Chart Display\n",
    "fig.show()"
   ]
  },
  {
   "cell_type": "code",
   "execution_count": 18,
   "metadata": {},
   "outputs": [
    {
     "data": {
      "text/html": [
       "<div>\n",
       "<style scoped>\n",
       "    .dataframe tbody tr th:only-of-type {\n",
       "        vertical-align: middle;\n",
       "    }\n",
       "\n",
       "    .dataframe tbody tr th {\n",
       "        vertical-align: top;\n",
       "    }\n",
       "\n",
       "    .dataframe thead th {\n",
       "        text-align: right;\n",
       "    }\n",
       "</style>\n",
       "<table border=\"1\" class=\"dataframe\">\n",
       "  <thead>\n",
       "    <tr style=\"text-align: right;\">\n",
       "      <th></th>\n",
       "      <th>Country</th>\n",
       "      <th>Count</th>\n",
       "    </tr>\n",
       "  </thead>\n",
       "  <tbody>\n",
       "    <tr>\n",
       "      <th>0</th>\n",
       "      <td>Australia</td>\n",
       "      <td>55</td>\n",
       "    </tr>\n",
       "    <tr>\n",
       "      <th>1</th>\n",
       "      <td>Bulgaria</td>\n",
       "      <td>2</td>\n",
       "    </tr>\n",
       "    <tr>\n",
       "      <th>2</th>\n",
       "      <td>Chile</td>\n",
       "      <td>40</td>\n",
       "    </tr>\n",
       "    <tr>\n",
       "      <th>3</th>\n",
       "      <td>China</td>\n",
       "      <td>10</td>\n",
       "    </tr>\n",
       "    <tr>\n",
       "      <th>4</th>\n",
       "      <td>Croatia</td>\n",
       "      <td>10</td>\n",
       "    </tr>\n",
       "    <tr>\n",
       "      <th>5</th>\n",
       "      <td>Czechia</td>\n",
       "      <td>2</td>\n",
       "    </tr>\n",
       "    <tr>\n",
       "      <th>6</th>\n",
       "      <td>France</td>\n",
       "      <td>6</td>\n",
       "    </tr>\n",
       "    <tr>\n",
       "      <th>7</th>\n",
       "      <td>Hungary</td>\n",
       "      <td>3</td>\n",
       "    </tr>\n",
       "    <tr>\n",
       "      <th>8</th>\n",
       "      <td>Italy</td>\n",
       "      <td>106</td>\n",
       "    </tr>\n",
       "    <tr>\n",
       "      <th>9</th>\n",
       "      <td>New Zealand</td>\n",
       "      <td>16</td>\n",
       "    </tr>\n",
       "    <tr>\n",
       "      <th>10</th>\n",
       "      <td>Portugal</td>\n",
       "      <td>4</td>\n",
       "    </tr>\n",
       "    <tr>\n",
       "      <th>11</th>\n",
       "      <td>Slovakia</td>\n",
       "      <td>1</td>\n",
       "    </tr>\n",
       "    <tr>\n",
       "      <th>12</th>\n",
       "      <td>Spain</td>\n",
       "      <td>165</td>\n",
       "    </tr>\n",
       "    <tr>\n",
       "      <th>13</th>\n",
       "      <td>United States of America</td>\n",
       "      <td>15</td>\n",
       "    </tr>\n",
       "    <tr>\n",
       "      <th>14</th>\n",
       "      <td>Uruguay</td>\n",
       "      <td>9</td>\n",
       "    </tr>\n",
       "  </tbody>\n",
       "</table>\n",
       "</div>"
      ],
      "text/plain": [
       "                     Country  Count\n",
       "0                  Australia     55\n",
       "1                   Bulgaria      2\n",
       "2                      Chile     40\n",
       "3                      China     10\n",
       "4                    Croatia     10\n",
       "5                    Czechia      2\n",
       "6                     France      6\n",
       "7                    Hungary      3\n",
       "8                      Italy    106\n",
       "9                New Zealand     16\n",
       "10                  Portugal      4\n",
       "11                  Slovakia      1\n",
       "12                     Spain    165\n",
       "13  United States of America     15\n",
       "14                   Uruguay      9"
      ]
     },
     "execution_count": 18,
     "metadata": {},
     "output_type": "execute_result"
    }
   ],
   "source": [
    "# Creating a table for building a map\n",
    "df_country = wine_aroma_df[['Country']].groupby('Country').size().reset_index(name='Count')\n",
    "df_country['Country'] = df_country['Country'].replace('USA', 'United States of America') # Replacing with the correct name\n",
    "df_country['Country'] = df_country['Country'].replace('Czech', 'Czechia') # Replacing with the correct name\n",
    "df_country"
   ]
  },
  {
   "cell_type": "code",
   "execution_count": null,
   "metadata": {},
   "outputs": [
    {
     "data": {
      "application/vnd.plotly.v1+json": {
       "config": {
        "plotlyServerURL": "https://plot.ly"
       },
       "data": [
        {
         "coloraxis": "coloraxis",
         "geo": "geo",
         "hovertemplate": "<b>%{hovertext}</b><br><br>Country=%{location}<br>Count=%{z}<extra></extra>",
         "hovertext": [
          "Australia",
          "Bulgaria",
          "Chile",
          "China",
          "Croatia",
          "Czechia",
          "France",
          "Hungary",
          "Italy",
          "New Zealand",
          "Portugal",
          "Slovakia",
          "Spain",
          "United States of America",
          "Uruguay"
         ],
         "locationmode": "country names",
         "locations": [
          "Australia",
          "Bulgaria",
          "Chile",
          "China",
          "Croatia",
          "Czechia",
          "France",
          "Hungary",
          "Italy",
          "New Zealand",
          "Portugal",
          "Slovakia",
          "Spain",
          "United States of America",
          "Uruguay"
         ],
         "name": "",
         "type": "choropleth",
         "z": [
          55,
          2,
          40,
          10,
          10,
          2,
          6,
          3,
          106,
          16,
          4,
          1,
          165,
          15,
          9
         ]
        }
       ],
       "layout": {
        "coloraxis": {
         "colorbar": {
          "title": {
           "text": "Count"
          }
         },
         "colorscale": [
          [
           0,
           "rgb(209, 238, 234)"
          ],
          [
           0.16666666666666666,
           "rgb(168, 219, 217)"
          ],
          [
           0.3333333333333333,
           "rgb(133, 196, 201)"
          ],
          [
           0.5,
           "rgb(104, 171, 184)"
          ],
          [
           0.6666666666666666,
           "rgb(79, 144, 166)"
          ],
          [
           0.8333333333333334,
           "rgb(59, 115, 143)"
          ],
          [
           1,
           "rgb(42, 86, 116)"
          ]
         ]
        },
        "geo": {
         "center": {},
         "domain": {
          "x": [
           0,
           1
          ],
          "y": [
           0,
           1
          ]
         }
        },
        "height": 650,
        "legend": {
         "font": {
          "size": 20
         },
         "title": {
          "font": {
           "size": 18
          }
         },
         "tracegroupgap": 0
        },
        "template": {
         "data": {
          "bar": [
           {
            "error_x": {
             "color": "#2a3f5f"
            },
            "error_y": {
             "color": "#2a3f5f"
            },
            "marker": {
             "line": {
              "color": "#E5ECF6",
              "width": 0.5
             },
             "pattern": {
              "fillmode": "overlay",
              "size": 10,
              "solidity": 0.2
             }
            },
            "type": "bar"
           }
          ],
          "barpolar": [
           {
            "marker": {
             "line": {
              "color": "#E5ECF6",
              "width": 0.5
             },
             "pattern": {
              "fillmode": "overlay",
              "size": 10,
              "solidity": 0.2
             }
            },
            "type": "barpolar"
           }
          ],
          "carpet": [
           {
            "aaxis": {
             "endlinecolor": "#2a3f5f",
             "gridcolor": "white",
             "linecolor": "white",
             "minorgridcolor": "white",
             "startlinecolor": "#2a3f5f"
            },
            "baxis": {
             "endlinecolor": "#2a3f5f",
             "gridcolor": "white",
             "linecolor": "white",
             "minorgridcolor": "white",
             "startlinecolor": "#2a3f5f"
            },
            "type": "carpet"
           }
          ],
          "choropleth": [
           {
            "colorbar": {
             "outlinewidth": 0,
             "ticks": ""
            },
            "type": "choropleth"
           }
          ],
          "contour": [
           {
            "colorbar": {
             "outlinewidth": 0,
             "ticks": ""
            },
            "colorscale": [
             [
              0,
              "#0d0887"
             ],
             [
              0.1111111111111111,
              "#46039f"
             ],
             [
              0.2222222222222222,
              "#7201a8"
             ],
             [
              0.3333333333333333,
              "#9c179e"
             ],
             [
              0.4444444444444444,
              "#bd3786"
             ],
             [
              0.5555555555555556,
              "#d8576b"
             ],
             [
              0.6666666666666666,
              "#ed7953"
             ],
             [
              0.7777777777777778,
              "#fb9f3a"
             ],
             [
              0.8888888888888888,
              "#fdca26"
             ],
             [
              1,
              "#f0f921"
             ]
            ],
            "type": "contour"
           }
          ],
          "contourcarpet": [
           {
            "colorbar": {
             "outlinewidth": 0,
             "ticks": ""
            },
            "type": "contourcarpet"
           }
          ],
          "heatmap": [
           {
            "colorbar": {
             "outlinewidth": 0,
             "ticks": ""
            },
            "colorscale": [
             [
              0,
              "#0d0887"
             ],
             [
              0.1111111111111111,
              "#46039f"
             ],
             [
              0.2222222222222222,
              "#7201a8"
             ],
             [
              0.3333333333333333,
              "#9c179e"
             ],
             [
              0.4444444444444444,
              "#bd3786"
             ],
             [
              0.5555555555555556,
              "#d8576b"
             ],
             [
              0.6666666666666666,
              "#ed7953"
             ],
             [
              0.7777777777777778,
              "#fb9f3a"
             ],
             [
              0.8888888888888888,
              "#fdca26"
             ],
             [
              1,
              "#f0f921"
             ]
            ],
            "type": "heatmap"
           }
          ],
          "heatmapgl": [
           {
            "colorbar": {
             "outlinewidth": 0,
             "ticks": ""
            },
            "colorscale": [
             [
              0,
              "#0d0887"
             ],
             [
              0.1111111111111111,
              "#46039f"
             ],
             [
              0.2222222222222222,
              "#7201a8"
             ],
             [
              0.3333333333333333,
              "#9c179e"
             ],
             [
              0.4444444444444444,
              "#bd3786"
             ],
             [
              0.5555555555555556,
              "#d8576b"
             ],
             [
              0.6666666666666666,
              "#ed7953"
             ],
             [
              0.7777777777777778,
              "#fb9f3a"
             ],
             [
              0.8888888888888888,
              "#fdca26"
             ],
             [
              1,
              "#f0f921"
             ]
            ],
            "type": "heatmapgl"
           }
          ],
          "histogram": [
           {
            "marker": {
             "pattern": {
              "fillmode": "overlay",
              "size": 10,
              "solidity": 0.2
             }
            },
            "type": "histogram"
           }
          ],
          "histogram2d": [
           {
            "colorbar": {
             "outlinewidth": 0,
             "ticks": ""
            },
            "colorscale": [
             [
              0,
              "#0d0887"
             ],
             [
              0.1111111111111111,
              "#46039f"
             ],
             [
              0.2222222222222222,
              "#7201a8"
             ],
             [
              0.3333333333333333,
              "#9c179e"
             ],
             [
              0.4444444444444444,
              "#bd3786"
             ],
             [
              0.5555555555555556,
              "#d8576b"
             ],
             [
              0.6666666666666666,
              "#ed7953"
             ],
             [
              0.7777777777777778,
              "#fb9f3a"
             ],
             [
              0.8888888888888888,
              "#fdca26"
             ],
             [
              1,
              "#f0f921"
             ]
            ],
            "type": "histogram2d"
           }
          ],
          "histogram2dcontour": [
           {
            "colorbar": {
             "outlinewidth": 0,
             "ticks": ""
            },
            "colorscale": [
             [
              0,
              "#0d0887"
             ],
             [
              0.1111111111111111,
              "#46039f"
             ],
             [
              0.2222222222222222,
              "#7201a8"
             ],
             [
              0.3333333333333333,
              "#9c179e"
             ],
             [
              0.4444444444444444,
              "#bd3786"
             ],
             [
              0.5555555555555556,
              "#d8576b"
             ],
             [
              0.6666666666666666,
              "#ed7953"
             ],
             [
              0.7777777777777778,
              "#fb9f3a"
             ],
             [
              0.8888888888888888,
              "#fdca26"
             ],
             [
              1,
              "#f0f921"
             ]
            ],
            "type": "histogram2dcontour"
           }
          ],
          "mesh3d": [
           {
            "colorbar": {
             "outlinewidth": 0,
             "ticks": ""
            },
            "type": "mesh3d"
           }
          ],
          "parcoords": [
           {
            "line": {
             "colorbar": {
              "outlinewidth": 0,
              "ticks": ""
             }
            },
            "type": "parcoords"
           }
          ],
          "pie": [
           {
            "automargin": true,
            "type": "pie"
           }
          ],
          "scatter": [
           {
            "fillpattern": {
             "fillmode": "overlay",
             "size": 10,
             "solidity": 0.2
            },
            "type": "scatter"
           }
          ],
          "scatter3d": [
           {
            "line": {
             "colorbar": {
              "outlinewidth": 0,
              "ticks": ""
             }
            },
            "marker": {
             "colorbar": {
              "outlinewidth": 0,
              "ticks": ""
             }
            },
            "type": "scatter3d"
           }
          ],
          "scattercarpet": [
           {
            "marker": {
             "colorbar": {
              "outlinewidth": 0,
              "ticks": ""
             }
            },
            "type": "scattercarpet"
           }
          ],
          "scattergeo": [
           {
            "marker": {
             "colorbar": {
              "outlinewidth": 0,
              "ticks": ""
             }
            },
            "type": "scattergeo"
           }
          ],
          "scattergl": [
           {
            "marker": {
             "colorbar": {
              "outlinewidth": 0,
              "ticks": ""
             }
            },
            "type": "scattergl"
           }
          ],
          "scattermapbox": [
           {
            "marker": {
             "colorbar": {
              "outlinewidth": 0,
              "ticks": ""
             }
            },
            "type": "scattermapbox"
           }
          ],
          "scatterpolar": [
           {
            "marker": {
             "colorbar": {
              "outlinewidth": 0,
              "ticks": ""
             }
            },
            "type": "scatterpolar"
           }
          ],
          "scatterpolargl": [
           {
            "marker": {
             "colorbar": {
              "outlinewidth": 0,
              "ticks": ""
             }
            },
            "type": "scatterpolargl"
           }
          ],
          "scatterternary": [
           {
            "marker": {
             "colorbar": {
              "outlinewidth": 0,
              "ticks": ""
             }
            },
            "type": "scatterternary"
           }
          ],
          "surface": [
           {
            "colorbar": {
             "outlinewidth": 0,
             "ticks": ""
            },
            "colorscale": [
             [
              0,
              "#0d0887"
             ],
             [
              0.1111111111111111,
              "#46039f"
             ],
             [
              0.2222222222222222,
              "#7201a8"
             ],
             [
              0.3333333333333333,
              "#9c179e"
             ],
             [
              0.4444444444444444,
              "#bd3786"
             ],
             [
              0.5555555555555556,
              "#d8576b"
             ],
             [
              0.6666666666666666,
              "#ed7953"
             ],
             [
              0.7777777777777778,
              "#fb9f3a"
             ],
             [
              0.8888888888888888,
              "#fdca26"
             ],
             [
              1,
              "#f0f921"
             ]
            ],
            "type": "surface"
           }
          ],
          "table": [
           {
            "cells": {
             "fill": {
              "color": "#EBF0F8"
             },
             "line": {
              "color": "white"
             }
            },
            "header": {
             "fill": {
              "color": "#C8D4E3"
             },
             "line": {
              "color": "white"
             }
            },
            "type": "table"
           }
          ]
         },
         "layout": {
          "annotationdefaults": {
           "arrowcolor": "#2a3f5f",
           "arrowhead": 0,
           "arrowwidth": 1
          },
          "autotypenumbers": "strict",
          "coloraxis": {
           "colorbar": {
            "outlinewidth": 0,
            "ticks": ""
           }
          },
          "colorscale": {
           "diverging": [
            [
             0,
             "#8e0152"
            ],
            [
             0.1,
             "#c51b7d"
            ],
            [
             0.2,
             "#de77ae"
            ],
            [
             0.3,
             "#f1b6da"
            ],
            [
             0.4,
             "#fde0ef"
            ],
            [
             0.5,
             "#f7f7f7"
            ],
            [
             0.6,
             "#e6f5d0"
            ],
            [
             0.7,
             "#b8e186"
            ],
            [
             0.8,
             "#7fbc41"
            ],
            [
             0.9,
             "#4d9221"
            ],
            [
             1,
             "#276419"
            ]
           ],
           "sequential": [
            [
             0,
             "#0d0887"
            ],
            [
             0.1111111111111111,
             "#46039f"
            ],
            [
             0.2222222222222222,
             "#7201a8"
            ],
            [
             0.3333333333333333,
             "#9c179e"
            ],
            [
             0.4444444444444444,
             "#bd3786"
            ],
            [
             0.5555555555555556,
             "#d8576b"
            ],
            [
             0.6666666666666666,
             "#ed7953"
            ],
            [
             0.7777777777777778,
             "#fb9f3a"
            ],
            [
             0.8888888888888888,
             "#fdca26"
            ],
            [
             1,
             "#f0f921"
            ]
           ],
           "sequentialminus": [
            [
             0,
             "#0d0887"
            ],
            [
             0.1111111111111111,
             "#46039f"
            ],
            [
             0.2222222222222222,
             "#7201a8"
            ],
            [
             0.3333333333333333,
             "#9c179e"
            ],
            [
             0.4444444444444444,
             "#bd3786"
            ],
            [
             0.5555555555555556,
             "#d8576b"
            ],
            [
             0.6666666666666666,
             "#ed7953"
            ],
            [
             0.7777777777777778,
             "#fb9f3a"
            ],
            [
             0.8888888888888888,
             "#fdca26"
            ],
            [
             1,
             "#f0f921"
            ]
           ]
          },
          "colorway": [
           "#636efa",
           "#EF553B",
           "#00cc96",
           "#ab63fa",
           "#FFA15A",
           "#19d3f3",
           "#FF6692",
           "#B6E880",
           "#FF97FF",
           "#FECB52"
          ],
          "font": {
           "color": "#2a3f5f"
          },
          "geo": {
           "bgcolor": "white",
           "lakecolor": "white",
           "landcolor": "#E5ECF6",
           "showlakes": true,
           "showland": true,
           "subunitcolor": "white"
          },
          "hoverlabel": {
           "align": "left"
          },
          "hovermode": "closest",
          "mapbox": {
           "style": "light"
          },
          "paper_bgcolor": "white",
          "plot_bgcolor": "#E5ECF6",
          "polar": {
           "angularaxis": {
            "gridcolor": "white",
            "linecolor": "white",
            "ticks": ""
           },
           "bgcolor": "#E5ECF6",
           "radialaxis": {
            "gridcolor": "white",
            "linecolor": "white",
            "ticks": ""
           }
          },
          "scene": {
           "xaxis": {
            "backgroundcolor": "#E5ECF6",
            "gridcolor": "white",
            "gridwidth": 2,
            "linecolor": "white",
            "showbackground": true,
            "ticks": "",
            "zerolinecolor": "white"
           },
           "yaxis": {
            "backgroundcolor": "#E5ECF6",
            "gridcolor": "white",
            "gridwidth": 2,
            "linecolor": "white",
            "showbackground": true,
            "ticks": "",
            "zerolinecolor": "white"
           },
           "zaxis": {
            "backgroundcolor": "#E5ECF6",
            "gridcolor": "white",
            "gridwidth": 2,
            "linecolor": "white",
            "showbackground": true,
            "ticks": "",
            "zerolinecolor": "white"
           }
          },
          "shapedefaults": {
           "line": {
            "color": "#2a3f5f"
           }
          },
          "ternary": {
           "aaxis": {
            "gridcolor": "white",
            "linecolor": "white",
            "ticks": ""
           },
           "baxis": {
            "gridcolor": "white",
            "linecolor": "white",
            "ticks": ""
           },
           "bgcolor": "#E5ECF6",
           "caxis": {
            "gridcolor": "white",
            "linecolor": "white",
            "ticks": ""
           }
          },
          "title": {
           "x": 0.05
          },
          "xaxis": {
           "automargin": true,
           "gridcolor": "white",
           "linecolor": "white",
           "ticks": "",
           "title": {
            "standoff": 15
           },
           "zerolinecolor": "white",
           "zerolinewidth": 2
          },
          "yaxis": {
           "automargin": true,
           "gridcolor": "white",
           "linecolor": "white",
           "ticks": "",
           "title": {
            "standoff": 15
           },
           "zerolinecolor": "white",
           "zerolinewidth": 2
          }
         }
        },
        "title": {
         "font": {
          "size": 24
         },
         "text": "Wine distribution map by country"
        },
        "width": 800
       }
      }
     },
     "metadata": {},
     "output_type": "display_data"
    }
   ],
   "source": [
    "# Creating a horopleth card using Plotly Express\n",
    "fig = px.choropleth(df_country, \n",
    "                    locations='Country', \n",
    "                    locationmode='country names', \n",
    "                    color='Count',  # We set the color depending on the number of samples\n",
    "                    hover_name='Country', \n",
    "                    color_continuous_scale=px.colors.sequential.Teal,  # Choosing a color palette\n",
    "                    title='Wine distribution map by country', width=800,  height=650\n",
    "                    \n",
    "                    )\n",
    "\n",
    "fig.update_layout(\n",
    "    title_font_size=24,  \n",
    "    legend_font_size=20,  \n",
    "    legend_title_font_size=18  \n",
    ")\n",
    "\n",
    "# Map Display\n",
    "fig.show()"
   ]
  },
  {
   "cell_type": "markdown",
   "metadata": {},
   "source": [
    "**Output:** Most of the wines in the dataset are from Spain, Italy, Australia and Chile, as these are the most popular wine regions, the rest of the wines are mainly from Europe and America, as these countries have the most developed winemaking."
   ]
  },
  {
   "cell_type": "markdown",
   "metadata": {},
   "source": [
    "### 2.2. Grape sort\n",
    "Let's estimate how many grape varieties are represented in the data"
   ]
  },
  {
   "cell_type": "code",
   "execution_count": null,
   "metadata": {},
   "outputs": [
    {
     "data": {
      "application/vnd.plotly.v1+json": {
       "config": {
        "plotlyServerURL": "https://plot.ly"
       },
       "data": [
        {
         "domain": {
          "x": [
           0,
           1
          ],
          "y": [
           0,
           1
          ]
         },
         "hovertemplate": "=%{label}<extra></extra>",
         "labels": [
          "Rubin",
          "Storgozia",
          "Tannat",
          "Albarino",
          "Albarino",
          "Albarino",
          "Albarino",
          "Albarino",
          "Albarino",
          "Tempranillo, Cabernet Sauvignon, Merlot",
          "Garnacha Tinta, Garno, Sauso, Mazuelo",
          "Carignan, Garnacha",
          "Tannat",
          "Tannat",
          "Cabernet Sauvignon",
          "Cabernet Sauvignon",
          "Mencía",
          "Merenzao",
          "Souson",
          "Brancellao",
          "Mouraton",
          "Malbek",
          "Malbek",
          "Malbek",
          "Malbek",
          "Airen",
          "Airen",
          "Airen",
          "Airen",
          "Devin",
          "Albillo",
          "Albillo",
          "Albillo",
          "Inzolia",
          "Inzolia",
          "Inzolia",
          "Inzolia",
          "Inzolia",
          "Inzolia",
          "Inzolia",
          "Inzolia",
          "Inzolia",
          "Inzolia",
          "Inzolia",
          "Inzolia",
          "Xarello",
          "Albarino",
          "Treixadura",
          "Torrontes",
          "Tempranillo",
          "Tempranillo",
          "Tempranillo",
          "Tempranillo",
          "Tempranillo",
          "Tempranillo",
          "Maturana",
          "Maturana",
          "Maturana",
          "Merlot",
          "Merlot",
          "Merlot",
          "Merlot",
          "Merlot",
          "Merlot",
          "Merlot",
          "Merlot",
          "Merlot",
          "Chardonnay",
          "Chardonnay",
          "Chardonnay",
          "Malvasia",
          "Malvasia",
          "Godello",
          "Godello",
          "Godello",
          "Godello",
          "Godello",
          "Godello",
          "Pedro Ximenez",
          "Pedro Ximenez",
          "Pedro Ximenez",
          "Pedro Ximenez",
          "Pedro Ximenez",
          "Monastrell",
          "Monastrell",
          "Monastrell",
          "Monastrell",
          "Monastrell",
          "Monastrell",
          "Monastrell",
          "Monastrell",
          "Tempranillo",
          "Tempranillo",
          "Tempranillo",
          "Tempranillo",
          "Tempranillo",
          "Tempranillo",
          "Tempranillo",
          "Tempranillo",
          "Tempranillo",
          "Furmint",
          "Lipovina",
          "Muskat",
          "Carignan",
          "Carignan",
          "Carignan",
          "Carignan",
          "Carignan",
          "Carignan",
          "Carignan",
          "Carignan",
          "Carignan",
          "Carignan",
          "Carignan",
          "Carignan",
          "Carignan",
          "Carignan",
          "Carignan",
          "Cabernet Sauvignon",
          "Cabernet Sauvignon",
          "Cabernet Sauvignon",
          "Cabernet Sauvignon",
          "Cabernet Sauvignon",
          "Cabernet Sauvignon",
          "Cabernet Sauvignon",
          "Cabernet Sauvignon",
          "Cabernet Sauvignon",
          "Cabernet Sauvignon",
          "Cabernet Sauvignon",
          "Cabernet Sauvignon",
          "Tempranillo",
          "Tempranillo",
          "Tempranillo",
          "Tempranillo",
          "Tempranillo",
          "Chardonnay",
          "Chardonnay",
          "Muscat",
          "Muscat",
          "Riesling",
          "Riesling",
          "Sauvignon blanc",
          "Sauvignon blanc",
          "Merlot",
          "Merlot",
          "Merlot",
          "Merlot",
          "Merlot",
          "syrah",
          "syrah",
          "syrah",
          "Cabernet Sauvignon",
          "Cabernet Sauvignon",
          "Cabernet Sauvignon",
          "Merlot",
          "Merlot",
          "Merlot",
          "Pinot noir",
          "Pinot noir",
          "Pinot noir",
          "syrah",
          "syrah",
          "syrah",
          "Malbec",
          "Malbec",
          "Malbec",
          "Malbec",
          "Malbec",
          "Trebbiano",
          "Trebbiano",
          "Trebbiano",
          "Trebbiano",
          "Trebbiano",
          "Trebbiano",
          "Trebbiano",
          "Trebbiano",
          "Trebbiano",
          "Trebbiano",
          "Trebbiano",
          "Trebbiano",
          "Trebbiano",
          "Riesling",
          "Riesling",
          "Riesling",
          "Riesling",
          "Cabernet Sauvignon",
          "Cabernet Sauvignon",
          "Cabernet Sauvignon",
          "Cabernet Sauvignon",
          "Cabernet Sauvignon",
          "Cabernet Sauvignon",
          "Cabernet Sauvignon",
          "Cabernet Sauvignon",
          "Cabernet Sauvignon",
          "Cabernet Sauvignon",
          "Aglianico",
          "Aglianico",
          "Aglianico",
          "Aglianico",
          "Aglianico",
          "Fiano",
          "Fiano",
          "Fiano",
          "Fiano",
          "Fiano",
          "Carignan",
          "Carignan",
          "Carignan",
          "Carignan",
          "Carignan",
          "Carignan",
          "Moravia Agria",
          "Moravia Agria",
          "Moravia Agria",
          "Moravia Agria",
          "Moravia Agria",
          "Moravia Agria",
          "Moravia Agria",
          "Arneis",
          "Arneis",
          "Arneis",
          "Pelaverga",
          "Pelaverga",
          "Pelaverga",
          "Barbera",
          "Barbera",
          "Barbera",
          "syrah",
          "syrah",
          "syrah",
          "syrah",
          "syrah",
          "syrah",
          "Monastrell",
          "Monastrell",
          "Monastrell",
          "Monastrell",
          "Monastrell",
          "Monastrell",
          "Monastrell",
          "Cabernet Sauvignon",
          "Cabernet Sauvignon",
          "Cabernet Sauvignon",
          "Cabernet Sauvignon",
          "Cabernet Sauvignon",
          "Cabernet Sauvignon",
          "Cabernet Sauvignon",
          "Cabernet Sauvignon",
          "Cabernet Sauvignon",
          "Cabernet Sauvignon",
          "Cabernet Sauvignon",
          "Malvasia",
          "Malvasia",
          "Malvasia",
          "Malvasia",
          "Malvasia",
          "Malvasia",
          "Merlot",
          "Merlot",
          "Merlot",
          "Merlot",
          "Merlot",
          "Merlot",
          "Cabernet Franc",
          "Cabernet Franc",
          "Cabernet Franc",
          "Verdejo",
          "Albarino",
          "Albarino",
          "Godello",
          "Tempranillo",
          "Garnacha",
          "Tempranillo",
          "Tempranillo, Graciano, Mazuelo",
          "Tempranillo",
          "Tempranillo",
          "Chardonnay",
          "Chardonnay",
          "Chardonnay",
          "Chardonnay",
          "Hibernal",
          "Hibernal",
          "Pinot noir",
          "Pinot noir",
          "Pinot noir",
          "Pinot noir",
          "Sauvignon Blanc",
          "Sauvignon Blanc",
          "Sauvignon Blanc",
          "Sauvignon Blanc",
          "Nero d’Avola",
          "Nero d’Avola",
          "Nero d’Avola",
          "Nero d’Avola",
          "Cabernet Sauvignon",
          "syrah",
          "syrah",
          "Syrah",
          "Syrah",
          "Treixadura",
          "Treixadura",
          "Treixadura",
          "Treixadura",
          "Treixadura",
          "Treixadura",
          "Colombard",
          "Colombard",
          "Colombard",
          "Colombard",
          "Colombard",
          "Colombard",
          "Chardonnay",
          "Chardonnay",
          "Chardonnay",
          "Chardonnay",
          "Chardonnay",
          "Chardonnay",
          "syrah",
          "syrah",
          "syrah",
          "syrah",
          "Garganega",
          "Garganega",
          "Garganega",
          "Syrah",
          "Syrah",
          "Cabernet Sauvignon",
          "Cabernet Sauvignon",
          "Cabernet Sauvignon",
          "Cabernet Sauvignon",
          "Cabernet Sauvignon",
          "Cabernet Sauvignon",
          "Cabernet Sauvignon",
          "Catarratto bianco lucido",
          "Catarratto bianco lucido",
          "Catarratto bianco lucido",
          "Catarratto bianco lucido",
          "Catarratto bianco lucido",
          "Catarratto bianco lucido",
          "Catarratto bianco lucido",
          "Catarratto bianco lucido",
          "Airen",
          "Airen",
          "Airen",
          "Airen",
          "Airen",
          "Macabeo",
          "Macabeo",
          "syrah",
          "Cabernet Sauvignon",
          "Chardonnay",
          "Chardonnay",
          "Chardonnay",
          "Chardonnay",
          "Tempranillo",
          "Tempranillo",
          "Tempranillo",
          "Tempranillo",
          "Touriga Franca",
          "Touriga Franca",
          "Touriga Franca",
          "Touriga Franca",
          "Tempranillo",
          "Tempranillo",
          "Tempranillo",
          "Graciano",
          "Graciano",
          "Graciano",
          "Treixadura",
          "Treixadura",
          "Treixadura",
          "Treixadura",
          "Treixadura",
          "Treixadura",
          "Sauvignon blanc",
          "Sauvignon blanc",
          "Sauvignon blanc",
          "Monastrell",
          "Cabernet Sauvignon",
          "Monastrell, Cabernet Sauvignon",
          "Monastrell, Cabernet Sauvignon",
          "Monastrell, Cabernet Sauvignon",
          "Monastrell, Cabernet Sauvignon",
          "Monastrell, Syrah",
          "Monastrell, Syrah",
          "Monastrell, Syrah",
          "Monastrell, Tempranillo",
          "Monastrell, Tempranillo",
          "Monastrell",
          "Monastrell",
          "Monastrell",
          "Monastrell",
          "Cabernet Sauvignon",
          "Monastrell, Cabernet Sauvignon",
          "Monastrell, Cabernet Sauvignon",
          "Monastrell, Cabernet Sauvignon",
          "Monastrell, Cabernet Sauvignon",
          "Monastrell, Syrah",
          "Monastrell, Syrah",
          "Monastrell, Syrah",
          "Monastrell, Tempranillo",
          "Monastrell",
          "Monastrell",
          "Monastrell",
          "Pinot noir",
          "Pinot noir",
          "Pinot noir",
          "Pinot noir",
          "Pinot noir",
          "Pinot noir",
          "Pinot noir",
          "Pinot noir",
          "Malvar",
          "Airen",
          "Trepat",
          "Monastrell",
          "Lugana",
          "Lugana",
          "Lugana",
          "Lugana",
          "Lugana",
          "Lugana",
          "Verdicchio",
          "Verdicchio",
          "Verdicchio",
          "Verdicchio",
          "Verdicchio",
          "Verdicchio",
          "Verdicchio",
          null,
          null,
          null,
          null,
          null,
          null,
          "Gewurztraminer",
          "Gewurztraminer",
          "Gewurztraminer",
          "Verdelho",
          "Verdelho",
          "Verdelho",
          "Petit Verdot",
          "Petit Verdot",
          "Tannat",
          "Tannat",
          "Tannat",
          "Tannat",
          "Tannat",
          "Tannat"
         ],
         "legendgroup": "",
         "name": "",
         "showlegend": true,
         "textinfo": "label+percent",
         "textposition": "inside",
         "type": "pie"
        }
       ],
       "layout": {
        "height": 650,
        "legend": {
         "font": {
          "size": 20
         },
         "title": {
          "font": {
           "size": 18
          }
         },
         "tracegroupgap": 0
        },
        "margin": {
         "t": 60
        },
        "piecolorway": [
         "rgb(42, 86, 116)",
         "rgb(59, 115, 143)",
         "rgb(79, 144, 166)",
         "rgb(104, 171, 184)",
         "rgb(133, 196, 201)",
         "rgb(168, 219, 217)",
         "rgb(209, 238, 234)"
        ],
        "template": {
         "data": {
          "bar": [
           {
            "error_x": {
             "color": "#2a3f5f"
            },
            "error_y": {
             "color": "#2a3f5f"
            },
            "marker": {
             "line": {
              "color": "#E5ECF6",
              "width": 0.5
             },
             "pattern": {
              "fillmode": "overlay",
              "size": 10,
              "solidity": 0.2
             }
            },
            "type": "bar"
           }
          ],
          "barpolar": [
           {
            "marker": {
             "line": {
              "color": "#E5ECF6",
              "width": 0.5
             },
             "pattern": {
              "fillmode": "overlay",
              "size": 10,
              "solidity": 0.2
             }
            },
            "type": "barpolar"
           }
          ],
          "carpet": [
           {
            "aaxis": {
             "endlinecolor": "#2a3f5f",
             "gridcolor": "white",
             "linecolor": "white",
             "minorgridcolor": "white",
             "startlinecolor": "#2a3f5f"
            },
            "baxis": {
             "endlinecolor": "#2a3f5f",
             "gridcolor": "white",
             "linecolor": "white",
             "minorgridcolor": "white",
             "startlinecolor": "#2a3f5f"
            },
            "type": "carpet"
           }
          ],
          "choropleth": [
           {
            "colorbar": {
             "outlinewidth": 0,
             "ticks": ""
            },
            "type": "choropleth"
           }
          ],
          "contour": [
           {
            "colorbar": {
             "outlinewidth": 0,
             "ticks": ""
            },
            "colorscale": [
             [
              0,
              "#0d0887"
             ],
             [
              0.1111111111111111,
              "#46039f"
             ],
             [
              0.2222222222222222,
              "#7201a8"
             ],
             [
              0.3333333333333333,
              "#9c179e"
             ],
             [
              0.4444444444444444,
              "#bd3786"
             ],
             [
              0.5555555555555556,
              "#d8576b"
             ],
             [
              0.6666666666666666,
              "#ed7953"
             ],
             [
              0.7777777777777778,
              "#fb9f3a"
             ],
             [
              0.8888888888888888,
              "#fdca26"
             ],
             [
              1,
              "#f0f921"
             ]
            ],
            "type": "contour"
           }
          ],
          "contourcarpet": [
           {
            "colorbar": {
             "outlinewidth": 0,
             "ticks": ""
            },
            "type": "contourcarpet"
           }
          ],
          "heatmap": [
           {
            "colorbar": {
             "outlinewidth": 0,
             "ticks": ""
            },
            "colorscale": [
             [
              0,
              "#0d0887"
             ],
             [
              0.1111111111111111,
              "#46039f"
             ],
             [
              0.2222222222222222,
              "#7201a8"
             ],
             [
              0.3333333333333333,
              "#9c179e"
             ],
             [
              0.4444444444444444,
              "#bd3786"
             ],
             [
              0.5555555555555556,
              "#d8576b"
             ],
             [
              0.6666666666666666,
              "#ed7953"
             ],
             [
              0.7777777777777778,
              "#fb9f3a"
             ],
             [
              0.8888888888888888,
              "#fdca26"
             ],
             [
              1,
              "#f0f921"
             ]
            ],
            "type": "heatmap"
           }
          ],
          "heatmapgl": [
           {
            "colorbar": {
             "outlinewidth": 0,
             "ticks": ""
            },
            "colorscale": [
             [
              0,
              "#0d0887"
             ],
             [
              0.1111111111111111,
              "#46039f"
             ],
             [
              0.2222222222222222,
              "#7201a8"
             ],
             [
              0.3333333333333333,
              "#9c179e"
             ],
             [
              0.4444444444444444,
              "#bd3786"
             ],
             [
              0.5555555555555556,
              "#d8576b"
             ],
             [
              0.6666666666666666,
              "#ed7953"
             ],
             [
              0.7777777777777778,
              "#fb9f3a"
             ],
             [
              0.8888888888888888,
              "#fdca26"
             ],
             [
              1,
              "#f0f921"
             ]
            ],
            "type": "heatmapgl"
           }
          ],
          "histogram": [
           {
            "marker": {
             "pattern": {
              "fillmode": "overlay",
              "size": 10,
              "solidity": 0.2
             }
            },
            "type": "histogram"
           }
          ],
          "histogram2d": [
           {
            "colorbar": {
             "outlinewidth": 0,
             "ticks": ""
            },
            "colorscale": [
             [
              0,
              "#0d0887"
             ],
             [
              0.1111111111111111,
              "#46039f"
             ],
             [
              0.2222222222222222,
              "#7201a8"
             ],
             [
              0.3333333333333333,
              "#9c179e"
             ],
             [
              0.4444444444444444,
              "#bd3786"
             ],
             [
              0.5555555555555556,
              "#d8576b"
             ],
             [
              0.6666666666666666,
              "#ed7953"
             ],
             [
              0.7777777777777778,
              "#fb9f3a"
             ],
             [
              0.8888888888888888,
              "#fdca26"
             ],
             [
              1,
              "#f0f921"
             ]
            ],
            "type": "histogram2d"
           }
          ],
          "histogram2dcontour": [
           {
            "colorbar": {
             "outlinewidth": 0,
             "ticks": ""
            },
            "colorscale": [
             [
              0,
              "#0d0887"
             ],
             [
              0.1111111111111111,
              "#46039f"
             ],
             [
              0.2222222222222222,
              "#7201a8"
             ],
             [
              0.3333333333333333,
              "#9c179e"
             ],
             [
              0.4444444444444444,
              "#bd3786"
             ],
             [
              0.5555555555555556,
              "#d8576b"
             ],
             [
              0.6666666666666666,
              "#ed7953"
             ],
             [
              0.7777777777777778,
              "#fb9f3a"
             ],
             [
              0.8888888888888888,
              "#fdca26"
             ],
             [
              1,
              "#f0f921"
             ]
            ],
            "type": "histogram2dcontour"
           }
          ],
          "mesh3d": [
           {
            "colorbar": {
             "outlinewidth": 0,
             "ticks": ""
            },
            "type": "mesh3d"
           }
          ],
          "parcoords": [
           {
            "line": {
             "colorbar": {
              "outlinewidth": 0,
              "ticks": ""
             }
            },
            "type": "parcoords"
           }
          ],
          "pie": [
           {
            "automargin": true,
            "type": "pie"
           }
          ],
          "scatter": [
           {
            "fillpattern": {
             "fillmode": "overlay",
             "size": 10,
             "solidity": 0.2
            },
            "type": "scatter"
           }
          ],
          "scatter3d": [
           {
            "line": {
             "colorbar": {
              "outlinewidth": 0,
              "ticks": ""
             }
            },
            "marker": {
             "colorbar": {
              "outlinewidth": 0,
              "ticks": ""
             }
            },
            "type": "scatter3d"
           }
          ],
          "scattercarpet": [
           {
            "marker": {
             "colorbar": {
              "outlinewidth": 0,
              "ticks": ""
             }
            },
            "type": "scattercarpet"
           }
          ],
          "scattergeo": [
           {
            "marker": {
             "colorbar": {
              "outlinewidth": 0,
              "ticks": ""
             }
            },
            "type": "scattergeo"
           }
          ],
          "scattergl": [
           {
            "marker": {
             "colorbar": {
              "outlinewidth": 0,
              "ticks": ""
             }
            },
            "type": "scattergl"
           }
          ],
          "scattermapbox": [
           {
            "marker": {
             "colorbar": {
              "outlinewidth": 0,
              "ticks": ""
             }
            },
            "type": "scattermapbox"
           }
          ],
          "scatterpolar": [
           {
            "marker": {
             "colorbar": {
              "outlinewidth": 0,
              "ticks": ""
             }
            },
            "type": "scatterpolar"
           }
          ],
          "scatterpolargl": [
           {
            "marker": {
             "colorbar": {
              "outlinewidth": 0,
              "ticks": ""
             }
            },
            "type": "scatterpolargl"
           }
          ],
          "scatterternary": [
           {
            "marker": {
             "colorbar": {
              "outlinewidth": 0,
              "ticks": ""
             }
            },
            "type": "scatterternary"
           }
          ],
          "surface": [
           {
            "colorbar": {
             "outlinewidth": 0,
             "ticks": ""
            },
            "colorscale": [
             [
              0,
              "#0d0887"
             ],
             [
              0.1111111111111111,
              "#46039f"
             ],
             [
              0.2222222222222222,
              "#7201a8"
             ],
             [
              0.3333333333333333,
              "#9c179e"
             ],
             [
              0.4444444444444444,
              "#bd3786"
             ],
             [
              0.5555555555555556,
              "#d8576b"
             ],
             [
              0.6666666666666666,
              "#ed7953"
             ],
             [
              0.7777777777777778,
              "#fb9f3a"
             ],
             [
              0.8888888888888888,
              "#fdca26"
             ],
             [
              1,
              "#f0f921"
             ]
            ],
            "type": "surface"
           }
          ],
          "table": [
           {
            "cells": {
             "fill": {
              "color": "#EBF0F8"
             },
             "line": {
              "color": "white"
             }
            },
            "header": {
             "fill": {
              "color": "#C8D4E3"
             },
             "line": {
              "color": "white"
             }
            },
            "type": "table"
           }
          ]
         },
         "layout": {
          "annotationdefaults": {
           "arrowcolor": "#2a3f5f",
           "arrowhead": 0,
           "arrowwidth": 1
          },
          "autotypenumbers": "strict",
          "coloraxis": {
           "colorbar": {
            "outlinewidth": 0,
            "ticks": ""
           }
          },
          "colorscale": {
           "diverging": [
            [
             0,
             "#8e0152"
            ],
            [
             0.1,
             "#c51b7d"
            ],
            [
             0.2,
             "#de77ae"
            ],
            [
             0.3,
             "#f1b6da"
            ],
            [
             0.4,
             "#fde0ef"
            ],
            [
             0.5,
             "#f7f7f7"
            ],
            [
             0.6,
             "#e6f5d0"
            ],
            [
             0.7,
             "#b8e186"
            ],
            [
             0.8,
             "#7fbc41"
            ],
            [
             0.9,
             "#4d9221"
            ],
            [
             1,
             "#276419"
            ]
           ],
           "sequential": [
            [
             0,
             "#0d0887"
            ],
            [
             0.1111111111111111,
             "#46039f"
            ],
            [
             0.2222222222222222,
             "#7201a8"
            ],
            [
             0.3333333333333333,
             "#9c179e"
            ],
            [
             0.4444444444444444,
             "#bd3786"
            ],
            [
             0.5555555555555556,
             "#d8576b"
            ],
            [
             0.6666666666666666,
             "#ed7953"
            ],
            [
             0.7777777777777778,
             "#fb9f3a"
            ],
            [
             0.8888888888888888,
             "#fdca26"
            ],
            [
             1,
             "#f0f921"
            ]
           ],
           "sequentialminus": [
            [
             0,
             "#0d0887"
            ],
            [
             0.1111111111111111,
             "#46039f"
            ],
            [
             0.2222222222222222,
             "#7201a8"
            ],
            [
             0.3333333333333333,
             "#9c179e"
            ],
            [
             0.4444444444444444,
             "#bd3786"
            ],
            [
             0.5555555555555556,
             "#d8576b"
            ],
            [
             0.6666666666666666,
             "#ed7953"
            ],
            [
             0.7777777777777778,
             "#fb9f3a"
            ],
            [
             0.8888888888888888,
             "#fdca26"
            ],
            [
             1,
             "#f0f921"
            ]
           ]
          },
          "colorway": [
           "#636efa",
           "#EF553B",
           "#00cc96",
           "#ab63fa",
           "#FFA15A",
           "#19d3f3",
           "#FF6692",
           "#B6E880",
           "#FF97FF",
           "#FECB52"
          ],
          "font": {
           "color": "#2a3f5f"
          },
          "geo": {
           "bgcolor": "white",
           "lakecolor": "white",
           "landcolor": "#E5ECF6",
           "showlakes": true,
           "showland": true,
           "subunitcolor": "white"
          },
          "hoverlabel": {
           "align": "left"
          },
          "hovermode": "closest",
          "mapbox": {
           "style": "light"
          },
          "paper_bgcolor": "white",
          "plot_bgcolor": "#E5ECF6",
          "polar": {
           "angularaxis": {
            "gridcolor": "white",
            "linecolor": "white",
            "ticks": ""
           },
           "bgcolor": "#E5ECF6",
           "radialaxis": {
            "gridcolor": "white",
            "linecolor": "white",
            "ticks": ""
           }
          },
          "scene": {
           "xaxis": {
            "backgroundcolor": "#E5ECF6",
            "gridcolor": "white",
            "gridwidth": 2,
            "linecolor": "white",
            "showbackground": true,
            "ticks": "",
            "zerolinecolor": "white"
           },
           "yaxis": {
            "backgroundcolor": "#E5ECF6",
            "gridcolor": "white",
            "gridwidth": 2,
            "linecolor": "white",
            "showbackground": true,
            "ticks": "",
            "zerolinecolor": "white"
           },
           "zaxis": {
            "backgroundcolor": "#E5ECF6",
            "gridcolor": "white",
            "gridwidth": 2,
            "linecolor": "white",
            "showbackground": true,
            "ticks": "",
            "zerolinecolor": "white"
           }
          },
          "shapedefaults": {
           "line": {
            "color": "#2a3f5f"
           }
          },
          "ternary": {
           "aaxis": {
            "gridcolor": "white",
            "linecolor": "white",
            "ticks": ""
           },
           "baxis": {
            "gridcolor": "white",
            "linecolor": "white",
            "ticks": ""
           },
           "bgcolor": "#E5ECF6",
           "caxis": {
            "gridcolor": "white",
            "linecolor": "white",
            "ticks": ""
           }
          },
          "title": {
           "x": 0.05
          },
          "xaxis": {
           "automargin": true,
           "gridcolor": "white",
           "linecolor": "white",
           "ticks": "",
           "title": {
            "standoff": 15
           },
           "zerolinecolor": "white",
           "zerolinewidth": 2
          },
          "yaxis": {
           "automargin": true,
           "gridcolor": "white",
           "linecolor": "white",
           "ticks": "",
           "title": {
            "standoff": 15
           },
           "zerolinecolor": "white",
           "zerolinewidth": 2
          }
         }
        },
        "title": {
         "font": {
          "size": 24
         }
        },
        "width": 800
       }
      }
     },
     "metadata": {},
     "output_type": "display_data"
    }
   ],
   "source": [
    "# Creating a pie chart\n",
    "fig = px.pie(wine_aroma_df, \n",
    "             names='Grape sort', \n",
    "             color_discrete_sequence = px.colors.sequential.Teal_r,\n",
    "             labels={'Grape sort': ''}, \n",
    "             width=800,  height=650  # Removing the percentage values\n",
    "            )\n",
    "\n",
    "# Setting labels\n",
    "fig.update_traces(textposition='inside', textinfo='label+percent')\n",
    "\n",
    "fig.update_layout(\n",
    "    title_font_size=24,  \n",
    "    legend_font_size=20,  \n",
    "    legend_title_font_size=18 \n",
    ")\n",
    "\n",
    "# Chart Display\n",
    "fig.show()"
   ]
  },
  {
   "cell_type": "markdown",
   "metadata": {},
   "source": [
    "**Output** In the diagram, you can see that there is no clear predominance of one or more varieties, different varieties are represented, so this dataset is representative"
   ]
  },
  {
   "cell_type": "markdown",
   "metadata": {},
   "source": [
    "### 2.3. Year\n",
    "Let's also consider the distribution of data by year"
   ]
  },
  {
   "cell_type": "code",
   "execution_count": null,
   "metadata": {},
   "outputs": [
    {
     "data": {
      "application/vnd.plotly.v1+json": {
       "config": {
        "plotlyServerURL": "https://plot.ly"
       },
       "data": [
        {
         "alignmentgroup": "True",
         "bingroup": "x",
         "hovertemplate": "Year=%{x}<br>count=%{y}<extra></extra>",
         "legendgroup": "",
         "marker": {
          "color": "#3b738e",
          "pattern": {
           "shape": ""
          }
         },
         "name": "",
         "offsetgroup": "",
         "orientation": "v",
         "showlegend": false,
         "type": "histogram",
         "x": [
          2017,
          2017,
          2000,
          2015,
          2015,
          2016,
          2016,
          2017,
          2017,
          1998,
          1998,
          1999,
          2000,
          2004,
          2006,
          2006,
          2008,
          2008,
          2008,
          2008,
          2008,
          2013,
          2014,
          2015,
          2016,
          1993,
          1992,
          1991,
          1990,
          2005,
          2006,
          2006,
          2006,
          2006,
          2006,
          2006,
          2006,
          2006,
          2006,
          2006,
          2006,
          2006,
          2006,
          2006,
          2006,
          2006,
          2008,
          2008,
          2008,
          2014,
          2014,
          2015,
          2015,
          2016,
          2016,
          2018,
          2018,
          2018,
          2015,
          2015,
          2015,
          2015,
          2015,
          2015,
          2015,
          2015,
          2015,
          2012,
          2012,
          2012,
          2014,
          2014,
          2012,
          2012,
          2013,
          2013,
          2014,
          2014,
          2010,
          2010,
          2010,
          2010,
          2010,
          1996,
          1996,
          1996,
          1996,
          1996,
          1996,
          1996,
          1996,
          2008,
          2008,
          2008,
          2008,
          2008,
          2018,
          2018,
          2019,
          2019,
          2020,
          2020,
          2020,
          2016,
          2016,
          2016,
          2016,
          2016,
          2015,
          2015,
          2015,
          2015,
          2015,
          2015,
          2015,
          2015,
          2015,
          2015,
          2014,
          2014,
          2014,
          2015,
          2015,
          2015,
          2015,
          2015,
          2015,
          2015,
          2015,
          2015,
          2013,
          2013,
          2013,
          2013,
          2013,
          2017,
          2017,
          2009,
          2009,
          2015,
          2015,
          2017,
          2017,
          2002,
          2002,
          2003,
          2003,
          2004,
          2006,
          2006,
          2006,
          2017,
          2017,
          2017,
          2017,
          2017,
          2017,
          2017,
          2017,
          2017,
          2017,
          2017,
          2017,
          2017,
          2017,
          2018,
          2018,
          2018,
          1998,
          1998,
          1998,
          1998,
          1998,
          1998,
          1998,
          1998,
          1998,
          1998,
          1998,
          1998,
          1998,
          2016,
          2016,
          2016,
          2016,
          2015,
          2015,
          2015,
          2015,
          2015,
          2015,
          2015,
          2015,
          2015,
          2015,
          2017,
          2017,
          2017,
          2017,
          2017,
          2017,
          2017,
          2017,
          2017,
          2017,
          2014,
          2014,
          2014,
          2014,
          2016,
          2016,
          2020,
          2020,
          2020,
          2020,
          2020,
          2020,
          2020,
          2011,
          2011,
          2011,
          2011,
          2011,
          2011,
          2011,
          2011,
          2011,
          2007,
          2007,
          2007,
          2007,
          2007,
          2007,
          2016,
          2016,
          2016,
          2016,
          2016,
          2016,
          2016,
          2006,
          2006,
          2006,
          2006,
          2006,
          2006,
          2006,
          2006,
          2006,
          2006,
          2006,
          2015,
          2015,
          2015,
          2015,
          2015,
          2015,
          2009,
          2009,
          2009,
          2009,
          2009,
          2009,
          2016,
          2016,
          2016,
          2019,
          2019,
          2019,
          2019,
          2019,
          2019,
          2019,
          2019,
          2019,
          2019,
          2003,
          2003,
          2003,
          2003,
          2020,
          2020,
          2018,
          2018,
          2019,
          2019,
          2018,
          2018,
          2018,
          2018,
          2017,
          2017,
          2017,
          2017,
          2015,
          2006,
          2006,
          2014,
          2014,
          2012,
          2012,
          2013,
          2013,
          2014,
          2014,
          2018,
          2018,
          2018,
          2018,
          2018,
          2018,
          2015,
          2015,
          2015,
          2015,
          2015,
          2015,
          2014,
          2014,
          2014,
          2014,
          2015,
          2015,
          2015,
          2013,
          2015,
          2018,
          2018,
          2018,
          2018,
          2018,
          2018,
          2018,
          2019,
          2019,
          2019,
          2019,
          2019,
          2019,
          2019,
          2019,
          2011,
          2011,
          2011,
          2006,
          2006,
          2006,
          2006,
          2014,
          2014,
          2010,
          2010,
          2010,
          2010,
          2020,
          2020,
          2020,
          2020,
          2005,
          2005,
          2005,
          2006,
          2012,
          2012,
          2012,
          2012,
          2012,
          2012,
          2019,
          2019,
          2019,
          2019,
          2019,
          2019,
          2008,
          2008,
          2008,
          2016,
          2016,
          2016,
          2016,
          2016,
          2016,
          2016,
          2016,
          2016,
          2016,
          2016,
          2016,
          2016,
          2016,
          2017,
          2017,
          2017,
          2017,
          2017,
          2017,
          2017,
          2017,
          2017,
          2017,
          2017,
          2017,
          2017,
          2009,
          2009,
          2010,
          2010,
          2010,
          2011,
          2011,
          2011,
          1999,
          1998,
          1998,
          1998,
          2016,
          2016,
          2017,
          2017,
          2018,
          2016,
          2017,
          2016,
          2017,
          2017,
          2017,
          2018,
          2017,
          2012,
          2012,
          2012,
          2012,
          2012,
          2012,
          2011,
          2011,
          2012,
          2016,
          2016,
          2016,
          2016,
          2016,
          2005,
          2005,
          2005,
          2005,
          2005,
          2005
         ],
         "xaxis": "x",
         "yaxis": "y"
        }
       ],
       "layout": {
        "barmode": "relative",
        "height": 650,
        "legend": {
         "font": {
          "size": 20
         },
         "title": {
          "font": {
           "size": 18
          }
         },
         "tracegroupgap": 0
        },
        "margin": {
         "t": 60
        },
        "template": {
         "data": {
          "bar": [
           {
            "error_x": {
             "color": "#2a3f5f"
            },
            "error_y": {
             "color": "#2a3f5f"
            },
            "marker": {
             "line": {
              "color": "#E5ECF6",
              "width": 0.5
             },
             "pattern": {
              "fillmode": "overlay",
              "size": 10,
              "solidity": 0.2
             }
            },
            "type": "bar"
           }
          ],
          "barpolar": [
           {
            "marker": {
             "line": {
              "color": "#E5ECF6",
              "width": 0.5
             },
             "pattern": {
              "fillmode": "overlay",
              "size": 10,
              "solidity": 0.2
             }
            },
            "type": "barpolar"
           }
          ],
          "carpet": [
           {
            "aaxis": {
             "endlinecolor": "#2a3f5f",
             "gridcolor": "white",
             "linecolor": "white",
             "minorgridcolor": "white",
             "startlinecolor": "#2a3f5f"
            },
            "baxis": {
             "endlinecolor": "#2a3f5f",
             "gridcolor": "white",
             "linecolor": "white",
             "minorgridcolor": "white",
             "startlinecolor": "#2a3f5f"
            },
            "type": "carpet"
           }
          ],
          "choropleth": [
           {
            "colorbar": {
             "outlinewidth": 0,
             "ticks": ""
            },
            "type": "choropleth"
           }
          ],
          "contour": [
           {
            "colorbar": {
             "outlinewidth": 0,
             "ticks": ""
            },
            "colorscale": [
             [
              0,
              "#0d0887"
             ],
             [
              0.1111111111111111,
              "#46039f"
             ],
             [
              0.2222222222222222,
              "#7201a8"
             ],
             [
              0.3333333333333333,
              "#9c179e"
             ],
             [
              0.4444444444444444,
              "#bd3786"
             ],
             [
              0.5555555555555556,
              "#d8576b"
             ],
             [
              0.6666666666666666,
              "#ed7953"
             ],
             [
              0.7777777777777778,
              "#fb9f3a"
             ],
             [
              0.8888888888888888,
              "#fdca26"
             ],
             [
              1,
              "#f0f921"
             ]
            ],
            "type": "contour"
           }
          ],
          "contourcarpet": [
           {
            "colorbar": {
             "outlinewidth": 0,
             "ticks": ""
            },
            "type": "contourcarpet"
           }
          ],
          "heatmap": [
           {
            "colorbar": {
             "outlinewidth": 0,
             "ticks": ""
            },
            "colorscale": [
             [
              0,
              "#0d0887"
             ],
             [
              0.1111111111111111,
              "#46039f"
             ],
             [
              0.2222222222222222,
              "#7201a8"
             ],
             [
              0.3333333333333333,
              "#9c179e"
             ],
             [
              0.4444444444444444,
              "#bd3786"
             ],
             [
              0.5555555555555556,
              "#d8576b"
             ],
             [
              0.6666666666666666,
              "#ed7953"
             ],
             [
              0.7777777777777778,
              "#fb9f3a"
             ],
             [
              0.8888888888888888,
              "#fdca26"
             ],
             [
              1,
              "#f0f921"
             ]
            ],
            "type": "heatmap"
           }
          ],
          "heatmapgl": [
           {
            "colorbar": {
             "outlinewidth": 0,
             "ticks": ""
            },
            "colorscale": [
             [
              0,
              "#0d0887"
             ],
             [
              0.1111111111111111,
              "#46039f"
             ],
             [
              0.2222222222222222,
              "#7201a8"
             ],
             [
              0.3333333333333333,
              "#9c179e"
             ],
             [
              0.4444444444444444,
              "#bd3786"
             ],
             [
              0.5555555555555556,
              "#d8576b"
             ],
             [
              0.6666666666666666,
              "#ed7953"
             ],
             [
              0.7777777777777778,
              "#fb9f3a"
             ],
             [
              0.8888888888888888,
              "#fdca26"
             ],
             [
              1,
              "#f0f921"
             ]
            ],
            "type": "heatmapgl"
           }
          ],
          "histogram": [
           {
            "marker": {
             "pattern": {
              "fillmode": "overlay",
              "size": 10,
              "solidity": 0.2
             }
            },
            "type": "histogram"
           }
          ],
          "histogram2d": [
           {
            "colorbar": {
             "outlinewidth": 0,
             "ticks": ""
            },
            "colorscale": [
             [
              0,
              "#0d0887"
             ],
             [
              0.1111111111111111,
              "#46039f"
             ],
             [
              0.2222222222222222,
              "#7201a8"
             ],
             [
              0.3333333333333333,
              "#9c179e"
             ],
             [
              0.4444444444444444,
              "#bd3786"
             ],
             [
              0.5555555555555556,
              "#d8576b"
             ],
             [
              0.6666666666666666,
              "#ed7953"
             ],
             [
              0.7777777777777778,
              "#fb9f3a"
             ],
             [
              0.8888888888888888,
              "#fdca26"
             ],
             [
              1,
              "#f0f921"
             ]
            ],
            "type": "histogram2d"
           }
          ],
          "histogram2dcontour": [
           {
            "colorbar": {
             "outlinewidth": 0,
             "ticks": ""
            },
            "colorscale": [
             [
              0,
              "#0d0887"
             ],
             [
              0.1111111111111111,
              "#46039f"
             ],
             [
              0.2222222222222222,
              "#7201a8"
             ],
             [
              0.3333333333333333,
              "#9c179e"
             ],
             [
              0.4444444444444444,
              "#bd3786"
             ],
             [
              0.5555555555555556,
              "#d8576b"
             ],
             [
              0.6666666666666666,
              "#ed7953"
             ],
             [
              0.7777777777777778,
              "#fb9f3a"
             ],
             [
              0.8888888888888888,
              "#fdca26"
             ],
             [
              1,
              "#f0f921"
             ]
            ],
            "type": "histogram2dcontour"
           }
          ],
          "mesh3d": [
           {
            "colorbar": {
             "outlinewidth": 0,
             "ticks": ""
            },
            "type": "mesh3d"
           }
          ],
          "parcoords": [
           {
            "line": {
             "colorbar": {
              "outlinewidth": 0,
              "ticks": ""
             }
            },
            "type": "parcoords"
           }
          ],
          "pie": [
           {
            "automargin": true,
            "type": "pie"
           }
          ],
          "scatter": [
           {
            "fillpattern": {
             "fillmode": "overlay",
             "size": 10,
             "solidity": 0.2
            },
            "type": "scatter"
           }
          ],
          "scatter3d": [
           {
            "line": {
             "colorbar": {
              "outlinewidth": 0,
              "ticks": ""
             }
            },
            "marker": {
             "colorbar": {
              "outlinewidth": 0,
              "ticks": ""
             }
            },
            "type": "scatter3d"
           }
          ],
          "scattercarpet": [
           {
            "marker": {
             "colorbar": {
              "outlinewidth": 0,
              "ticks": ""
             }
            },
            "type": "scattercarpet"
           }
          ],
          "scattergeo": [
           {
            "marker": {
             "colorbar": {
              "outlinewidth": 0,
              "ticks": ""
             }
            },
            "type": "scattergeo"
           }
          ],
          "scattergl": [
           {
            "marker": {
             "colorbar": {
              "outlinewidth": 0,
              "ticks": ""
             }
            },
            "type": "scattergl"
           }
          ],
          "scattermapbox": [
           {
            "marker": {
             "colorbar": {
              "outlinewidth": 0,
              "ticks": ""
             }
            },
            "type": "scattermapbox"
           }
          ],
          "scatterpolar": [
           {
            "marker": {
             "colorbar": {
              "outlinewidth": 0,
              "ticks": ""
             }
            },
            "type": "scatterpolar"
           }
          ],
          "scatterpolargl": [
           {
            "marker": {
             "colorbar": {
              "outlinewidth": 0,
              "ticks": ""
             }
            },
            "type": "scatterpolargl"
           }
          ],
          "scatterternary": [
           {
            "marker": {
             "colorbar": {
              "outlinewidth": 0,
              "ticks": ""
             }
            },
            "type": "scatterternary"
           }
          ],
          "surface": [
           {
            "colorbar": {
             "outlinewidth": 0,
             "ticks": ""
            },
            "colorscale": [
             [
              0,
              "#0d0887"
             ],
             [
              0.1111111111111111,
              "#46039f"
             ],
             [
              0.2222222222222222,
              "#7201a8"
             ],
             [
              0.3333333333333333,
              "#9c179e"
             ],
             [
              0.4444444444444444,
              "#bd3786"
             ],
             [
              0.5555555555555556,
              "#d8576b"
             ],
             [
              0.6666666666666666,
              "#ed7953"
             ],
             [
              0.7777777777777778,
              "#fb9f3a"
             ],
             [
              0.8888888888888888,
              "#fdca26"
             ],
             [
              1,
              "#f0f921"
             ]
            ],
            "type": "surface"
           }
          ],
          "table": [
           {
            "cells": {
             "fill": {
              "color": "#EBF0F8"
             },
             "line": {
              "color": "white"
             }
            },
            "header": {
             "fill": {
              "color": "#C8D4E3"
             },
             "line": {
              "color": "white"
             }
            },
            "type": "table"
           }
          ]
         },
         "layout": {
          "annotationdefaults": {
           "arrowcolor": "#2a3f5f",
           "arrowhead": 0,
           "arrowwidth": 1
          },
          "autotypenumbers": "strict",
          "coloraxis": {
           "colorbar": {
            "outlinewidth": 0,
            "ticks": ""
           }
          },
          "colorscale": {
           "diverging": [
            [
             0,
             "#8e0152"
            ],
            [
             0.1,
             "#c51b7d"
            ],
            [
             0.2,
             "#de77ae"
            ],
            [
             0.3,
             "#f1b6da"
            ],
            [
             0.4,
             "#fde0ef"
            ],
            [
             0.5,
             "#f7f7f7"
            ],
            [
             0.6,
             "#e6f5d0"
            ],
            [
             0.7,
             "#b8e186"
            ],
            [
             0.8,
             "#7fbc41"
            ],
            [
             0.9,
             "#4d9221"
            ],
            [
             1,
             "#276419"
            ]
           ],
           "sequential": [
            [
             0,
             "#0d0887"
            ],
            [
             0.1111111111111111,
             "#46039f"
            ],
            [
             0.2222222222222222,
             "#7201a8"
            ],
            [
             0.3333333333333333,
             "#9c179e"
            ],
            [
             0.4444444444444444,
             "#bd3786"
            ],
            [
             0.5555555555555556,
             "#d8576b"
            ],
            [
             0.6666666666666666,
             "#ed7953"
            ],
            [
             0.7777777777777778,
             "#fb9f3a"
            ],
            [
             0.8888888888888888,
             "#fdca26"
            ],
            [
             1,
             "#f0f921"
            ]
           ],
           "sequentialminus": [
            [
             0,
             "#0d0887"
            ],
            [
             0.1111111111111111,
             "#46039f"
            ],
            [
             0.2222222222222222,
             "#7201a8"
            ],
            [
             0.3333333333333333,
             "#9c179e"
            ],
            [
             0.4444444444444444,
             "#bd3786"
            ],
            [
             0.5555555555555556,
             "#d8576b"
            ],
            [
             0.6666666666666666,
             "#ed7953"
            ],
            [
             0.7777777777777778,
             "#fb9f3a"
            ],
            [
             0.8888888888888888,
             "#fdca26"
            ],
            [
             1,
             "#f0f921"
            ]
           ]
          },
          "colorway": [
           "#636efa",
           "#EF553B",
           "#00cc96",
           "#ab63fa",
           "#FFA15A",
           "#19d3f3",
           "#FF6692",
           "#B6E880",
           "#FF97FF",
           "#FECB52"
          ],
          "font": {
           "color": "#2a3f5f"
          },
          "geo": {
           "bgcolor": "white",
           "lakecolor": "white",
           "landcolor": "#E5ECF6",
           "showlakes": true,
           "showland": true,
           "subunitcolor": "white"
          },
          "hoverlabel": {
           "align": "left"
          },
          "hovermode": "closest",
          "mapbox": {
           "style": "light"
          },
          "paper_bgcolor": "white",
          "plot_bgcolor": "#E5ECF6",
          "polar": {
           "angularaxis": {
            "gridcolor": "white",
            "linecolor": "white",
            "ticks": ""
           },
           "bgcolor": "#E5ECF6",
           "radialaxis": {
            "gridcolor": "white",
            "linecolor": "white",
            "ticks": ""
           }
          },
          "scene": {
           "xaxis": {
            "backgroundcolor": "#E5ECF6",
            "gridcolor": "white",
            "gridwidth": 2,
            "linecolor": "white",
            "showbackground": true,
            "ticks": "",
            "zerolinecolor": "white"
           },
           "yaxis": {
            "backgroundcolor": "#E5ECF6",
            "gridcolor": "white",
            "gridwidth": 2,
            "linecolor": "white",
            "showbackground": true,
            "ticks": "",
            "zerolinecolor": "white"
           },
           "zaxis": {
            "backgroundcolor": "#E5ECF6",
            "gridcolor": "white",
            "gridwidth": 2,
            "linecolor": "white",
            "showbackground": true,
            "ticks": "",
            "zerolinecolor": "white"
           }
          },
          "shapedefaults": {
           "line": {
            "color": "#2a3f5f"
           }
          },
          "ternary": {
           "aaxis": {
            "gridcolor": "white",
            "linecolor": "white",
            "ticks": ""
           },
           "baxis": {
            "gridcolor": "white",
            "linecolor": "white",
            "ticks": ""
           },
           "bgcolor": "#E5ECF6",
           "caxis": {
            "gridcolor": "white",
            "linecolor": "white",
            "ticks": ""
           }
          },
          "title": {
           "x": 0.05
          },
          "xaxis": {
           "automargin": true,
           "gridcolor": "white",
           "linecolor": "white",
           "ticks": "",
           "title": {
            "standoff": 15
           },
           "zerolinecolor": "white",
           "zerolinewidth": 2
          },
          "yaxis": {
           "automargin": true,
           "gridcolor": "white",
           "linecolor": "white",
           "ticks": "",
           "title": {
            "standoff": 15
           },
           "zerolinecolor": "white",
           "zerolinewidth": 2
          }
         }
        },
        "title": {
         "font": {
          "size": 24
         }
        },
        "width": 800,
        "xaxis": {
         "anchor": "y",
         "domain": [
          0,
          1
         ],
         "tickfont": {
          "size": 20
         },
         "title": {
          "font": {
           "size": 20
          },
          "text": "Year"
         }
        },
        "yaxis": {
         "anchor": "x",
         "domain": [
          0,
          1
         ],
         "tickfont": {
          "size": 20
         },
         "title": {
          "font": {
           "size": 20
          },
          "text": "count"
         }
        }
       }
      }
     },
     "metadata": {},
     "output_type": "display_data"
    }
   ],
   "source": [
    "fig = px.histogram(wine_aroma_df, \n",
    "                   x='Year', \n",
    "                   color_discrete_sequence=['#3b738e'], \n",
    "                   width=800,  \n",
    "                   height=650)\n",
    "\n",
    "fig.update_layout(\n",
    "    title_font_size=24,  \n",
    "    legend_font_size=20,  \n",
    "    legend_title_font_size=18,  \n",
    "    xaxis=dict(\n",
    "        title_font=dict(size=20),  \n",
    "        tickfont=dict(size=20)  \n",
    "    ),\n",
    "    yaxis=dict(\n",
    "        title_font=dict(size=20),  \n",
    "        tickfont=dict(size=20) \n",
    "    )\n",
    ")\n",
    "\n",
    "# Chart Display\n",
    "fig.show()"
   ]
  },
  {
   "cell_type": "markdown",
   "metadata": {},
   "source": [
    "**Output:** As we can see on the histogram, the dataset mainly presents data for the last 10 years, this is due to the fact that only now they have begun to actively study this area and publish works that contain chemical structure"
   ]
  },
  {
   "cell_type": "markdown",
   "metadata": {},
   "source": [
    "## 3. Analysis of the chemical composition of the presented wines\n",
    "Let's consider which compounds are represented in the dataset and in what concentration"
   ]
  },
  {
   "cell_type": "code",
   "execution_count": 22,
   "metadata": {},
   "outputs": [
    {
     "data": {
      "text/html": [
       "<div>\n",
       "<style scoped>\n",
       "    .dataframe tbody tr th:only-of-type {\n",
       "        vertical-align: middle;\n",
       "    }\n",
       "\n",
       "    .dataframe tbody tr th {\n",
       "        vertical-align: top;\n",
       "    }\n",
       "\n",
       "    .dataframe thead th {\n",
       "        text-align: right;\n",
       "    }\n",
       "</style>\n",
       "<table border=\"1\" class=\"dataframe\">\n",
       "  <thead>\n",
       "    <tr style=\"text-align: right;\">\n",
       "      <th></th>\n",
       "      <th>Acetoine</th>\n",
       "      <th>Acetaldehyde</th>\n",
       "      <th>Methanol</th>\n",
       "      <th>1-propanol</th>\n",
       "      <th>Ethyl lactate</th>\n",
       "      <th>Isobutanol</th>\n",
       "      <th>1-butanol</th>\n",
       "      <th>2-butanol</th>\n",
       "      <th>2-methyl-1-butanol</th>\n",
       "      <th>3-methyl-1-butanol</th>\n",
       "      <th>...</th>\n",
       "      <th>1-octanol</th>\n",
       "      <th>Hexanoic acid</th>\n",
       "      <th>Octanoic acid</th>\n",
       "      <th>Decanoic acid</th>\n",
       "      <th>Propanoic acid</th>\n",
       "      <th>butyric acid</th>\n",
       "      <th>2-methylpropanoic acid</th>\n",
       "      <th>2-methylbutyric acid</th>\n",
       "      <th>3-methylbutyric acid</th>\n",
       "      <th>Dodecanoic acid</th>\n",
       "    </tr>\n",
       "  </thead>\n",
       "  <tbody>\n",
       "    <tr>\n",
       "      <th>count</th>\n",
       "      <td>449.000000</td>\n",
       "      <td>449.000000</td>\n",
       "      <td>449.000000</td>\n",
       "      <td>449.000000</td>\n",
       "      <td>449.000000</td>\n",
       "      <td>449.000000</td>\n",
       "      <td>449.000000</td>\n",
       "      <td>449.000000</td>\n",
       "      <td>449.000000</td>\n",
       "      <td>449.000000</td>\n",
       "      <td>...</td>\n",
       "      <td>449.000000</td>\n",
       "      <td>449.000000</td>\n",
       "      <td>449.000000</td>\n",
       "      <td>449.000000</td>\n",
       "      <td>449.000000</td>\n",
       "      <td>449.000000</td>\n",
       "      <td>449.000000</td>\n",
       "      <td>449.000000</td>\n",
       "      <td>449.000000</td>\n",
       "      <td>449.000000</td>\n",
       "    </tr>\n",
       "    <tr>\n",
       "      <th>mean</th>\n",
       "      <td>3.013686</td>\n",
       "      <td>9.370619</td>\n",
       "      <td>10.108518</td>\n",
       "      <td>6.276215</td>\n",
       "      <td>16.704722</td>\n",
       "      <td>15.561368</td>\n",
       "      <td>0.812189</td>\n",
       "      <td>0.067253</td>\n",
       "      <td>16.465266</td>\n",
       "      <td>48.323271</td>\n",
       "      <td>...</td>\n",
       "      <td>0.007184</td>\n",
       "      <td>1.407657</td>\n",
       "      <td>1.786861</td>\n",
       "      <td>0.858902</td>\n",
       "      <td>0.064838</td>\n",
       "      <td>0.229574</td>\n",
       "      <td>0.169252</td>\n",
       "      <td>1.564797</td>\n",
       "      <td>0.084764</td>\n",
       "      <td>0.001719</td>\n",
       "    </tr>\n",
       "    <tr>\n",
       "      <th>std</th>\n",
       "      <td>17.931572</td>\n",
       "      <td>33.164155</td>\n",
       "      <td>27.588826</td>\n",
       "      <td>15.327420</td>\n",
       "      <td>56.265246</td>\n",
       "      <td>34.157441</td>\n",
       "      <td>2.098714</td>\n",
       "      <td>0.481374</td>\n",
       "      <td>38.685584</td>\n",
       "      <td>83.351012</td>\n",
       "      <td>...</td>\n",
       "      <td>0.025686</td>\n",
       "      <td>1.738032</td>\n",
       "      <td>2.317287</td>\n",
       "      <td>3.147311</td>\n",
       "      <td>0.555783</td>\n",
       "      <td>0.461500</td>\n",
       "      <td>0.698909</td>\n",
       "      <td>12.690898</td>\n",
       "      <td>0.378875</td>\n",
       "      <td>0.012896</td>\n",
       "    </tr>\n",
       "    <tr>\n",
       "      <th>min</th>\n",
       "      <td>0.000000</td>\n",
       "      <td>0.000000</td>\n",
       "      <td>0.000000</td>\n",
       "      <td>0.000000</td>\n",
       "      <td>0.000000</td>\n",
       "      <td>0.000000</td>\n",
       "      <td>0.000000</td>\n",
       "      <td>0.000000</td>\n",
       "      <td>0.000000</td>\n",
       "      <td>0.000000</td>\n",
       "      <td>...</td>\n",
       "      <td>0.000000</td>\n",
       "      <td>0.000000</td>\n",
       "      <td>0.000000</td>\n",
       "      <td>0.000000</td>\n",
       "      <td>0.000000</td>\n",
       "      <td>0.000000</td>\n",
       "      <td>0.000000</td>\n",
       "      <td>0.000000</td>\n",
       "      <td>0.000000</td>\n",
       "      <td>0.000000</td>\n",
       "    </tr>\n",
       "    <tr>\n",
       "      <th>25%</th>\n",
       "      <td>0.000000</td>\n",
       "      <td>0.000000</td>\n",
       "      <td>0.000000</td>\n",
       "      <td>0.000000</td>\n",
       "      <td>0.000000</td>\n",
       "      <td>0.000000</td>\n",
       "      <td>0.000000</td>\n",
       "      <td>0.000000</td>\n",
       "      <td>0.000000</td>\n",
       "      <td>0.000000</td>\n",
       "      <td>...</td>\n",
       "      <td>0.000000</td>\n",
       "      <td>0.008600</td>\n",
       "      <td>0.040900</td>\n",
       "      <td>0.000000</td>\n",
       "      <td>0.000000</td>\n",
       "      <td>0.000000</td>\n",
       "      <td>0.000000</td>\n",
       "      <td>0.000000</td>\n",
       "      <td>0.000000</td>\n",
       "      <td>0.000000</td>\n",
       "    </tr>\n",
       "    <tr>\n",
       "      <th>50%</th>\n",
       "      <td>0.000000</td>\n",
       "      <td>0.000000</td>\n",
       "      <td>0.000000</td>\n",
       "      <td>0.000000</td>\n",
       "      <td>0.000000</td>\n",
       "      <td>0.000000</td>\n",
       "      <td>0.000800</td>\n",
       "      <td>0.000000</td>\n",
       "      <td>0.000000</td>\n",
       "      <td>0.000000</td>\n",
       "      <td>...</td>\n",
       "      <td>0.000000</td>\n",
       "      <td>0.865000</td>\n",
       "      <td>0.848000</td>\n",
       "      <td>0.100000</td>\n",
       "      <td>0.000000</td>\n",
       "      <td>0.000000</td>\n",
       "      <td>0.000000</td>\n",
       "      <td>0.000000</td>\n",
       "      <td>0.000000</td>\n",
       "      <td>0.000000</td>\n",
       "    </tr>\n",
       "    <tr>\n",
       "      <th>75%</th>\n",
       "      <td>0.000000</td>\n",
       "      <td>0.000000</td>\n",
       "      <td>0.000000</td>\n",
       "      <td>4.000000</td>\n",
       "      <td>6.256000</td>\n",
       "      <td>21.590000</td>\n",
       "      <td>0.640000</td>\n",
       "      <td>0.000000</td>\n",
       "      <td>8.140000</td>\n",
       "      <td>83.575000</td>\n",
       "      <td>...</td>\n",
       "      <td>0.000000</td>\n",
       "      <td>2.122000</td>\n",
       "      <td>2.890000</td>\n",
       "      <td>0.550000</td>\n",
       "      <td>0.000000</td>\n",
       "      <td>0.135000</td>\n",
       "      <td>0.000000</td>\n",
       "      <td>0.000000</td>\n",
       "      <td>0.000000</td>\n",
       "      <td>0.000000</td>\n",
       "    </tr>\n",
       "    <tr>\n",
       "      <th>max</th>\n",
       "      <td>234.000000</td>\n",
       "      <td>347.000000</td>\n",
       "      <td>161.000000</td>\n",
       "      <td>182.000000</td>\n",
       "      <td>652.152000</td>\n",
       "      <td>425.000000</td>\n",
       "      <td>13.420000</td>\n",
       "      <td>8.093000</td>\n",
       "      <td>373.020000</td>\n",
       "      <td>359.000000</td>\n",
       "      <td>...</td>\n",
       "      <td>0.260000</td>\n",
       "      <td>7.776000</td>\n",
       "      <td>11.131000</td>\n",
       "      <td>30.600000</td>\n",
       "      <td>8.450000</td>\n",
       "      <td>2.060000</td>\n",
       "      <td>7.161000</td>\n",
       "      <td>122.000000</td>\n",
       "      <td>2.806000</td>\n",
       "      <td>0.155000</td>\n",
       "    </tr>\n",
       "  </tbody>\n",
       "</table>\n",
       "<p>8 rows × 49 columns</p>\n",
       "</div>"
      ],
      "text/plain": [
       "         Acetoine  Acetaldehyde    Methanol  1-propanol  Ethyl lactate  \\\n",
       "count  449.000000    449.000000  449.000000  449.000000     449.000000   \n",
       "mean     3.013686      9.370619   10.108518    6.276215      16.704722   \n",
       "std     17.931572     33.164155   27.588826   15.327420      56.265246   \n",
       "min      0.000000      0.000000    0.000000    0.000000       0.000000   \n",
       "25%      0.000000      0.000000    0.000000    0.000000       0.000000   \n",
       "50%      0.000000      0.000000    0.000000    0.000000       0.000000   \n",
       "75%      0.000000      0.000000    0.000000    4.000000       6.256000   \n",
       "max    234.000000    347.000000  161.000000  182.000000     652.152000   \n",
       "\n",
       "       Isobutanol   1-butanol   2-butanol  2-methyl-1-butanol  \\\n",
       "count  449.000000  449.000000  449.000000          449.000000   \n",
       "mean    15.561368    0.812189    0.067253           16.465266   \n",
       "std     34.157441    2.098714    0.481374           38.685584   \n",
       "min      0.000000    0.000000    0.000000            0.000000   \n",
       "25%      0.000000    0.000000    0.000000            0.000000   \n",
       "50%      0.000000    0.000800    0.000000            0.000000   \n",
       "75%     21.590000    0.640000    0.000000            8.140000   \n",
       "max    425.000000   13.420000    8.093000          373.020000   \n",
       "\n",
       "       3-methyl-1-butanol  ...   1-octanol  Hexanoic acid  Octanoic acid  \\\n",
       "count          449.000000  ...  449.000000     449.000000     449.000000   \n",
       "mean            48.323271  ...    0.007184       1.407657       1.786861   \n",
       "std             83.351012  ...    0.025686       1.738032       2.317287   \n",
       "min              0.000000  ...    0.000000       0.000000       0.000000   \n",
       "25%              0.000000  ...    0.000000       0.008600       0.040900   \n",
       "50%              0.000000  ...    0.000000       0.865000       0.848000   \n",
       "75%             83.575000  ...    0.000000       2.122000       2.890000   \n",
       "max            359.000000  ...    0.260000       7.776000      11.131000   \n",
       "\n",
       "       Decanoic acid  Propanoic acid  butyric acid  2-methylpropanoic acid  \\\n",
       "count     449.000000      449.000000    449.000000              449.000000   \n",
       "mean        0.858902        0.064838      0.229574                0.169252   \n",
       "std         3.147311        0.555783      0.461500                0.698909   \n",
       "min         0.000000        0.000000      0.000000                0.000000   \n",
       "25%         0.000000        0.000000      0.000000                0.000000   \n",
       "50%         0.100000        0.000000      0.000000                0.000000   \n",
       "75%         0.550000        0.000000      0.135000                0.000000   \n",
       "max        30.600000        8.450000      2.060000                7.161000   \n",
       "\n",
       "       2-methylbutyric acid  3-methylbutyric acid  Dodecanoic acid  \n",
       "count            449.000000            449.000000       449.000000  \n",
       "mean               1.564797              0.084764         0.001719  \n",
       "std               12.690898              0.378875         0.012896  \n",
       "min                0.000000              0.000000         0.000000  \n",
       "25%                0.000000              0.000000         0.000000  \n",
       "50%                0.000000              0.000000         0.000000  \n",
       "75%                0.000000              0.000000         0.000000  \n",
       "max              122.000000              2.806000         0.155000  \n",
       "\n",
       "[8 rows x 49 columns]"
      ]
     },
     "execution_count": 22,
     "metadata": {},
     "output_type": "execute_result"
    }
   ],
   "source": [
    "chem_df = wine_aroma_df.loc[:, 'Acetoine':'Dodecanoic acid'] # A dataframe that contains only chemical parameters\n",
    "\n",
    "chem_df.describe()"
   ]
  },
  {
   "cell_type": "markdown",
   "metadata": {},
   "source": [
    "### 3.1. Comparison of averages"
   ]
  },
  {
   "cell_type": "code",
   "execution_count": null,
   "metadata": {},
   "outputs": [
    {
     "data": {
      "application/vnd.plotly.v1+json": {
       "config": {
        "plotlyServerURL": "https://plot.ly"
       },
       "data": [
        {
         "alignmentgroup": "True",
         "hovertemplate": "variable=mean<br>index=%{x}<br>Mean=%{y}<extra></extra>",
         "legendgroup": "mean",
         "marker": {
          "color": "rgb(42, 86, 116)",
          "pattern": {
           "shape": ""
          }
         },
         "name": "mean",
         "offsetgroup": "mean",
         "orientation": "v",
         "showlegend": true,
         "textposition": "auto",
         "type": "bar",
         "x": [
          "Acetoine",
          "Acetaldehyde",
          "Methanol",
          "1-propanol",
          "Ethyl lactate",
          "Isobutanol",
          "1-butanol",
          "2-butanol",
          "2-methyl-1-butanol",
          "3-methyl-1-butanol",
          "2-methyl-1-propanol",
          "1-pentanol",
          "1-hexanol",
          "2,3-butanediol",
          "2-phenylethanol",
          "3-(Methylthio)-1-propanol",
          "Hexyl acetate",
          "Ethyl octanoate",
          "Diethyl succinate",
          "2-phenylethyl acetate",
          "Diethyl malate",
          "Ethyl decanoate",
          "Isoamyl alcohol",
          "Isoamyl acetate",
          "1-heptanol",
          "Ethyl acetate",
          "Isopropyl acetate",
          "Isobutyl acetate",
          "Ethyl butyrate",
          "Ethyl hexanoate",
          "Ethyl isovalerate",
          "Pentyl acetate",
          "Phenyl acetate",
          "Ethyl caprylate",
          "alpha-TERPINEOL",
          "Linalool ",
          "Nerol",
          "Citronellol",
          "Geraniol",
          "1-octanol",
          "Hexanoic acid",
          "Octanoic acid",
          "Decanoic acid",
          "Propanoic acid",
          "butyric acid",
          "2-methylpropanoic acid",
          "2-methylbutyric acid",
          "3-methylbutyric acid",
          "Dodecanoic acid"
         ],
         "xaxis": "x",
         "y": [
          3.013686118040089,
          9.370619053452115,
          10.108517703786193,
          6.276214973273943,
          16.704721514476613,
          15.561368427616927,
          0.8121889755011136,
          0.06725300668151449,
          16.465266249443207,
          48.323271461024504,
          5.138834320712696,
          0.09664080178173719,
          11.641382097995544,
          47.81921289532294,
          41.181166979955464,
          0.1849421603563474,
          0.25047249665924276,
          19.147675189309577,
          2.601918218262806,
          3.065448062360802,
          0.10515763919821827,
          12.489299153674832,
          50.37044830734967,
          2.1623021247216037,
          0.0049508463251670375,
          16.377770273942094,
          0.0032447661469933186,
          0.6031050690423162,
          0.9241782650334076,
          4.134422512249444,
          0.5350314342984409,
          0.06502783964365255,
          0.00022271714922048998,
          0.03682971046770602,
          0.09567844097995545,
          0.15953837416481068,
          0.08670939866369712,
          0.32650926503340755,
          0.09572873273942094,
          0.0071837416481069045,
          1.4076566815144766,
          1.7868613808463254,
          0.8589021603563474,
          0.06483763919821826,
          0.2295742316258352,
          0.16925167037861916,
          1.5647973273942093,
          0.08476391982182628,
          0.0017193763919821825
         ],
         "yaxis": "y"
        },
        {
         "marker": {
          "color": "rgb(209, 238, 234)"
         },
         "name": "Max",
         "type": "bar",
         "x": [
          "Acetoine",
          "Acetaldehyde",
          "Methanol",
          "1-propanol",
          "Ethyl lactate",
          "Isobutanol",
          "1-butanol",
          "2-butanol",
          "2-methyl-1-butanol",
          "3-methyl-1-butanol",
          "2-methyl-1-propanol",
          "1-pentanol",
          "1-hexanol",
          "2,3-butanediol",
          "2-phenylethanol",
          "3-(Methylthio)-1-propanol",
          "Hexyl acetate",
          "Ethyl octanoate",
          "Diethyl succinate",
          "2-phenylethyl acetate",
          "Diethyl malate",
          "Ethyl decanoate",
          "Isoamyl alcohol",
          "Isoamyl acetate",
          "1-heptanol",
          "Ethyl acetate",
          "Isopropyl acetate",
          "Isobutyl acetate",
          "Ethyl butyrate",
          "Ethyl hexanoate",
          "Ethyl isovalerate",
          "Pentyl acetate",
          "Phenyl acetate",
          "Ethyl caprylate",
          "alpha-TERPINEOL",
          "Linalool ",
          "Nerol",
          "Citronellol",
          "Geraniol",
          "1-octanol",
          "Hexanoic acid",
          "Octanoic acid",
          "Decanoic acid",
          "Propanoic acid",
          "butyric acid",
          "2-methylpropanoic acid",
          "2-methylbutyric acid",
          "3-methylbutyric acid",
          "Dodecanoic acid"
         ],
         "y": [
          234,
          347,
          161,
          182,
          652.152,
          425,
          13.42,
          8.093,
          373.02,
          359,
          133.41,
          5.98,
          808,
          3100,
          3176,
          11.62,
          5.97,
          911,
          149.33,
          149,
          5.553,
          801,
          632,
          91.334,
          0.462,
          164.4,
          0.409,
          88.96,
          75.5,
          131,
          84,
          25.27,
          0.05,
          8.89,
          22,
          7.8,
          6.51,
          18.4,
          6,
          0.26,
          7.776,
          11.131,
          30.6,
          8.45,
          2.06,
          7.161,
          122,
          2.806,
          0.155
         ]
        }
       ],
       "layout": {
        "barmode": "relative",
        "legend": {
         "title": {
          "text": "variable"
         },
         "tracegroupgap": 0
        },
        "margin": {
         "t": 60
        },
        "template": {
         "data": {
          "bar": [
           {
            "error_x": {
             "color": "#2a3f5f"
            },
            "error_y": {
             "color": "#2a3f5f"
            },
            "marker": {
             "line": {
              "color": "#E5ECF6",
              "width": 0.5
             },
             "pattern": {
              "fillmode": "overlay",
              "size": 10,
              "solidity": 0.2
             }
            },
            "type": "bar"
           }
          ],
          "barpolar": [
           {
            "marker": {
             "line": {
              "color": "#E5ECF6",
              "width": 0.5
             },
             "pattern": {
              "fillmode": "overlay",
              "size": 10,
              "solidity": 0.2
             }
            },
            "type": "barpolar"
           }
          ],
          "carpet": [
           {
            "aaxis": {
             "endlinecolor": "#2a3f5f",
             "gridcolor": "white",
             "linecolor": "white",
             "minorgridcolor": "white",
             "startlinecolor": "#2a3f5f"
            },
            "baxis": {
             "endlinecolor": "#2a3f5f",
             "gridcolor": "white",
             "linecolor": "white",
             "minorgridcolor": "white",
             "startlinecolor": "#2a3f5f"
            },
            "type": "carpet"
           }
          ],
          "choropleth": [
           {
            "colorbar": {
             "outlinewidth": 0,
             "ticks": ""
            },
            "type": "choropleth"
           }
          ],
          "contour": [
           {
            "colorbar": {
             "outlinewidth": 0,
             "ticks": ""
            },
            "colorscale": [
             [
              0,
              "#0d0887"
             ],
             [
              0.1111111111111111,
              "#46039f"
             ],
             [
              0.2222222222222222,
              "#7201a8"
             ],
             [
              0.3333333333333333,
              "#9c179e"
             ],
             [
              0.4444444444444444,
              "#bd3786"
             ],
             [
              0.5555555555555556,
              "#d8576b"
             ],
             [
              0.6666666666666666,
              "#ed7953"
             ],
             [
              0.7777777777777778,
              "#fb9f3a"
             ],
             [
              0.8888888888888888,
              "#fdca26"
             ],
             [
              1,
              "#f0f921"
             ]
            ],
            "type": "contour"
           }
          ],
          "contourcarpet": [
           {
            "colorbar": {
             "outlinewidth": 0,
             "ticks": ""
            },
            "type": "contourcarpet"
           }
          ],
          "heatmap": [
           {
            "colorbar": {
             "outlinewidth": 0,
             "ticks": ""
            },
            "colorscale": [
             [
              0,
              "#0d0887"
             ],
             [
              0.1111111111111111,
              "#46039f"
             ],
             [
              0.2222222222222222,
              "#7201a8"
             ],
             [
              0.3333333333333333,
              "#9c179e"
             ],
             [
              0.4444444444444444,
              "#bd3786"
             ],
             [
              0.5555555555555556,
              "#d8576b"
             ],
             [
              0.6666666666666666,
              "#ed7953"
             ],
             [
              0.7777777777777778,
              "#fb9f3a"
             ],
             [
              0.8888888888888888,
              "#fdca26"
             ],
             [
              1,
              "#f0f921"
             ]
            ],
            "type": "heatmap"
           }
          ],
          "heatmapgl": [
           {
            "colorbar": {
             "outlinewidth": 0,
             "ticks": ""
            },
            "colorscale": [
             [
              0,
              "#0d0887"
             ],
             [
              0.1111111111111111,
              "#46039f"
             ],
             [
              0.2222222222222222,
              "#7201a8"
             ],
             [
              0.3333333333333333,
              "#9c179e"
             ],
             [
              0.4444444444444444,
              "#bd3786"
             ],
             [
              0.5555555555555556,
              "#d8576b"
             ],
             [
              0.6666666666666666,
              "#ed7953"
             ],
             [
              0.7777777777777778,
              "#fb9f3a"
             ],
             [
              0.8888888888888888,
              "#fdca26"
             ],
             [
              1,
              "#f0f921"
             ]
            ],
            "type": "heatmapgl"
           }
          ],
          "histogram": [
           {
            "marker": {
             "pattern": {
              "fillmode": "overlay",
              "size": 10,
              "solidity": 0.2
             }
            },
            "type": "histogram"
           }
          ],
          "histogram2d": [
           {
            "colorbar": {
             "outlinewidth": 0,
             "ticks": ""
            },
            "colorscale": [
             [
              0,
              "#0d0887"
             ],
             [
              0.1111111111111111,
              "#46039f"
             ],
             [
              0.2222222222222222,
              "#7201a8"
             ],
             [
              0.3333333333333333,
              "#9c179e"
             ],
             [
              0.4444444444444444,
              "#bd3786"
             ],
             [
              0.5555555555555556,
              "#d8576b"
             ],
             [
              0.6666666666666666,
              "#ed7953"
             ],
             [
              0.7777777777777778,
              "#fb9f3a"
             ],
             [
              0.8888888888888888,
              "#fdca26"
             ],
             [
              1,
              "#f0f921"
             ]
            ],
            "type": "histogram2d"
           }
          ],
          "histogram2dcontour": [
           {
            "colorbar": {
             "outlinewidth": 0,
             "ticks": ""
            },
            "colorscale": [
             [
              0,
              "#0d0887"
             ],
             [
              0.1111111111111111,
              "#46039f"
             ],
             [
              0.2222222222222222,
              "#7201a8"
             ],
             [
              0.3333333333333333,
              "#9c179e"
             ],
             [
              0.4444444444444444,
              "#bd3786"
             ],
             [
              0.5555555555555556,
              "#d8576b"
             ],
             [
              0.6666666666666666,
              "#ed7953"
             ],
             [
              0.7777777777777778,
              "#fb9f3a"
             ],
             [
              0.8888888888888888,
              "#fdca26"
             ],
             [
              1,
              "#f0f921"
             ]
            ],
            "type": "histogram2dcontour"
           }
          ],
          "mesh3d": [
           {
            "colorbar": {
             "outlinewidth": 0,
             "ticks": ""
            },
            "type": "mesh3d"
           }
          ],
          "parcoords": [
           {
            "line": {
             "colorbar": {
              "outlinewidth": 0,
              "ticks": ""
             }
            },
            "type": "parcoords"
           }
          ],
          "pie": [
           {
            "automargin": true,
            "type": "pie"
           }
          ],
          "scatter": [
           {
            "fillpattern": {
             "fillmode": "overlay",
             "size": 10,
             "solidity": 0.2
            },
            "type": "scatter"
           }
          ],
          "scatter3d": [
           {
            "line": {
             "colorbar": {
              "outlinewidth": 0,
              "ticks": ""
             }
            },
            "marker": {
             "colorbar": {
              "outlinewidth": 0,
              "ticks": ""
             }
            },
            "type": "scatter3d"
           }
          ],
          "scattercarpet": [
           {
            "marker": {
             "colorbar": {
              "outlinewidth": 0,
              "ticks": ""
             }
            },
            "type": "scattercarpet"
           }
          ],
          "scattergeo": [
           {
            "marker": {
             "colorbar": {
              "outlinewidth": 0,
              "ticks": ""
             }
            },
            "type": "scattergeo"
           }
          ],
          "scattergl": [
           {
            "marker": {
             "colorbar": {
              "outlinewidth": 0,
              "ticks": ""
             }
            },
            "type": "scattergl"
           }
          ],
          "scattermapbox": [
           {
            "marker": {
             "colorbar": {
              "outlinewidth": 0,
              "ticks": ""
             }
            },
            "type": "scattermapbox"
           }
          ],
          "scatterpolar": [
           {
            "marker": {
             "colorbar": {
              "outlinewidth": 0,
              "ticks": ""
             }
            },
            "type": "scatterpolar"
           }
          ],
          "scatterpolargl": [
           {
            "marker": {
             "colorbar": {
              "outlinewidth": 0,
              "ticks": ""
             }
            },
            "type": "scatterpolargl"
           }
          ],
          "scatterternary": [
           {
            "marker": {
             "colorbar": {
              "outlinewidth": 0,
              "ticks": ""
             }
            },
            "type": "scatterternary"
           }
          ],
          "surface": [
           {
            "colorbar": {
             "outlinewidth": 0,
             "ticks": ""
            },
            "colorscale": [
             [
              0,
              "#0d0887"
             ],
             [
              0.1111111111111111,
              "#46039f"
             ],
             [
              0.2222222222222222,
              "#7201a8"
             ],
             [
              0.3333333333333333,
              "#9c179e"
             ],
             [
              0.4444444444444444,
              "#bd3786"
             ],
             [
              0.5555555555555556,
              "#d8576b"
             ],
             [
              0.6666666666666666,
              "#ed7953"
             ],
             [
              0.7777777777777778,
              "#fb9f3a"
             ],
             [
              0.8888888888888888,
              "#fdca26"
             ],
             [
              1,
              "#f0f921"
             ]
            ],
            "type": "surface"
           }
          ],
          "table": [
           {
            "cells": {
             "fill": {
              "color": "#EBF0F8"
             },
             "line": {
              "color": "white"
             }
            },
            "header": {
             "fill": {
              "color": "#C8D4E3"
             },
             "line": {
              "color": "white"
             }
            },
            "type": "table"
           }
          ]
         },
         "layout": {
          "annotationdefaults": {
           "arrowcolor": "#2a3f5f",
           "arrowhead": 0,
           "arrowwidth": 1
          },
          "autotypenumbers": "strict",
          "coloraxis": {
           "colorbar": {
            "outlinewidth": 0,
            "ticks": ""
           }
          },
          "colorscale": {
           "diverging": [
            [
             0,
             "#8e0152"
            ],
            [
             0.1,
             "#c51b7d"
            ],
            [
             0.2,
             "#de77ae"
            ],
            [
             0.3,
             "#f1b6da"
            ],
            [
             0.4,
             "#fde0ef"
            ],
            [
             0.5,
             "#f7f7f7"
            ],
            [
             0.6,
             "#e6f5d0"
            ],
            [
             0.7,
             "#b8e186"
            ],
            [
             0.8,
             "#7fbc41"
            ],
            [
             0.9,
             "#4d9221"
            ],
            [
             1,
             "#276419"
            ]
           ],
           "sequential": [
            [
             0,
             "#0d0887"
            ],
            [
             0.1111111111111111,
             "#46039f"
            ],
            [
             0.2222222222222222,
             "#7201a8"
            ],
            [
             0.3333333333333333,
             "#9c179e"
            ],
            [
             0.4444444444444444,
             "#bd3786"
            ],
            [
             0.5555555555555556,
             "#d8576b"
            ],
            [
             0.6666666666666666,
             "#ed7953"
            ],
            [
             0.7777777777777778,
             "#fb9f3a"
            ],
            [
             0.8888888888888888,
             "#fdca26"
            ],
            [
             1,
             "#f0f921"
            ]
           ],
           "sequentialminus": [
            [
             0,
             "#0d0887"
            ],
            [
             0.1111111111111111,
             "#46039f"
            ],
            [
             0.2222222222222222,
             "#7201a8"
            ],
            [
             0.3333333333333333,
             "#9c179e"
            ],
            [
             0.4444444444444444,
             "#bd3786"
            ],
            [
             0.5555555555555556,
             "#d8576b"
            ],
            [
             0.6666666666666666,
             "#ed7953"
            ],
            [
             0.7777777777777778,
             "#fb9f3a"
            ],
            [
             0.8888888888888888,
             "#fdca26"
            ],
            [
             1,
             "#f0f921"
            ]
           ]
          },
          "colorway": [
           "#636efa",
           "#EF553B",
           "#00cc96",
           "#ab63fa",
           "#FFA15A",
           "#19d3f3",
           "#FF6692",
           "#B6E880",
           "#FF97FF",
           "#FECB52"
          ],
          "font": {
           "color": "#2a3f5f"
          },
          "geo": {
           "bgcolor": "white",
           "lakecolor": "white",
           "landcolor": "#E5ECF6",
           "showlakes": true,
           "showland": true,
           "subunitcolor": "white"
          },
          "hoverlabel": {
           "align": "left"
          },
          "hovermode": "closest",
          "mapbox": {
           "style": "light"
          },
          "paper_bgcolor": "white",
          "plot_bgcolor": "#E5ECF6",
          "polar": {
           "angularaxis": {
            "gridcolor": "white",
            "linecolor": "white",
            "ticks": ""
           },
           "bgcolor": "#E5ECF6",
           "radialaxis": {
            "gridcolor": "white",
            "linecolor": "white",
            "ticks": ""
           }
          },
          "scene": {
           "xaxis": {
            "backgroundcolor": "#E5ECF6",
            "gridcolor": "white",
            "gridwidth": 2,
            "linecolor": "white",
            "showbackground": true,
            "ticks": "",
            "zerolinecolor": "white"
           },
           "yaxis": {
            "backgroundcolor": "#E5ECF6",
            "gridcolor": "white",
            "gridwidth": 2,
            "linecolor": "white",
            "showbackground": true,
            "ticks": "",
            "zerolinecolor": "white"
           },
           "zaxis": {
            "backgroundcolor": "#E5ECF6",
            "gridcolor": "white",
            "gridwidth": 2,
            "linecolor": "white",
            "showbackground": true,
            "ticks": "",
            "zerolinecolor": "white"
           }
          },
          "shapedefaults": {
           "line": {
            "color": "#2a3f5f"
           }
          },
          "ternary": {
           "aaxis": {
            "gridcolor": "white",
            "linecolor": "white",
            "ticks": ""
           },
           "baxis": {
            "gridcolor": "white",
            "linecolor": "white",
            "ticks": ""
           },
           "bgcolor": "#E5ECF6",
           "caxis": {
            "gridcolor": "white",
            "linecolor": "white",
            "ticks": ""
           }
          },
          "title": {
           "x": 0.05
          },
          "xaxis": {
           "automargin": true,
           "gridcolor": "white",
           "linecolor": "white",
           "ticks": "",
           "title": {
            "standoff": 15
           },
           "zerolinecolor": "white",
           "zerolinewidth": 2
          },
          "yaxis": {
           "automargin": true,
           "gridcolor": "white",
           "linecolor": "white",
           "ticks": "",
           "title": {
            "standoff": 15
           },
           "zerolinecolor": "white",
           "zerolinewidth": 2
          }
         }
        },
        "xaxis": {
         "anchor": "y",
         "domain": [
          0,
          1
         ],
         "title": {
          "text": "index"
         }
        },
        "yaxis": {
         "anchor": "x",
         "domain": [
          0,
          1
         ],
         "title": {
          "text": "Mean"
         }
        }
       }
      }
     },
     "metadata": {},
     "output_type": "display_data"
    }
   ],
   "source": [
    "# Creating a graph for the mean values\n",
    "fig = px.bar(chem_df.describe().loc['mean', :], \n",
    "             color_discrete_sequence=px.colors.sequential.Teal_r, \n",
    "             labels={'value': 'Mean'})\n",
    "\n",
    "# Adding a graph for maximum values (max)\n",
    "# Using the same color palette\n",
    "fig.add_bar(x=chem_df.columns, \n",
    "            y=chem_df.describe().loc['max', :], \n",
    "            marker_color=px.colors.sequential.Teal_r[-1], \n",
    "            name='Max')\n",
    "\n",
    "# Displaying the graph\n",
    "fig.show()"
   ]
  },
  {
   "cell_type": "markdown",
   "metadata": {},
   "source": [
    "**Output:** It can be seen from the graph that there are several compounds whose average concentration in wine exceeds all others, these are 3-methyl-1-butanol, 2,3-butanediol, 2-phenylethanol, Isoamyl alcohol, the rest are in equal concentrations, however, several compounds are almost not found in the resulting wines, this is Pentyl acetate, Phenyl acetate, Ethyl caprelate, Geraniol, 1-octanol"
   ]
  },
  {
   "cell_type": "markdown",
   "metadata": {},
   "source": [
    "### 3.2. Correlations\n",
    "To understand which chemical components are most correlated with each other, let's build a correlation matrix"
   ]
  },
  {
   "cell_type": "code",
   "execution_count": 27,
   "metadata": {},
   "outputs": [
    {
     "data": {
      "application/vnd.plotly.v1+json": {
       "config": {
        "plotlyServerURL": "https://plot.ly"
       },
       "data": [
        {
         "coloraxis": "coloraxis",
         "hovertemplate": "x: %{x}<br>y: %{y}<br>color: %{z}<extra></extra>",
         "name": "0",
         "type": "heatmap",
         "x": [
          "Acetoine",
          "Acetaldehyde",
          "Methanol",
          "1-propanol",
          "Ethyl lactate",
          "Isobutanol",
          "1-butanol",
          "2-butanol",
          "2-methyl-1-butanol",
          "3-methyl-1-butanol",
          "2-methyl-1-propanol",
          "1-pentanol",
          "1-hexanol",
          "2,3-butanediol",
          "2-phenylethanol",
          "3-(Methylthio)-1-propanol",
          "Hexyl acetate",
          "Ethyl octanoate",
          "Diethyl succinate",
          "2-phenylethyl acetate",
          "Diethyl malate",
          "Ethyl decanoate",
          "Isoamyl alcohol",
          "Isoamyl acetate",
          "1-heptanol",
          "Ethyl acetate",
          "Isopropyl acetate",
          "Isobutyl acetate",
          "Ethyl butyrate",
          "Ethyl hexanoate",
          "Ethyl isovalerate",
          "Pentyl acetate",
          "Phenyl acetate",
          "Ethyl caprylate",
          "alpha-TERPINEOL",
          "Linalool ",
          "Nerol",
          "Citronellol",
          "Geraniol",
          "1-octanol",
          "Hexanoic acid",
          "Octanoic acid",
          "Decanoic acid",
          "Propanoic acid",
          "butyric acid",
          "2-methylpropanoic acid",
          "2-methylbutyric acid",
          "3-methylbutyric acid",
          "Dodecanoic acid"
         ],
         "xaxis": "x",
         "y": [
          "Acetoine",
          "Acetaldehyde",
          "Methanol",
          "1-propanol",
          "Ethyl lactate",
          "Isobutanol",
          "1-butanol",
          "2-butanol",
          "2-methyl-1-butanol",
          "3-methyl-1-butanol",
          "2-methyl-1-propanol",
          "1-pentanol",
          "1-hexanol",
          "2,3-butanediol",
          "2-phenylethanol",
          "3-(Methylthio)-1-propanol",
          "Hexyl acetate",
          "Ethyl octanoate",
          "Diethyl succinate",
          "2-phenylethyl acetate",
          "Diethyl malate",
          "Ethyl decanoate",
          "Isoamyl alcohol",
          "Isoamyl acetate",
          "1-heptanol",
          "Ethyl acetate",
          "Isopropyl acetate",
          "Isobutyl acetate",
          "Ethyl butyrate",
          "Ethyl hexanoate",
          "Ethyl isovalerate",
          "Pentyl acetate",
          "Phenyl acetate",
          "Ethyl caprylate",
          "alpha-TERPINEOL",
          "Linalool ",
          "Nerol",
          "Citronellol",
          "Geraniol",
          "1-octanol",
          "Hexanoic acid",
          "Octanoic acid",
          "Decanoic acid",
          "Propanoic acid",
          "butyric acid",
          "2-methylpropanoic acid",
          "2-methylbutyric acid",
          "3-methylbutyric acid",
          "Dodecanoic acid"
         ],
         "yaxis": "y",
         "z": [
          [
           1,
           0,
           0,
           0,
           0,
           0,
           0,
           0,
           0,
           0,
           0,
           0,
           0,
           0,
           0,
           0,
           0,
           0,
           0,
           0,
           0,
           0,
           0,
           0,
           0,
           0,
           0,
           0,
           0,
           0,
           0,
           0,
           0,
           0,
           0,
           0,
           0,
           0,
           0,
           0,
           0,
           0,
           0,
           0,
           0,
           0,
           0,
           0,
           0
          ],
          [
           0.7711829085375057,
           1,
           0,
           0,
           0,
           0,
           0,
           0,
           0,
           0,
           0,
           0,
           0,
           0,
           0,
           0,
           0,
           0,
           0,
           0,
           0,
           0,
           0,
           0,
           0,
           0,
           0,
           0,
           0,
           0,
           0,
           0,
           0,
           0,
           0,
           0,
           0,
           0,
           0,
           0,
           0,
           0,
           0,
           0,
           0,
           0,
           0,
           0,
           0
          ],
          [
           0.46389009420728083,
           0.6782870001766692,
           1,
           0,
           0,
           0,
           0,
           0,
           0,
           0,
           0,
           0,
           0,
           0,
           0,
           0,
           0,
           0,
           0,
           0,
           0,
           0,
           0,
           0,
           0,
           0,
           0,
           0,
           0,
           0,
           0,
           0,
           0,
           0,
           0,
           0,
           0,
           0,
           0,
           0,
           0,
           0,
           0,
           0,
           0,
           0,
           0,
           0,
           0
          ],
          [
           0.43075495026746896,
           0.6623449474043077,
           0.6782863549302761,
           1,
           0,
           0,
           0,
           0,
           0,
           0,
           0,
           0,
           0,
           0,
           0,
           0,
           0,
           0,
           0,
           0,
           0,
           0,
           0,
           0,
           0,
           0,
           0,
           0,
           0,
           0,
           0,
           0,
           0,
           0,
           0,
           0,
           0,
           0,
           0,
           0,
           0,
           0,
           0,
           0,
           0,
           0,
           0,
           0,
           0
          ],
          [
           0.11950796877272113,
           -0.04612927833654297,
           -0.0544675930535984,
           -0.03217862734638531,
           1,
           0,
           0,
           0,
           0,
           0,
           0,
           0,
           0,
           0,
           0,
           0,
           0,
           0,
           0,
           0,
           0,
           0,
           0,
           0,
           0,
           0,
           0,
           0,
           0,
           0,
           0,
           0,
           0,
           0,
           0,
           0,
           0,
           0,
           0,
           0,
           0,
           0,
           0,
           0,
           0,
           0,
           0,
           0,
           0
          ],
          [
           0.03995611394243559,
           0.09798178982214058,
           0.2362301023203934,
           0.2516209349767172,
           0.20312571858226638,
           1,
           0,
           0,
           0,
           0,
           0,
           0,
           0,
           0,
           0,
           0,
           0,
           0,
           0,
           0,
           0,
           0,
           0,
           0,
           0,
           0,
           0,
           0,
           0,
           0,
           0,
           0,
           0,
           0,
           0,
           0,
           0,
           0,
           0,
           0,
           0,
           0,
           0,
           0,
           0,
           0,
           0,
           0,
           0
          ],
          [
           -0.010893507723694894,
           -0.041965759830496475,
           -0.06428875062866753,
           0.01221594189413863,
           0.025770761524011584,
           0.20355668898792473,
           1,
           0,
           0,
           0,
           0,
           0,
           0,
           0,
           0,
           0,
           0,
           0,
           0,
           0,
           0,
           0,
           0,
           0,
           0,
           0,
           0,
           0,
           0,
           0,
           0,
           0,
           0,
           0,
           0,
           0,
           0,
           0,
           0,
           0,
           0,
           0,
           0,
           0,
           0,
           0,
           0,
           0,
           0
          ],
          [
           -0.023488993189615313,
           -0.03908832770335846,
           -0.04914204163777282,
           0.009057478958063138,
           -0.0151461878597366,
           0.6042983973498486,
           0.00937096196738224,
           1,
           0,
           0,
           0,
           0,
           0,
           0,
           0,
           0,
           0,
           0,
           0,
           0,
           0,
           0,
           0,
           0,
           0,
           0,
           0,
           0,
           0,
           0,
           0,
           0,
           0,
           0,
           0,
           0,
           0,
           0,
           0,
           0,
           0,
           0,
           0,
           0,
           0,
           0,
           0,
           0,
           0
          ],
          [
           -0.05047675289483839,
           0.013697414151051338,
           0.14136592132366912,
           0.04932631839192381,
           -0.020764816493468716,
           -0.006784369498181693,
           0.08737858963321733,
           -0.05691682181627457,
           1,
           0,
           0,
           0,
           0,
           0,
           0,
           0,
           0,
           0,
           0,
           0,
           0,
           0,
           0,
           0,
           0,
           0,
           0,
           0,
           0,
           0,
           0,
           0,
           0,
           0,
           0,
           0,
           0,
           0,
           0,
           0,
           0,
           0,
           0,
           0,
           0,
           0,
           0,
           0,
           0
          ],
          [
           -0.05519346500062761,
           0.06822370890124445,
           0.1725964588227974,
           0.17402337240448848,
           -0.05501870730661535,
           0.0057600578511939424,
           0.02356366675538508,
           -0.07856125121459412,
           0.6576318579941196,
           1,
           0,
           0,
           0,
           0,
           0,
           0,
           0,
           0,
           0,
           0,
           0,
           0,
           0,
           0,
           0,
           0,
           0,
           0,
           0,
           0,
           0,
           0,
           0,
           0,
           0,
           0,
           0,
           0,
           0,
           0,
           0,
           0,
           0,
           0,
           0,
           0,
           0,
           0,
           0
          ],
          [
           0.0012969176613868733,
           0.1491767455580828,
           0.020302986097520185,
           0.1423270630913403,
           -0.004650002515582102,
           -0.14844793816955884,
           -0.010416294698393289,
           -0.027804469643431053,
           0.32698658635641414,
           0.5735139400374647,
           1,
           0,
           0,
           0,
           0,
           0,
           0,
           0,
           0,
           0,
           0,
           0,
           0,
           0,
           0,
           0,
           0,
           0,
           0,
           0,
           0,
           0,
           0,
           0,
           0,
           0,
           0,
           0,
           0,
           0,
           0,
           0,
           0,
           0,
           0,
           0,
           0,
           0,
           0
          ],
          [
           -0.02514651821808268,
           -0.04331721292841601,
           -0.05486643615163914,
           -0.002329562404273337,
           -0.04281104772378759,
           0.08794298049233032,
           0.2478256223203131,
           -0.006758315125466669,
           0.028854053290257337,
           -0.005723487215884439,
           -0.051872043580144446,
           1,
           0,
           0,
           0,
           0,
           0,
           0,
           0,
           0,
           0,
           0,
           0,
           0,
           0,
           0,
           0,
           0,
           0,
           0,
           0,
           0,
           0,
           0,
           0,
           0,
           0,
           0,
           0,
           0,
           0,
           0,
           0,
           0,
           0,
           0,
           0,
           0,
           0
          ],
          [
           -0.020924072891034335,
           -0.03468332140149141,
           -0.04408117826833389,
           -0.04884047851075014,
           0.05556231448941326,
           -0.054765008169971256,
           -0.02327829647139942,
           -0.016885486019303456,
           -0.04952998777902196,
           -0.07036123295693425,
           -0.03854067734755397,
           -0.01906512915513714,
           1,
           0,
           0,
           0,
           0,
           0,
           0,
           0,
           0,
           0,
           0,
           0,
           0,
           0,
           0,
           0,
           0,
           0,
           0,
           0,
           0,
           0,
           0,
           0,
           0,
           0,
           0,
           0,
           0,
           0,
           0,
           0,
           0,
           0,
           0,
           0,
           0
          ],
          [
           0.8277676473248081,
           0.7210037807235355,
           0.4618814697177939,
           0.5056020590441435,
           -0.03134978938000665,
           -0.033364455442761703,
           -0.04326173485920823,
           -0.025048691596711622,
           0.047452438387494154,
           0.14656836918681737,
           0.15569234142607224,
           -0.02298895151944543,
           -0.021839722017550186,
           1,
           0,
           0,
           0,
           0,
           0,
           0,
           0,
           0,
           0,
           0,
           0,
           0,
           0,
           0,
           0,
           0,
           0,
           0,
           0,
           0,
           0,
           0,
           0,
           0,
           0,
           0,
           0,
           0,
           0,
           0,
           0,
           0,
           0,
           0,
           0
          ],
          [
           -0.014100235181752178,
           -0.0318264055258543,
           -0.07509141446830464,
           -0.03974539083447438,
           -0.01203591444235812,
           0.02729910172613884,
           0.17271392062520594,
           0.0074572078626271,
           0.07966851951694437,
           0.07187863061488509,
           0.029839307509329796,
           0.03627849592793653,
           -0.02644864677967577,
           -0.014591844262179979,
           1,
           0,
           0,
           0,
           0,
           0,
           0,
           0,
           0,
           0,
           0,
           0,
           0,
           0,
           0,
           0,
           0,
           0,
           0,
           0,
           0,
           0,
           0,
           0,
           0,
           0,
           0,
           0,
           0,
           0,
           0,
           0,
           0,
           0,
           0
          ],
          [
           -0.02610269722443579,
           0.23776258673420586,
           0.23133239467719763,
           0.14401421541241133,
           0.013227518586061198,
           0.3160756037084523,
           0.024169886295799525,
           -0.021698771408142366,
           -0.0653953488173868,
           -0.08897127804093657,
           -0.05041744843829645,
           -0.02482191634823663,
           -0.018220189021357414,
           -0.027794301076219507,
           -0.04035330269886221,
           1,
           0,
           0,
           0,
           0,
           0,
           0,
           0,
           0,
           0,
           0,
           0,
           0,
           0,
           0,
           0,
           0,
           0,
           0,
           0,
           0,
           0,
           0,
           0,
           0,
           0,
           0,
           0,
           0,
           0,
           0,
           0,
           0,
           0
          ],
          [
           -0.040757927938219696,
           -0.06680974430280236,
           -0.09327498860632903,
           -0.094573340235048,
           -0.03690692359641503,
           -0.07227357327427551,
           0.02765015362311633,
           -0.02814793327729043,
           -0.09773774387540224,
           -0.12526995646273464,
           -0.06186948248219617,
           -0.04730438355392242,
           0.4460135468344935,
           -0.01860642643498654,
           -0.038628279072071364,
           -0.038928051104565466,
           1,
           0,
           0,
           0,
           0,
           0,
           0,
           0,
           0,
           0,
           0,
           0,
           0,
           0,
           0,
           0,
           0,
           0,
           0,
           0,
           0,
           0,
           0,
           0,
           0,
           0,
           0,
           0,
           0,
           0,
           0,
           0,
           0
          ],
          [
           -0.03545163351035852,
           -0.05891618808786711,
           -0.07640860235931368,
           -0.08475852755623156,
           -0.005316763381837494,
           -0.0947403110642839,
           -0.07736578980330594,
           -0.028124645040807215,
           -0.08831252666075741,
           -0.1193116953026225,
           -0.06363462800586443,
           -0.03226397338021906,
           0.6062876680904449,
           -0.03740461854309461,
           -0.0529395171554971,
           -0.03198430388611377,
           0.6854296311310178,
           1,
           0,
           0,
           0,
           0,
           0,
           0,
           0,
           0,
           0,
           0,
           0,
           0,
           0,
           0,
           0,
           0,
           0,
           0,
           0,
           0,
           0,
           0,
           0,
           0,
           0,
           0,
           0,
           0,
           0,
           0,
           0
          ],
          [
           0.01850678023195318,
           -0.03955899846212707,
           -0.04194367959997163,
           -0.02868680743612475,
           0.09976678901734237,
           0.05106169654644246,
           0.5931483512194086,
           -0.012734112258614047,
           -0.044226269846483514,
           -0.07980451429332701,
           -0.07505130690372976,
           0.06755849059601271,
           0.017123792094563186,
           -0.033047770974926664,
           0.1422290462339791,
           -0.032467071256346805,
           0.0401722203219435,
           0.02363462319460729,
           1,
           0,
           0,
           0,
           0,
           0,
           0,
           0,
           0,
           0,
           0,
           0,
           0,
           0,
           0,
           0,
           0,
           0,
           0,
           0,
           0,
           0,
           0,
           0,
           0,
           0,
           0,
           0,
           0,
           0,
           0
          ],
          [
           -0.007745753786260987,
           -0.033354880765379805,
           -0.057011525625417774,
           -0.06429683165955853,
           0.03501553020522137,
           -0.04220968489743413,
           -0.035499351272092805,
           -0.01949854943451954,
           -0.06691310759016546,
           -0.0911275124928467,
           -0.04991394151700078,
           -0.0263985890930115,
           0.8331075290119138,
           -0.028228428001618035,
           -0.030704858963767845,
           -0.02559744730455087,
           0.3864129495326115,
           0.5067606234476637,
           -0.012042737105843852,
           1,
           0,
           0,
           0,
           0,
           0,
           0,
           0,
           0,
           0,
           0,
           0,
           0,
           0,
           0,
           0,
           0,
           0,
           0,
           0,
           0,
           0,
           0,
           0,
           0,
           0,
           0,
           0,
           0,
           0
          ],
          [
           -0.0339686257904483,
           -0.06163437073415701,
           -0.03173113396482223,
           -0.04823218012522213,
           -0.04924616811325353,
           -0.03962717113337882,
           0.0015744345386510465,
           -0.03521249596483834,
           -0.007029526471233691,
           -0.06982682396609942,
           -0.057788790394358525,
           0.04324972907000284,
           -0.029508090270100724,
           0.004536022198417933,
           -0.021021479728849865,
           -0.037250404956652744,
           -0.06142335560611979,
           -0.05181685562587677,
           0.008413377081492064,
           -0.0403998109228097,
           1,
           0,
           0,
           0,
           0,
           0,
           0,
           0,
           0,
           0,
           0,
           0,
           0,
           0,
           0,
           0,
           0,
           0,
           0,
           0,
           0,
           0,
           0,
           0,
           0,
           0,
           0,
           0,
           0
          ],
          [
           -0.03355036857833241,
           -0.05403068274360228,
           -0.07151645610129705,
           -0.07197211938298351,
           0.010427839334153003,
           -0.08902140198429144,
           -0.0753431167876275,
           -0.027578253096085942,
           -0.0837130979155064,
           -0.11347440111185414,
           -0.06156854647328499,
           -0.030694428643591207,
           0.7380859627149139,
           -0.03559881253504904,
           -0.05006370604250095,
           -0.027004651797206715,
           0.676155781141958,
           0.9636459892502257,
           0.015061979762058291,
           0.6136958285990898,
           -0.04982420663001955,
           1,
           0,
           0,
           0,
           0,
           0,
           0,
           0,
           0,
           0,
           0,
           0,
           0,
           0,
           0,
           0,
           0,
           0,
           0,
           0,
           0,
           0,
           0,
           0,
           0,
           0,
           0,
           0
          ],
          [
           0.06938920524585608,
           -0.05494464384271826,
           -0.10327156202967262,
           -0.022710516279570672,
           0.3456233928888796,
           0.44053430088244394,
           -0.04162987245526799,
           0.3558980751789395,
           -0.20768494492599834,
           -0.2827686503767387,
           -0.15716888245322394,
           -0.07179290992857286,
           -0.0554008189852181,
           -0.030510056210301353,
           0.012990789917965142,
           -0.07542667980112598,
           -0.05646099746827311,
           -0.0843106779364871,
           0.010027635890940632,
           -0.005314956429626398,
           -0.0018465449564227887,
           -0.07458988312574108,
           1,
           0,
           0,
           0,
           0,
           0,
           0,
           0,
           0,
           0,
           0,
           0,
           0,
           0,
           0,
           0,
           0,
           0,
           0,
           0,
           0,
           0,
           0,
           0,
           0,
           0,
           0
          ],
          [
           -0.036391687342769805,
           -0.05874513771840216,
           -0.07217483767850531,
           -0.07296368592227925,
           -0.05986194500398004,
           0.0060130752682810585,
           0.19822034314538473,
           -0.002363834351456891,
           -0.08508229566346129,
           -0.09916383708206657,
           -0.06190278527820358,
           -0.027852699325866783,
           -0.01652257879884353,
           -0.03331547058622267,
           0.005572596325552349,
           -0.03837413020269964,
           0.64008721449396,
           0.12460876283954164,
           0.09892000459411097,
           -0.005571526022845486,
           -0.03549399055322042,
           0.08908354713876093,
           0.02026289951327887,
           1,
           0,
           0,
           0,
           0,
           0,
           0,
           0,
           0,
           0,
           0,
           0,
           0,
           0,
           0,
           0,
           0,
           0,
           0,
           0,
           0,
           0,
           0,
           0,
           0,
           0
          ],
          [
           -0.02056157102195649,
           -0.02606412668313791,
           0.011484089611868219,
           0.01938474560915867,
           0.004457796461255914,
           -0.013753889512605836,
           -0.03255338970137136,
           0.02018992006101838,
           -0.04073878115462599,
           -0.012830241295963924,
           0.3051487761441691,
           0.08253409573647445,
           -0.01587674182969553,
           -0.026659657897902516,
           -0.01273910209208873,
           -0.005297729071281326,
           -0.031516833774595174,
           -0.021024517967626787,
           -0.024937595237678765,
           -0.022363235467608395,
           -0.017036710181797473,
           -0.022772132162001076,
           -0.004319722044351816,
           -0.02755469142807957,
           1,
           0,
           0,
           0,
           0,
           0,
           0,
           0,
           0,
           0,
           0,
           0,
           0,
           0,
           0,
           0,
           0,
           0,
           0,
           0,
           0,
           0,
           0,
           0,
           0
          ],
          [
           0.22912509761321814,
           0.32736140052027074,
           0.41239102269135036,
           0.42544795380731387,
           0.2074823203887813,
           0.26997128293730527,
           -0.027601034953087644,
           0.10123914653393695,
           0.04411135075002263,
           0.20206930745214813,
           0.18905182850706767,
           -0.08247157271140618,
           -0.0008909319533762574,
           0.24937819328183372,
           -0.051046899176499926,
           0.018521360973814245,
           -0.1026481265127111,
           -0.07770593391686706,
           -0.035747811015058056,
           0.028231664025425762,
           -0.10458569385391611,
           -0.0580413143539613,
           0.13272987237580341,
           -0.10862891039871606,
           0.28800834518696766,
           1,
           0,
           0,
           0,
           0,
           0,
           0,
           0,
           0,
           0,
           0,
           0,
           0,
           0,
           0,
           0,
           0,
           0,
           0,
           0,
           0,
           0,
           0,
           0
          ],
          [
           -0.023151031917251055,
           0.018324711313050135,
           0.03626976568767192,
           0.01480205883141258,
           -0.035279549282891225,
           0.11985863573002464,
           0.013961494674871629,
           0.15626373663290494,
           -0.013044548385915216,
           0.03396843098027796,
           -0.04488393838565858,
           -0.021633542947471666,
           -0.015996982852162254,
           -0.024496129296934326,
           -0.009830259885679206,
           -0.02134656939027649,
           -0.03676047152823801,
           -0.028594414006978982,
           -0.021128270672258562,
           -0.02067911212020439,
           -0.03455981192085783,
           -0.027302305437913416,
           0.03847468123138309,
           -0.013242048943765246,
           -0.019690195932709483,
           0.05675013902420309,
           1,
           0,
           0,
           0,
           0,
           0,
           0,
           0,
           0,
           0,
           0,
           0,
           0,
           0,
           0,
           0,
           0,
           0,
           0,
           0,
           0,
           0,
           0
          ],
          [
           -0.005796075607893444,
           0.007926563039254783,
           0.17101327474287645,
           -0.045528255826543615,
           0.007469216693870278,
           -0.026985743565049142,
           -0.031697914037305375,
           -0.009529907267447426,
           0.03088072553410897,
           0.01591670296609142,
           -0.0398865832181112,
           -0.01648205780075192,
           0.3859223123099006,
           -0.022207800881614167,
           -0.02559613143863361,
           -0.007175636488798106,
           0.1929608019974955,
           0.26050923556521305,
           -0.014700337357532912,
           0.4471972709576107,
           -0.030122323217004626,
           0.32412580770531213,
           -0.01688117491304351,
           -0.025290468952302556,
           -0.018517345688688184,
           0.030314754718298212,
           -0.015430657824084693,
           1,
           0,
           0,
           0,
           0,
           0,
           0,
           0,
           0,
           0,
           0,
           0,
           0,
           0,
           0,
           0,
           0,
           0,
           0,
           0,
           0,
           0
          ],
          [
           -0.022956557157602146,
           -0.032112231930089295,
           -0.025065189373794247,
           -0.05555223483164617,
           0.05053799115474178,
           -0.058612317059442,
           0.01845718258148543,
           -0.013477374447341827,
           0.0021437535752105476,
           -0.07801733203492453,
           -0.043942432859976004,
           -0.021391450107829734,
           0.957673701622879,
           -0.0241317918225815,
           -0.0220915806443288,
           -0.021961274710498503,
           0.5000063024380809,
           0.6194580977722096,
           0.04026666108885579,
           0.8028703606199918,
           -0.0334688750664028,
           0.7589437777156086,
           -0.060887589834877354,
           0.0191596041635292,
           -0.02074802545583175,
           -0.0053497298055978516,
           -0.001830875002798427,
           0.40517053802850483,
           1,
           0,
           0,
           0,
           0,
           0,
           0,
           0,
           0,
           0,
           0,
           0,
           0,
           0,
           0,
           0,
           0,
           0,
           0,
           0,
           0
          ],
          [
           -0.03656498505092663,
           -0.06665945079538546,
           -0.08598854690459233,
           -0.058673457746566245,
           0.005162594483849868,
           -0.09863370655661248,
           -0.03590982786764472,
           -0.026651004511487865,
           -0.09798636147865047,
           -0.12935678237415113,
           -0.06649461375884975,
           -0.03118070841978584,
           0.78079221913826,
           -0.04249526817036191,
           -0.048373832195588086,
           -0.036179452293390806,
           0.6726373198743464,
           0.8771916659175188,
           0.029994762564999274,
           0.6619008370158734,
           -0.05865803207039534,
           0.8905587125762054,
           -0.08068277633351369,
           0.14581619843557772,
           0.06670352274687312,
           0.012840681959073449,
           -0.02679347652119379,
           0.30344542707350275,
           0.7665538282083468,
           1,
           0,
           0,
           0,
           0,
           0,
           0,
           0,
           0,
           0,
           0,
           0,
           0,
           0,
           0,
           0,
           0,
           0,
           0,
           0
          ],
          [
           0.04945558974535291,
           0.001072632749472181,
           -0.033506796397337675,
           -0.037350745490690056,
           -0.01975889232189066,
           0.02691161577351948,
           -0.009195788599553579,
           -0.012814246091605065,
           -0.039000729280476196,
           -0.05311440750466522,
           -0.029890333624698662,
           -0.01466554214345746,
           -0.011303141765985611,
           -0.016416767319159056,
           -0.01009776989037771,
           -0.014203975328464236,
           -0.027036206820813733,
           -0.01942674581788441,
           -0.01949638460682785,
           0.20832885645216354,
           -0.022846039231516097,
           -0.018351098719459995,
           0.07264264521183776,
           -0.018505706664927082,
           -0.013515739808136567,
           0.014353246975210768,
           -0.012428140060452477,
           0.1883181769222609,
           -0.011940548167490024,
           -0.021880675893388782,
           1,
           0,
           0,
           0,
           0,
           0,
           0,
           0,
           0,
           0,
           0,
           0,
           0,
           0,
           0,
           0,
           0,
           0,
           0
          ],
          [
           -0.009145172043068021,
           0.025249762027746838,
           0.25007018793297964,
           -0.008978147751710165,
           -0.01559940903746747,
           -0.01824765461288259,
           -0.021057948619873267,
           -0.0027105444958834737,
           0.0726479899345477,
           0.08125753765715392,
           -0.017730153021881044,
           -0.004804392375030279,
           -0.006935827166374554,
           -0.009737998911053748,
           -0.01326646664636149,
           -0.008432369248210515,
           -0.01600879884567853,
           -0.011483436118088318,
           -0.011193841980574784,
           -0.008792174619120015,
           -0.013684360080291372,
           -0.010885907948604017,
           -0.026492887947466622,
           -0.013612325603643533,
           -0.008107038435524558,
           0.032558056010063584,
           -0.007478845873164969,
           0.8567148183472902,
           -0.0076999551739015525,
           -0.013419869659489709,
           -0.004577687602073137,
           1,
           0,
           0,
           0,
           0,
           0,
           0,
           0,
           0,
           0,
           0,
           0,
           0,
           0,
           0,
           0,
           0,
           0
          ],
          [
           -0.011254470354560274,
           0.03951423218493509,
           0.2812718156142739,
           -0.027420422900031667,
           -0.01988128353180268,
           -0.030507586954673566,
           -0.025914882448806315,
           -0.0024000920881010845,
           0.35841106608531415,
           0.0307436804081702,
           -0.02181954375782682,
           -0.005167357866090922,
           -0.006201365108122363,
           -0.011984030430599459,
           -0.017431312036856432,
           -0.010377262371419916,
           -0.01992457648007257,
           -0.014214452947174308,
           -0.015793689206559956,
           -0.011049392570260103,
           -0.016840604432532897,
           -0.013396700596817655,
           -0.032603369363341364,
           -0.0167519554844189,
           -0.009976895273944195,
           0.03442996964691653,
           0.061708944546502824,
           0.6055727191016009,
           0.0859315859307754,
           -0.01683452410032039,
           -0.005842861146403072,
           0.7027879083693085,
           1,
           0,
           0,
           0,
           0,
           0,
           0,
           0,
           0,
           0,
           0,
           0,
           0,
           0,
           0,
           0,
           0
          ],
          [
           -0.013201111220914209,
           0.02096445165759653,
           0.14085154949416,
           -0.032163224125526926,
           -0.009228787201255362,
           -0.03426231608915216,
           -0.0281118675389701,
           -0.006563141430867485,
           0.374188776271496,
           -0.04504479393186364,
           -0.025259578836558185,
           -0.009046030771084611,
           -0.006919704063648797,
           -0.014056860394595175,
           -0.015440017997679517,
           0.09856138586050411,
           -0.023248868652719006,
           -0.016673070201305894,
           -0.017082791610554333,
           -0.012879066700358563,
           -0.011092715911296885,
           -0.015577323550916752,
           -0.0027610915002015055,
           -0.01839511816048258,
           0.020015407368491844,
           0.0008776116966622533,
           0.07863705768137844,
           -0.005409097260837432,
           0.10920985073587103,
           -0.019726753580804786,
           -0.007130485767549494,
           0.0007462227832933682,
           0.6317191034418006,
           1,
           0,
           0,
           0,
           0,
           0,
           0,
           0,
           0,
           0,
           0,
           0,
           0,
           0,
           0,
           0
          ],
          [
           -0.002787163859839068,
           0.007285715123343282,
           -0.003478222545675591,
           0.0034484852305004354,
           0.0011529925644966851,
           -0.03350009085677506,
           -0.020765555070525448,
           -0.005330918090168769,
           0.012352459699788047,
           0.05091699429003373,
           0.049922326180681986,
           -0.010551868008783705,
           0.35486646745785894,
           0.08425796104469813,
           -0.012487218071863204,
           -0.013602275545747333,
           0.06498658196464864,
           0.193397236521192,
           0.0007340998032529731,
           0.21938903504369778,
           -0.021679376699512313,
           0.24486358017090382,
           -0.037777298499170484,
           -0.016097938470630034,
           -0.01222672943754217,
           0.037950254245396754,
           -0.009771132406374531,
           0.07826400522646357,
           0.23115071176469013,
           0.16350397301572997,
           -0.007514454397992421,
           -0.002610280533748198,
           -0.004332527530157391,
           -0.006824429236843901,
           1,
           0,
           0,
           0,
           0,
           0,
           0,
           0,
           0,
           0,
           0,
           0,
           0,
           0,
           0
          ],
          [
           -0.024240675343324546,
           -0.032645318960709026,
           -0.026269155398527193,
           -0.01032109518795438,
           0.03172163854696408,
           -0.06804169843116349,
           -0.05305590344487679,
           -0.020211018013280183,
           -0.0027302604780709656,
           0.043267906729891815,
           0.034573027065585904,
           0.002561740704284959,
           0.8236697991600198,
           0.13188029345841015,
           -0.029221778045543156,
           -0.02548960590202737,
           0.37074122013275534,
           0.4963511379650051,
           -0.00929249876623936,
           0.6799249409100976,
           -0.04063208991848993,
           0.6064632296809216,
           -0.07299392330750282,
           -0.028455185713405644,
           -0.019779845160306467,
           0.022127043941852234,
           -0.020865832726281314,
           0.31296593034802017,
           0.7815619171981599,
           0.6312556303227822,
           -0.01341414117964558,
           -0.00898487162608925,
           -0.011057197270771882,
           -0.012649692124336085,
           0.439519734098596,
           1,
           0,
           0,
           0,
           0,
           0,
           0,
           0,
           0,
           0,
           0,
           0,
           0,
           0
          ],
          [
           -0.010977242463087837,
           -0.003905876232479942,
           -0.027035590887159934,
           -0.03408009276439389,
           0.049744023798674986,
           -0.0585391643673934,
           -0.03085744411510364,
           -0.018710450805999937,
           -0.02995121555771051,
           -0.03088875153982279,
           0.0048767642604859406,
           -0.021511933515951615,
           0.9298927043935125,
           0.022565887240540258,
           -0.026255321287485606,
           -0.020892831274046907,
           0.4014554799193333,
           0.5269741479638796,
           0.039313011576050785,
           0.7917117116001214,
           -0.033750111354709754,
           0.6371170284401082,
           -0.0617698972337461,
           -0.023647842002856325,
           -0.01982437755361166,
           0.04113340950380921,
           -0.013817483093799578,
           0.3484787066118445,
           0.881272666378181,
           0.7393613408727683,
           -0.012347740201580578,
           -0.0036704811361038137,
           -0.0017377036597306906,
           -0.0046566456859745715,
           0.2258066884930405,
           0.7553654241927394,
           1,
           0,
           0,
           0,
           0,
           0,
           0,
           0,
           0,
           0,
           0,
           0,
           0
          ],
          [
           0.00006604511149881603,
           -0.023695598336646796,
           -0.02879390959251604,
           -0.010525731639452043,
           0.012612395290836506,
           -0.044462749237872606,
           -0.03408818218017194,
           -0.025790215417747217,
           -0.0018208896072671374,
           0.04765709646867034,
           0.03859137280860929,
           -0.014350059078514223,
           0.5620184282690875,
           0.156333351210815,
           -0.022007314887359183,
           -0.028666030254338847,
           0.2504414761453989,
           0.33556513863480375,
           0.001644207136946248,
           0.6313529885754228,
           -0.04620450184848268,
           0.4158725391961459,
           -0.01769692462711819,
           -0.02694810396774491,
           -0.025184932428491607,
           0.04294650304381416,
           -0.023286092399762537,
           0.3344054139334122,
           0.539129337496213,
           0.42036173287794565,
           0.36577041988771625,
           -0.007651946835909525,
           -0.008011357801417616,
           -0.01105472865580837,
           0.3395353855914483,
           0.8426579376533845,
           0.5102645521929691,
           1,
           0,
           0,
           0,
           0,
           0,
           0,
           0,
           0,
           0,
           0,
           0
          ],
          [
           0.00449508944285861,
           0.05179421544145528,
           0.050822420317682825,
           0.05474817772776973,
           -0.0307929573867088,
           -0.06060420542628792,
           0.1672042580524061,
           -0.021346373296537914,
           0.10938256523831118,
           0.1975851664795481,
           0.1695003953129685,
           -0.024659314133745336,
           -0.009748433966847674,
           0.27195498448781913,
           0.031709200688809724,
           -0.024306420225453245,
           0.022063652902849715,
           -0.03137587789085411,
           0.20831030821528948,
           -0.019866149838192994,
           -0.038277018963768276,
           -0.030618330698945314,
           -0.06154107502574124,
           0.06705353125534147,
           -0.022444379315659062,
           0.09224716736117944,
           -0.006774967721147281,
           0.0034885361548372216,
           0.012987077456457047,
           -0.022717436376164954,
           -0.007749495296866936,
           0.01535622179150134,
           0.059602372950039374,
           0.05495587675019939,
           0.2665699995883088,
           0.3544550588231707,
           0.13349307602672789,
           0.4168059927022937,
           1,
           0,
           0,
           0,
           0,
           0,
           0,
           0,
           0,
           0,
           0
          ],
          [
           -0.04602887207028952,
           0.017266735217041317,
           0.23051377770196926,
           0.05922956178221243,
           -0.03925637712847701,
           -0.02546909869331425,
           -0.08888048209195282,
           -0.026585507303918076,
           -0.05585946385444802,
           0.019149745366154387,
           0.02734432715195228,
           0.11060964258534312,
           -0.032131237790584785,
           -0.05000229954104238,
           -0.026561782595350664,
           -0.04259887637613257,
           -0.05374273640761822,
           -0.04800644911259034,
           -0.0177439122672642,
           -0.041015671266449456,
           0.019893025691343935,
           -0.049354217534493275,
           -0.003143293363555379,
           -0.0511735721240008,
           0.30641732123786314,
           0.1320388340678266,
           -0.029670838312000028,
           -0.03477253399806456,
           -0.03814054821077434,
           -0.0304187954253915,
           -0.025449977572207384,
           0.053927100202092466,
           -0.01872837618649523,
           -0.012260060261520817,
           -0.020886437727109356,
           -0.034997082967160295,
           -0.03550735117813403,
           -0.04708843152091649,
           -0.04099516271964195,
           1,
           0,
           0,
           0,
           0,
           0,
           0,
           0,
           0,
           0
          ],
          [
           -0.04032841754638378,
           0.031918487391887254,
           0.03400411278653016,
           0.1064690054213564,
           0.11689980558660142,
           0.2685808620627775,
           0.18540940264436495,
           0.23922280047347283,
           0.14199230341728686,
           0.1250629360598196,
           0.07457077944098313,
           0.18629583272504266,
           0.13543481731460283,
           0.010663178850720729,
           0.02814074203968392,
           0.13557987658623655,
           0.12519616180163573,
           0.10897648956854415,
           0.02162446856902187,
           0.1173009482970732,
           -0.027902346570484456,
           0.1261322803006127,
           0.03475279065854152,
           0.0987747630596213,
           -0.004268680996631525,
           0.09858582237309621,
           -0.020384733714146553,
           0.024393052688711656,
           0.11957996432550826,
           0.1514109906872653,
           -0.017395992840081646,
           -0.029459523602583578,
           -0.05423558484821941,
           -0.0636164977255073,
           0.09649869840286543,
           0.12922182784852534,
           0.13510023029752635,
           0.0976935007863728,
           0.038731427670448466,
           0.0768015403746737,
           1,
           0,
           0,
           0,
           0,
           0,
           0,
           0,
           0
          ],
          [
           -0.06292861018389363,
           0.05152774867917377,
           0.09216246192834084,
           0.08435405654337383,
           0.04046881152524779,
           0.05082774125206905,
           -0.06308146536773623,
           0.15281440749186279,
           0.08380653325642345,
           0.04230309970045372,
           0.07043563527454953,
           0.04240767364523318,
           0.06939405589696222,
           -0.022312790056770122,
           -0.07521781607642238,
           0.18079868018417888,
           0.24295937548138333,
           0.2210633963137841,
           -0.04431267590579371,
           0.10433041739687866,
           0.040343127936272274,
           0.19666589511662558,
           -0.027006948921274934,
           0.1753954481446965,
           0.038747864815393815,
           -0.021257601018476745,
           -0.0750708429852958,
           0.00936315303533483,
           0.06149259413040199,
           0.21075004450039378,
           -0.006324580936500485,
           -0.02277045940213839,
           -0.05163645423283267,
           -0.04078859705178031,
           0.028952702910472233,
           0.06504917726023132,
           0.0741531382233486,
           0.059407952748039894,
           -0.0005586316078760959,
           0.19908883693543847,
           0.6711334562089569,
           1,
           0,
           0,
           0,
           0,
           0,
           0,
           0
          ],
          [
           -0.021022461878796497,
           -0.011285677838580217,
           -0.023032098768267503,
           -0.031059630871458487,
           -0.010550180240218133,
           -0.035056127231881555,
           0.5881977266425702,
           -0.03263846030197006,
           -0.04218605865848171,
           -0.07420512538002984,
           -0.022745840750778335,
           -0.03055248399743349,
           -0.006117324206828018,
           -0.025846855359358475,
           0.07985487733182922,
           0.029433978577874442,
           0.21174734867964123,
           0.0054098960862911894,
           0.42445345154717196,
           -0.022008205661782416,
           -0.03011221255922299,
           -0.005028926533141873,
           -0.048095720467478696,
           0.37820637474440216,
           -0.011920139030132365,
           -0.06377473898342043,
           -0.030904147614581438,
           -0.020907248674473168,
           0.061369375880326524,
           0.047731517173147,
           -0.010898262296671131,
           -0.011485796596837737,
           -0.01827466561643435,
           -0.021435561668152085,
           0.004815371140106754,
           -0.024600243773424995,
           -0.03126189886673907,
           -0.014844987389378516,
           0.2188363700365232,
           0.003282298922801904,
           -0.04109645892486542,
           0.0304193374721695,
           1,
           0,
           0,
           0,
           0,
           0,
           0
          ],
          [
           0.3517430664382921,
           0.14335765988547958,
           0.07359606173551284,
           0.059028145909762214,
           0.4835850662595392,
           0.07994706971531355,
           0.053552406299099395,
           -0.016331959394254653,
           -0.04953815057793037,
           -0.06678985719968374,
           -0.03797391459437611,
           -0.018284423807046837,
           -0.01397321494710559,
           0.156674448059883,
           -0.027758284053404154,
           -0.01811548003013301,
           -0.034785514070881,
           -0.024763547082179777,
           0.15197880479018086,
           -0.019107428202083537,
           -0.026200299150794904,
           -0.02337984750416431,
           0.10617408439909823,
           -0.02679813347783983,
           -0.01732293706328128,
           0.11719556330803961,
           -0.016069888868713036,
           -0.013860601852395193,
           -0.015213264501806456,
           -0.028813966871670416,
           -0.010701605677148713,
           -0.006347963189833318,
           -0.007812096174393171,
           -0.009163323303335648,
           -0.00886468371733592,
           -0.019111843870602867,
           -0.01574195559156289,
           -0.02143384326712467,
           -0.018093978032065312,
           -0.028718990013041613,
           0.04603999473538931,
           -0.020385480286713168,
           0.024210667611985644,
           1,
           0,
           0,
           0,
           0,
           0
          ],
          [
           0.018564906967229594,
           0.1297701845046766,
           0.25713120467090844,
           0.2379211829819767,
           0.015056227447857784,
           0.12318651004463244,
           0.16197628526208802,
           -0.06965453269813843,
           0.2425505657099684,
           0.3906173811735712,
           0.3269003493732353,
           0.10731695156183546,
           -0.05984834342760177,
           0.2011754760744112,
           0.0024093185250272254,
           -0.043896305911474136,
           -0.1093671650138206,
           -0.1035046032010238,
           0.02626458578756875,
           -0.033450579048895625,
           0.05266705256485101,
           -0.09818132098150378,
           -0.00028491936401475016,
           -0.08483098489643141,
           -0.014499951819504524,
           0.18862039077710235,
           -0.03821201549897722,
           -0.03667766632858321,
           -0.06603555240182515,
           -0.11646113922556825,
           0.010863743454237773,
           -0.012474989187772281,
           -0.03331171832595059,
           0.034466758271547,
           0.06901160893411615,
           0.023847345864795068,
           0.013248760032602638,
           0.05880797415605412,
           0.2385820864785281,
           0.052147300473216765,
           0.2904387999676089,
           0.13385323224858367,
           -0.03391596536800494,
           0.024630428209661503,
           1,
           0,
           0,
           0,
           0
          ],
          [
           0.025955836406462814,
           -0.051169187981583965,
           -0.08892730811518937,
           -0.0903037105097679,
           0.1926166217142887,
           -0.05752802435922338,
           0.11656973052237402,
           -0.033908635607328895,
           0.2837695602844209,
           0.3312434759486578,
           0.4220567276498285,
           -0.038791589945234455,
           -0.027818636795009337,
           -0.04309542739478371,
           0.07498057806491877,
           -0.03761129549461052,
           -0.066240578361178,
           -0.05064238535637385,
           0.014323066899328675,
           -0.03830140880985521,
           -0.058156447237150244,
           -0.04762391516956673,
           -0.04911292180803304,
           -0.05888823485472601,
           -0.036087258987814404,
           0.007182664445700998,
           -0.03335825007354241,
           -0.029851301593792103,
           -0.03241905861225504,
           -0.05659117908000954,
           -0.022138230106972166,
           -0.013177250027931221,
           -0.016216531421778212,
           -0.019021440207499518,
           -0.020435674445595096,
           -0.03960138977407027,
           -0.032405897694300335,
           -0.04467287240773328,
           -0.037571709356758104,
           -0.06787902875275538,
           0.08321218119173711,
           -0.0024815760913408182,
           -0.003641088938597257,
           0.3517807498771977,
           0.024013151112770827,
           1,
           0,
           0,
           0
          ],
          [
           0.027310521589796317,
           -0.034783896015161166,
           -0.04527811402620383,
           -0.04919652538042693,
           0.13395244887918956,
           0.19537835114656124,
           0.10424445059409672,
           -0.017264877370547424,
           -0.03150450582704634,
           -0.05205619496871701,
           -0.022431007667401436,
           -0.01975765145860741,
           -0.013930061163190023,
           -0.022114492508941406,
           0.017581895517225804,
           -0.01915011892491257,
           -0.033882423247514525,
           -0.026030422733371777,
           -0.010017493561610226,
           -0.019926480334961492,
           -0.0309309889284709,
           -0.02443448116797128,
           0.29384109761826877,
           -0.017191144100673027,
           -0.018239938691373466,
           0.05034484831409094,
           -0.01698464377880442,
           -0.014005623314167001,
           -0.014301281669202456,
           -0.02926657618455575,
           -0.011209367200801103,
           -0.006709311705956791,
           -0.00825678831831608,
           -0.009684932074432936,
           -0.010814145688048718,
           -0.020394385663237757,
           -0.01663570155352281,
           -0.022814730996042296,
           -0.019340491009147812,
           -0.03456119912990221,
           0.051810732756265875,
           -0.014933093518451911,
           0.03660099779675491,
           -0.012114668304299607,
           0.22351154368376377,
           -0.0015070097628406812,
           1,
           0,
           0
          ],
          [
           0.029931238453869358,
           -0.05890625110814132,
           -0.08215574136708986,
           -0.07931099247988588,
           0.2412235058176923,
           -0.04948977050734184,
           0.13475764950302538,
           0.0018616638204545035,
           0.38817065929002775,
           0.33425274993756066,
           0.34832274510300104,
           -0.03158963290271526,
           -0.024918518264725395,
           -0.03961000632932266,
           0.07095640743559323,
           -0.034747300133429054,
           -0.0613366005780416,
           -0.046823356170661516,
           0.022982312905793015,
           -0.035615615194243604,
           -0.049203097839973516,
           -0.044201053341208475,
           -0.014556195552313782,
           -0.05373998044529114,
           -0.033223455787876,
           -0.03490041750708805,
           -0.030818112271550353,
           -0.027508331423739974,
           -0.029989862645927706,
           -0.05233878939732733,
           -0.020416554152400495,
           -0.012173839152107188,
           -0.01498168773570839,
           -0.01757301053229527,
           -0.018794433831334976,
           -0.03665820648598326,
           -0.029768467461772037,
           -0.041305689172093825,
           -0.03486949744206633,
           -0.06271022983442917,
           0.09473502735326926,
           0.030537459598447923,
           -0.010913601831216384,
           0.36984266680210776,
           -0.03627401916268351,
           0.751074634626332,
           0.011360752221725369,
           1,
           0
          ],
          [
           -0.02245805390027756,
           0.16082956324559036,
           0.05914285414652254,
           0.12863073996290195,
           -0.039672674332738155,
           -0.06087723461085378,
           -0.051551023027473206,
           -0.01866903535656735,
           0.01741320672968081,
           0.17407828005436002,
           0.4714659478751775,
           -0.021365355075370088,
           -0.01700337437437516,
           -0.023886931435560057,
           -0.033777651683310476,
           -0.01906622871551922,
           -0.0348666159091607,
           -0.02774121060211438,
           -0.02279950023802676,
           -0.020439460617133514,
           0.16611114681214662,
           -0.026634145436975128,
           -0.06505932339995808,
           -0.01783507201478507,
           -0.019908680263116416,
           -0.0057704101669360484,
           -0.018366010277381266,
           -0.016610031387001532,
           -0.01777657135422854,
           -0.03233684358570657,
           -0.012230803222954556,
           -0.0072549821680411046,
           -0.008928315547105867,
           -0.01047261069064916,
           -0.011703493497264681,
           -0.02206439969806105,
           -0.0179940170482433,
           -0.024678530742006207,
           -0.02091883578605931,
           0.03763692476758419,
           -0.012911887114485321,
           0.11157528295255179,
           0.009765272930896851,
           -0.015588870149503086,
           0.19552822205218764,
           -0.03235974019854881,
           -0.016476243772838958,
           -0.029895636141538576,
           1
          ]
         ]
        }
       ],
       "layout": {
        "coloraxis": {
         "colorscale": [
          [
           0,
           "rgb(42, 86, 116)"
          ],
          [
           0.16666666666666666,
           "rgb(59, 115, 143)"
          ],
          [
           0.3333333333333333,
           "rgb(79, 144, 166)"
          ],
          [
           0.5,
           "rgb(104, 171, 184)"
          ],
          [
           0.6666666666666666,
           "rgb(133, 196, 201)"
          ],
          [
           0.8333333333333334,
           "rgb(168, 219, 217)"
          ],
          [
           1,
           "rgb(209, 238, 234)"
          ]
         ]
        },
        "height": 1000,
        "margin": {
         "t": 60
        },
        "template": {
         "data": {
          "bar": [
           {
            "error_x": {
             "color": "#2a3f5f"
            },
            "error_y": {
             "color": "#2a3f5f"
            },
            "marker": {
             "line": {
              "color": "#E5ECF6",
              "width": 0.5
             },
             "pattern": {
              "fillmode": "overlay",
              "size": 10,
              "solidity": 0.2
             }
            },
            "type": "bar"
           }
          ],
          "barpolar": [
           {
            "marker": {
             "line": {
              "color": "#E5ECF6",
              "width": 0.5
             },
             "pattern": {
              "fillmode": "overlay",
              "size": 10,
              "solidity": 0.2
             }
            },
            "type": "barpolar"
           }
          ],
          "carpet": [
           {
            "aaxis": {
             "endlinecolor": "#2a3f5f",
             "gridcolor": "white",
             "linecolor": "white",
             "minorgridcolor": "white",
             "startlinecolor": "#2a3f5f"
            },
            "baxis": {
             "endlinecolor": "#2a3f5f",
             "gridcolor": "white",
             "linecolor": "white",
             "minorgridcolor": "white",
             "startlinecolor": "#2a3f5f"
            },
            "type": "carpet"
           }
          ],
          "choropleth": [
           {
            "colorbar": {
             "outlinewidth": 0,
             "ticks": ""
            },
            "type": "choropleth"
           }
          ],
          "contour": [
           {
            "colorbar": {
             "outlinewidth": 0,
             "ticks": ""
            },
            "colorscale": [
             [
              0,
              "#0d0887"
             ],
             [
              0.1111111111111111,
              "#46039f"
             ],
             [
              0.2222222222222222,
              "#7201a8"
             ],
             [
              0.3333333333333333,
              "#9c179e"
             ],
             [
              0.4444444444444444,
              "#bd3786"
             ],
             [
              0.5555555555555556,
              "#d8576b"
             ],
             [
              0.6666666666666666,
              "#ed7953"
             ],
             [
              0.7777777777777778,
              "#fb9f3a"
             ],
             [
              0.8888888888888888,
              "#fdca26"
             ],
             [
              1,
              "#f0f921"
             ]
            ],
            "type": "contour"
           }
          ],
          "contourcarpet": [
           {
            "colorbar": {
             "outlinewidth": 0,
             "ticks": ""
            },
            "type": "contourcarpet"
           }
          ],
          "heatmap": [
           {
            "colorbar": {
             "outlinewidth": 0,
             "ticks": ""
            },
            "colorscale": [
             [
              0,
              "#0d0887"
             ],
             [
              0.1111111111111111,
              "#46039f"
             ],
             [
              0.2222222222222222,
              "#7201a8"
             ],
             [
              0.3333333333333333,
              "#9c179e"
             ],
             [
              0.4444444444444444,
              "#bd3786"
             ],
             [
              0.5555555555555556,
              "#d8576b"
             ],
             [
              0.6666666666666666,
              "#ed7953"
             ],
             [
              0.7777777777777778,
              "#fb9f3a"
             ],
             [
              0.8888888888888888,
              "#fdca26"
             ],
             [
              1,
              "#f0f921"
             ]
            ],
            "type": "heatmap"
           }
          ],
          "heatmapgl": [
           {
            "colorbar": {
             "outlinewidth": 0,
             "ticks": ""
            },
            "colorscale": [
             [
              0,
              "#0d0887"
             ],
             [
              0.1111111111111111,
              "#46039f"
             ],
             [
              0.2222222222222222,
              "#7201a8"
             ],
             [
              0.3333333333333333,
              "#9c179e"
             ],
             [
              0.4444444444444444,
              "#bd3786"
             ],
             [
              0.5555555555555556,
              "#d8576b"
             ],
             [
              0.6666666666666666,
              "#ed7953"
             ],
             [
              0.7777777777777778,
              "#fb9f3a"
             ],
             [
              0.8888888888888888,
              "#fdca26"
             ],
             [
              1,
              "#f0f921"
             ]
            ],
            "type": "heatmapgl"
           }
          ],
          "histogram": [
           {
            "marker": {
             "pattern": {
              "fillmode": "overlay",
              "size": 10,
              "solidity": 0.2
             }
            },
            "type": "histogram"
           }
          ],
          "histogram2d": [
           {
            "colorbar": {
             "outlinewidth": 0,
             "ticks": ""
            },
            "colorscale": [
             [
              0,
              "#0d0887"
             ],
             [
              0.1111111111111111,
              "#46039f"
             ],
             [
              0.2222222222222222,
              "#7201a8"
             ],
             [
              0.3333333333333333,
              "#9c179e"
             ],
             [
              0.4444444444444444,
              "#bd3786"
             ],
             [
              0.5555555555555556,
              "#d8576b"
             ],
             [
              0.6666666666666666,
              "#ed7953"
             ],
             [
              0.7777777777777778,
              "#fb9f3a"
             ],
             [
              0.8888888888888888,
              "#fdca26"
             ],
             [
              1,
              "#f0f921"
             ]
            ],
            "type": "histogram2d"
           }
          ],
          "histogram2dcontour": [
           {
            "colorbar": {
             "outlinewidth": 0,
             "ticks": ""
            },
            "colorscale": [
             [
              0,
              "#0d0887"
             ],
             [
              0.1111111111111111,
              "#46039f"
             ],
             [
              0.2222222222222222,
              "#7201a8"
             ],
             [
              0.3333333333333333,
              "#9c179e"
             ],
             [
              0.4444444444444444,
              "#bd3786"
             ],
             [
              0.5555555555555556,
              "#d8576b"
             ],
             [
              0.6666666666666666,
              "#ed7953"
             ],
             [
              0.7777777777777778,
              "#fb9f3a"
             ],
             [
              0.8888888888888888,
              "#fdca26"
             ],
             [
              1,
              "#f0f921"
             ]
            ],
            "type": "histogram2dcontour"
           }
          ],
          "mesh3d": [
           {
            "colorbar": {
             "outlinewidth": 0,
             "ticks": ""
            },
            "type": "mesh3d"
           }
          ],
          "parcoords": [
           {
            "line": {
             "colorbar": {
              "outlinewidth": 0,
              "ticks": ""
             }
            },
            "type": "parcoords"
           }
          ],
          "pie": [
           {
            "automargin": true,
            "type": "pie"
           }
          ],
          "scatter": [
           {
            "fillpattern": {
             "fillmode": "overlay",
             "size": 10,
             "solidity": 0.2
            },
            "type": "scatter"
           }
          ],
          "scatter3d": [
           {
            "line": {
             "colorbar": {
              "outlinewidth": 0,
              "ticks": ""
             }
            },
            "marker": {
             "colorbar": {
              "outlinewidth": 0,
              "ticks": ""
             }
            },
            "type": "scatter3d"
           }
          ],
          "scattercarpet": [
           {
            "marker": {
             "colorbar": {
              "outlinewidth": 0,
              "ticks": ""
             }
            },
            "type": "scattercarpet"
           }
          ],
          "scattergeo": [
           {
            "marker": {
             "colorbar": {
              "outlinewidth": 0,
              "ticks": ""
             }
            },
            "type": "scattergeo"
           }
          ],
          "scattergl": [
           {
            "marker": {
             "colorbar": {
              "outlinewidth": 0,
              "ticks": ""
             }
            },
            "type": "scattergl"
           }
          ],
          "scattermapbox": [
           {
            "marker": {
             "colorbar": {
              "outlinewidth": 0,
              "ticks": ""
             }
            },
            "type": "scattermapbox"
           }
          ],
          "scatterpolar": [
           {
            "marker": {
             "colorbar": {
              "outlinewidth": 0,
              "ticks": ""
             }
            },
            "type": "scatterpolar"
           }
          ],
          "scatterpolargl": [
           {
            "marker": {
             "colorbar": {
              "outlinewidth": 0,
              "ticks": ""
             }
            },
            "type": "scatterpolargl"
           }
          ],
          "scatterternary": [
           {
            "marker": {
             "colorbar": {
              "outlinewidth": 0,
              "ticks": ""
             }
            },
            "type": "scatterternary"
           }
          ],
          "surface": [
           {
            "colorbar": {
             "outlinewidth": 0,
             "ticks": ""
            },
            "colorscale": [
             [
              0,
              "#0d0887"
             ],
             [
              0.1111111111111111,
              "#46039f"
             ],
             [
              0.2222222222222222,
              "#7201a8"
             ],
             [
              0.3333333333333333,
              "#9c179e"
             ],
             [
              0.4444444444444444,
              "#bd3786"
             ],
             [
              0.5555555555555556,
              "#d8576b"
             ],
             [
              0.6666666666666666,
              "#ed7953"
             ],
             [
              0.7777777777777778,
              "#fb9f3a"
             ],
             [
              0.8888888888888888,
              "#fdca26"
             ],
             [
              1,
              "#f0f921"
             ]
            ],
            "type": "surface"
           }
          ],
          "table": [
           {
            "cells": {
             "fill": {
              "color": "#EBF0F8"
             },
             "line": {
              "color": "white"
             }
            },
            "header": {
             "fill": {
              "color": "#C8D4E3"
             },
             "line": {
              "color": "white"
             }
            },
            "type": "table"
           }
          ]
         },
         "layout": {
          "annotationdefaults": {
           "arrowcolor": "#2a3f5f",
           "arrowhead": 0,
           "arrowwidth": 1
          },
          "autotypenumbers": "strict",
          "coloraxis": {
           "colorbar": {
            "outlinewidth": 0,
            "ticks": ""
           }
          },
          "colorscale": {
           "diverging": [
            [
             0,
             "#8e0152"
            ],
            [
             0.1,
             "#c51b7d"
            ],
            [
             0.2,
             "#de77ae"
            ],
            [
             0.3,
             "#f1b6da"
            ],
            [
             0.4,
             "#fde0ef"
            ],
            [
             0.5,
             "#f7f7f7"
            ],
            [
             0.6,
             "#e6f5d0"
            ],
            [
             0.7,
             "#b8e186"
            ],
            [
             0.8,
             "#7fbc41"
            ],
            [
             0.9,
             "#4d9221"
            ],
            [
             1,
             "#276419"
            ]
           ],
           "sequential": [
            [
             0,
             "#0d0887"
            ],
            [
             0.1111111111111111,
             "#46039f"
            ],
            [
             0.2222222222222222,
             "#7201a8"
            ],
            [
             0.3333333333333333,
             "#9c179e"
            ],
            [
             0.4444444444444444,
             "#bd3786"
            ],
            [
             0.5555555555555556,
             "#d8576b"
            ],
            [
             0.6666666666666666,
             "#ed7953"
            ],
            [
             0.7777777777777778,
             "#fb9f3a"
            ],
            [
             0.8888888888888888,
             "#fdca26"
            ],
            [
             1,
             "#f0f921"
            ]
           ],
           "sequentialminus": [
            [
             0,
             "#0d0887"
            ],
            [
             0.1111111111111111,
             "#46039f"
            ],
            [
             0.2222222222222222,
             "#7201a8"
            ],
            [
             0.3333333333333333,
             "#9c179e"
            ],
            [
             0.4444444444444444,
             "#bd3786"
            ],
            [
             0.5555555555555556,
             "#d8576b"
            ],
            [
             0.6666666666666666,
             "#ed7953"
            ],
            [
             0.7777777777777778,
             "#fb9f3a"
            ],
            [
             0.8888888888888888,
             "#fdca26"
            ],
            [
             1,
             "#f0f921"
            ]
           ]
          },
          "colorway": [
           "#636efa",
           "#EF553B",
           "#00cc96",
           "#ab63fa",
           "#FFA15A",
           "#19d3f3",
           "#FF6692",
           "#B6E880",
           "#FF97FF",
           "#FECB52"
          ],
          "font": {
           "color": "#2a3f5f"
          },
          "geo": {
           "bgcolor": "white",
           "lakecolor": "white",
           "landcolor": "#E5ECF6",
           "showlakes": true,
           "showland": true,
           "subunitcolor": "white"
          },
          "hoverlabel": {
           "align": "left"
          },
          "hovermode": "closest",
          "mapbox": {
           "style": "light"
          },
          "paper_bgcolor": "white",
          "plot_bgcolor": "#E5ECF6",
          "polar": {
           "angularaxis": {
            "gridcolor": "white",
            "linecolor": "white",
            "ticks": ""
           },
           "bgcolor": "#E5ECF6",
           "radialaxis": {
            "gridcolor": "white",
            "linecolor": "white",
            "ticks": ""
           }
          },
          "scene": {
           "xaxis": {
            "backgroundcolor": "#E5ECF6",
            "gridcolor": "white",
            "gridwidth": 2,
            "linecolor": "white",
            "showbackground": true,
            "ticks": "",
            "zerolinecolor": "white"
           },
           "yaxis": {
            "backgroundcolor": "#E5ECF6",
            "gridcolor": "white",
            "gridwidth": 2,
            "linecolor": "white",
            "showbackground": true,
            "ticks": "",
            "zerolinecolor": "white"
           },
           "zaxis": {
            "backgroundcolor": "#E5ECF6",
            "gridcolor": "white",
            "gridwidth": 2,
            "linecolor": "white",
            "showbackground": true,
            "ticks": "",
            "zerolinecolor": "white"
           }
          },
          "shapedefaults": {
           "line": {
            "color": "#2a3f5f"
           }
          },
          "ternary": {
           "aaxis": {
            "gridcolor": "white",
            "linecolor": "white",
            "ticks": ""
           },
           "baxis": {
            "gridcolor": "white",
            "linecolor": "white",
            "ticks": ""
           },
           "bgcolor": "#E5ECF6",
           "caxis": {
            "gridcolor": "white",
            "linecolor": "white",
            "ticks": ""
           }
          },
          "title": {
           "x": 0.05
          },
          "xaxis": {
           "automargin": true,
           "gridcolor": "white",
           "linecolor": "white",
           "ticks": "",
           "title": {
            "standoff": 15
           },
           "zerolinecolor": "white",
           "zerolinewidth": 2
          },
          "yaxis": {
           "automargin": true,
           "gridcolor": "white",
           "linecolor": "white",
           "ticks": "",
           "title": {
            "standoff": 15
           },
           "zerolinecolor": "white",
           "zerolinewidth": 2
          }
         }
        },
        "width": 1000,
        "xaxis": {
         "anchor": "y",
         "constrain": "domain",
         "domain": [
          0,
          1
         ],
         "scaleanchor": "y"
        },
        "yaxis": {
         "anchor": "x",
         "autorange": "reversed",
         "constrain": "domain",
         "domain": [
          0,
          1
         ]
        }
       }
      }
     },
     "metadata": {},
     "output_type": "display_data"
    }
   ],
   "source": [
    "# Calculate the correlation matrix\n",
    "corr_matrix = chem_df.corr()\n",
    "\n",
    "# Creating a triangular correlation matrix, hiding the upper triangle\n",
    "tril_corr_matrix = np.tril(corr_matrix)\n",
    "\n",
    "# Visualize the correlation matrix using Pony Express\n",
    "fig = px.imshow(tril_corr_matrix, x=list(corr_matrix.columns), y=list(corr_matrix.columns), color_continuous_scale = px.colors.sequential.Teal_r)\n",
    "\n",
    "# Increasing the size of the drawing\n",
    "fig.update_layout(width=1000, height=1000)\n",
    "fig.show()"
   ]
  },
  {
   "cell_type": "markdown",
   "metadata": {},
   "source": [
    "**Conclusion**: In this picture, you can see that the strongest correlations are observed between\n",
    "- Acetoine and 2,3-butanediol\n",
    "- Ethyl octanoate and Ethyl decactanoate\n",
    "- 1-hexanol and Ethel butyrate\n",
    "- Ethyl octanoate and Ethyl hexanoate\n",
    "- 1-hexnaol and Nerol\n"
   ]
  },
  {
   "cell_type": "markdown",
   "metadata": {},
   "source": [
    "### 3.3. Columns with zeros\n",
    "Let's check if there are columns that do not contain any values other than zeros"
   ]
  },
  {
   "cell_type": "code",
   "execution_count": 28,
   "metadata": {},
   "outputs": [
    {
     "name": "stdout",
     "output_type": "stream",
     "text": [
      "All columns contain not only null values.\n"
     ]
    }
   ],
   "source": [
    "columns_with_only_zeros = chem_df.columns[chem_df.eq(0).all()]\n",
    "\n",
    "if len(columns_with_only_zeros) > 0:\n",
    "    print(\"Columns with only zero values:\", columns_with_only_zeros)\n",
    "else:\n",
    "    print(\"All columns contain not only null values.\")"
   ]
  },
  {
   "cell_type": "markdown",
   "metadata": {},
   "source": [
    "## 4. Aromas of wine\n",
    "Let's consider separately the pillars describing the flavors of wine"
   ]
  },
  {
   "cell_type": "code",
   "execution_count": 29,
   "metadata": {},
   "outputs": [
    {
     "data": {
      "text/html": [
       "<div>\n",
       "<style scoped>\n",
       "    .dataframe tbody tr th:only-of-type {\n",
       "        vertical-align: middle;\n",
       "    }\n",
       "\n",
       "    .dataframe tbody tr th {\n",
       "        vertical-align: top;\n",
       "    }\n",
       "\n",
       "    .dataframe thead th {\n",
       "        text-align: right;\n",
       "    }\n",
       "</style>\n",
       "<table border=\"1\" class=\"dataframe\">\n",
       "  <thead>\n",
       "    <tr style=\"text-align: right;\">\n",
       "      <th></th>\n",
       "      <th>Herbs and spices</th>\n",
       "      <th>Tobacco/Smoke</th>\n",
       "      <th>Wood</th>\n",
       "      <th>Berries</th>\n",
       "      <th>Citrus</th>\n",
       "      <th>Fruits</th>\n",
       "      <th>Nuts</th>\n",
       "      <th>Coffee</th>\n",
       "      <th>Chocolate/Cacao</th>\n",
       "      <th>Flowers</th>\n",
       "    </tr>\n",
       "  </thead>\n",
       "  <tbody>\n",
       "    <tr>\n",
       "      <th>0</th>\n",
       "      <td>0</td>\n",
       "      <td>1</td>\n",
       "      <td>0</td>\n",
       "      <td>1</td>\n",
       "      <td>0</td>\n",
       "      <td>0</td>\n",
       "      <td>0</td>\n",
       "      <td>0</td>\n",
       "      <td>1</td>\n",
       "      <td>0</td>\n",
       "    </tr>\n",
       "    <tr>\n",
       "      <th>1</th>\n",
       "      <td>1</td>\n",
       "      <td>1</td>\n",
       "      <td>0</td>\n",
       "      <td>1</td>\n",
       "      <td>0</td>\n",
       "      <td>0</td>\n",
       "      <td>0</td>\n",
       "      <td>0</td>\n",
       "      <td>1</td>\n",
       "      <td>0</td>\n",
       "    </tr>\n",
       "    <tr>\n",
       "      <th>2</th>\n",
       "      <td>0</td>\n",
       "      <td>0</td>\n",
       "      <td>0</td>\n",
       "      <td>1</td>\n",
       "      <td>0</td>\n",
       "      <td>0</td>\n",
       "      <td>0</td>\n",
       "      <td>0</td>\n",
       "      <td>0</td>\n",
       "      <td>0</td>\n",
       "    </tr>\n",
       "    <tr>\n",
       "      <th>3</th>\n",
       "      <td>1</td>\n",
       "      <td>1</td>\n",
       "      <td>0</td>\n",
       "      <td>1</td>\n",
       "      <td>0</td>\n",
       "      <td>1</td>\n",
       "      <td>0</td>\n",
       "      <td>1</td>\n",
       "      <td>1</td>\n",
       "      <td>0</td>\n",
       "    </tr>\n",
       "    <tr>\n",
       "      <th>4</th>\n",
       "      <td>1</td>\n",
       "      <td>0</td>\n",
       "      <td>0</td>\n",
       "      <td>0</td>\n",
       "      <td>0</td>\n",
       "      <td>1</td>\n",
       "      <td>0</td>\n",
       "      <td>0</td>\n",
       "      <td>0</td>\n",
       "      <td>1</td>\n",
       "    </tr>\n",
       "    <tr>\n",
       "      <th>...</th>\n",
       "      <td>...</td>\n",
       "      <td>...</td>\n",
       "      <td>...</td>\n",
       "      <td>...</td>\n",
       "      <td>...</td>\n",
       "      <td>...</td>\n",
       "      <td>...</td>\n",
       "      <td>...</td>\n",
       "      <td>...</td>\n",
       "      <td>...</td>\n",
       "    </tr>\n",
       "    <tr>\n",
       "      <th>444</th>\n",
       "      <td>0</td>\n",
       "      <td>0</td>\n",
       "      <td>0</td>\n",
       "      <td>1</td>\n",
       "      <td>0</td>\n",
       "      <td>1</td>\n",
       "      <td>0</td>\n",
       "      <td>0</td>\n",
       "      <td>0</td>\n",
       "      <td>0</td>\n",
       "    </tr>\n",
       "    <tr>\n",
       "      <th>445</th>\n",
       "      <td>0</td>\n",
       "      <td>0</td>\n",
       "      <td>0</td>\n",
       "      <td>1</td>\n",
       "      <td>0</td>\n",
       "      <td>0</td>\n",
       "      <td>0</td>\n",
       "      <td>0</td>\n",
       "      <td>0</td>\n",
       "      <td>0</td>\n",
       "    </tr>\n",
       "    <tr>\n",
       "      <th>446</th>\n",
       "      <td>1</td>\n",
       "      <td>0</td>\n",
       "      <td>0</td>\n",
       "      <td>1</td>\n",
       "      <td>0</td>\n",
       "      <td>0</td>\n",
       "      <td>0</td>\n",
       "      <td>0</td>\n",
       "      <td>0</td>\n",
       "      <td>0</td>\n",
       "    </tr>\n",
       "    <tr>\n",
       "      <th>447</th>\n",
       "      <td>0</td>\n",
       "      <td>1</td>\n",
       "      <td>0</td>\n",
       "      <td>1</td>\n",
       "      <td>0</td>\n",
       "      <td>0</td>\n",
       "      <td>1</td>\n",
       "      <td>0</td>\n",
       "      <td>1</td>\n",
       "      <td>1</td>\n",
       "    </tr>\n",
       "    <tr>\n",
       "      <th>448</th>\n",
       "      <td>1</td>\n",
       "      <td>0</td>\n",
       "      <td>0</td>\n",
       "      <td>1</td>\n",
       "      <td>0</td>\n",
       "      <td>0</td>\n",
       "      <td>0</td>\n",
       "      <td>0</td>\n",
       "      <td>0</td>\n",
       "      <td>0</td>\n",
       "    </tr>\n",
       "  </tbody>\n",
       "</table>\n",
       "<p>449 rows × 10 columns</p>\n",
       "</div>"
      ],
      "text/plain": [
       "     Herbs and spices  Tobacco/Smoke  Wood  Berries  Citrus  Fruits  Nuts  \\\n",
       "0                   0              1     0        1       0       0     0   \n",
       "1                   1              1     0        1       0       0     0   \n",
       "2                   0              0     0        1       0       0     0   \n",
       "3                   1              1     0        1       0       1     0   \n",
       "4                   1              0     0        0       0       1     0   \n",
       "..                ...            ...   ...      ...     ...     ...   ...   \n",
       "444                 0              0     0        1       0       1     0   \n",
       "445                 0              0     0        1       0       0     0   \n",
       "446                 1              0     0        1       0       0     0   \n",
       "447                 0              1     0        1       0       0     1   \n",
       "448                 1              0     0        1       0       0     0   \n",
       "\n",
       "     Coffee  Chocolate/Cacao  Flowers  \n",
       "0         0                1        0  \n",
       "1         0                1        0  \n",
       "2         0                0        0  \n",
       "3         1                1        0  \n",
       "4         0                0        1  \n",
       "..      ...              ...      ...  \n",
       "444       0                0        0  \n",
       "445       0                0        0  \n",
       "446       0                0        0  \n",
       "447       0                1        1  \n",
       "448       0                0        0  \n",
       "\n",
       "[449 rows x 10 columns]"
      ]
     },
     "execution_count": 29,
     "metadata": {},
     "output_type": "execute_result"
    }
   ],
   "source": [
    "aroma_df = wine_aroma_df.loc[:, 'Herbs and spices':]\n",
    "aroma_df"
   ]
  },
  {
   "cell_type": "markdown",
   "metadata": {},
   "source": [
    "### 4.1. Frequency of aromas\n",
    "Let's estimate how often certain flavors are found in the table and build a diagram"
   ]
  },
  {
   "cell_type": "code",
   "execution_count": 30,
   "metadata": {},
   "outputs": [
    {
     "data": {
      "text/html": [
       "<div>\n",
       "<style scoped>\n",
       "    .dataframe tbody tr th:only-of-type {\n",
       "        vertical-align: middle;\n",
       "    }\n",
       "\n",
       "    .dataframe tbody tr th {\n",
       "        vertical-align: top;\n",
       "    }\n",
       "\n",
       "    .dataframe thead th {\n",
       "        text-align: right;\n",
       "    }\n",
       "</style>\n",
       "<table border=\"1\" class=\"dataframe\">\n",
       "  <thead>\n",
       "    <tr style=\"text-align: right;\">\n",
       "      <th></th>\n",
       "      <th>index</th>\n",
       "      <th>Sum</th>\n",
       "    </tr>\n",
       "  </thead>\n",
       "  <tbody>\n",
       "    <tr>\n",
       "      <th>0</th>\n",
       "      <td>Herbs and spices</td>\n",
       "      <td>278</td>\n",
       "    </tr>\n",
       "    <tr>\n",
       "      <th>1</th>\n",
       "      <td>Tobacco/Smoke</td>\n",
       "      <td>47</td>\n",
       "    </tr>\n",
       "    <tr>\n",
       "      <th>2</th>\n",
       "      <td>Wood</td>\n",
       "      <td>74</td>\n",
       "    </tr>\n",
       "    <tr>\n",
       "      <th>3</th>\n",
       "      <td>Berries</td>\n",
       "      <td>227</td>\n",
       "    </tr>\n",
       "    <tr>\n",
       "      <th>4</th>\n",
       "      <td>Citrus</td>\n",
       "      <td>108</td>\n",
       "    </tr>\n",
       "    <tr>\n",
       "      <th>5</th>\n",
       "      <td>Fruits</td>\n",
       "      <td>303</td>\n",
       "    </tr>\n",
       "    <tr>\n",
       "      <th>6</th>\n",
       "      <td>Nuts</td>\n",
       "      <td>34</td>\n",
       "    </tr>\n",
       "    <tr>\n",
       "      <th>7</th>\n",
       "      <td>Coffee</td>\n",
       "      <td>23</td>\n",
       "    </tr>\n",
       "    <tr>\n",
       "      <th>8</th>\n",
       "      <td>Chocolate/Cacao</td>\n",
       "      <td>47</td>\n",
       "    </tr>\n",
       "    <tr>\n",
       "      <th>9</th>\n",
       "      <td>Flowers</td>\n",
       "      <td>151</td>\n",
       "    </tr>\n",
       "  </tbody>\n",
       "</table>\n",
       "</div>"
      ],
      "text/plain": [
       "              index  Sum\n",
       "0  Herbs and spices  278\n",
       "1     Tobacco/Smoke   47\n",
       "2              Wood   74\n",
       "3           Berries  227\n",
       "4            Citrus  108\n",
       "5            Fruits  303\n",
       "6              Nuts   34\n",
       "7            Coffee   23\n",
       "8   Chocolate/Cacao   47\n",
       "9           Flowers  151"
      ]
     },
     "execution_count": 30,
     "metadata": {},
     "output_type": "execute_result"
    }
   ],
   "source": [
    "# Calculate the sum of the values in the specified columns\n",
    "sums = aroma_df[['Herbs and spices', 'Tobacco/Smoke', 'Wood', 'Berries', 'Citrus', 'Fruits', 'Nuts', 'Coffee', 'Chocolate/Cacao', 'Flowers']].sum()\n",
    "sums_aroma = pd.DataFrame(sums, columns = ['Sum'])\n",
    "sums_aroma = sums_aroma.reset_index()\n",
    "sums_aroma"
   ]
  },
  {
   "cell_type": "code",
   "execution_count": null,
   "metadata": {},
   "outputs": [
    {
     "data": {
      "application/vnd.plotly.v1+json": {
       "config": {
        "plotlyServerURL": "https://plot.ly"
       },
       "data": [
        {
         "domain": {
          "x": [
           0,
           1
          ],
          "y": [
           0,
           1
          ]
         },
         "hovertemplate": "index=%{label}<br>Sum=%{value}<extra></extra>",
         "labels": [
          "Herbs and spices",
          "Tobacco/Smoke",
          "Wood",
          "Berries",
          "Citrus",
          "Fruits",
          "Nuts",
          "Coffee",
          "Chocolate/Cacao",
          "Flowers"
         ],
         "legendgroup": "",
         "name": "",
         "showlegend": true,
         "textfont": {
          "size": 25
         },
         "textinfo": "label+percent",
         "textposition": "inside",
         "type": "pie",
         "values": [
          278,
          47,
          74,
          227,
          108,
          303,
          34,
          23,
          47,
          151
         ]
        }
       ],
       "layout": {
        "height": 650,
        "legend": {
         "font": {
          "size": 20
         },
         "title": {
          "font": {
           "size": 18
          }
         },
         "tracegroupgap": 0
        },
        "margin": {
         "t": 60
        },
        "piecolorway": [
         "rgb(42, 86, 116)",
         "rgb(59, 115, 143)",
         "rgb(79, 144, 166)",
         "rgb(104, 171, 184)",
         "rgb(133, 196, 201)",
         "rgb(168, 219, 217)",
         "rgb(209, 238, 234)"
        ],
        "template": {
         "data": {
          "bar": [
           {
            "error_x": {
             "color": "#2a3f5f"
            },
            "error_y": {
             "color": "#2a3f5f"
            },
            "marker": {
             "line": {
              "color": "#E5ECF6",
              "width": 0.5
             },
             "pattern": {
              "fillmode": "overlay",
              "size": 10,
              "solidity": 0.2
             }
            },
            "type": "bar"
           }
          ],
          "barpolar": [
           {
            "marker": {
             "line": {
              "color": "#E5ECF6",
              "width": 0.5
             },
             "pattern": {
              "fillmode": "overlay",
              "size": 10,
              "solidity": 0.2
             }
            },
            "type": "barpolar"
           }
          ],
          "carpet": [
           {
            "aaxis": {
             "endlinecolor": "#2a3f5f",
             "gridcolor": "white",
             "linecolor": "white",
             "minorgridcolor": "white",
             "startlinecolor": "#2a3f5f"
            },
            "baxis": {
             "endlinecolor": "#2a3f5f",
             "gridcolor": "white",
             "linecolor": "white",
             "minorgridcolor": "white",
             "startlinecolor": "#2a3f5f"
            },
            "type": "carpet"
           }
          ],
          "choropleth": [
           {
            "colorbar": {
             "outlinewidth": 0,
             "ticks": ""
            },
            "type": "choropleth"
           }
          ],
          "contour": [
           {
            "colorbar": {
             "outlinewidth": 0,
             "ticks": ""
            },
            "colorscale": [
             [
              0,
              "#0d0887"
             ],
             [
              0.1111111111111111,
              "#46039f"
             ],
             [
              0.2222222222222222,
              "#7201a8"
             ],
             [
              0.3333333333333333,
              "#9c179e"
             ],
             [
              0.4444444444444444,
              "#bd3786"
             ],
             [
              0.5555555555555556,
              "#d8576b"
             ],
             [
              0.6666666666666666,
              "#ed7953"
             ],
             [
              0.7777777777777778,
              "#fb9f3a"
             ],
             [
              0.8888888888888888,
              "#fdca26"
             ],
             [
              1,
              "#f0f921"
             ]
            ],
            "type": "contour"
           }
          ],
          "contourcarpet": [
           {
            "colorbar": {
             "outlinewidth": 0,
             "ticks": ""
            },
            "type": "contourcarpet"
           }
          ],
          "heatmap": [
           {
            "colorbar": {
             "outlinewidth": 0,
             "ticks": ""
            },
            "colorscale": [
             [
              0,
              "#0d0887"
             ],
             [
              0.1111111111111111,
              "#46039f"
             ],
             [
              0.2222222222222222,
              "#7201a8"
             ],
             [
              0.3333333333333333,
              "#9c179e"
             ],
             [
              0.4444444444444444,
              "#bd3786"
             ],
             [
              0.5555555555555556,
              "#d8576b"
             ],
             [
              0.6666666666666666,
              "#ed7953"
             ],
             [
              0.7777777777777778,
              "#fb9f3a"
             ],
             [
              0.8888888888888888,
              "#fdca26"
             ],
             [
              1,
              "#f0f921"
             ]
            ],
            "type": "heatmap"
           }
          ],
          "heatmapgl": [
           {
            "colorbar": {
             "outlinewidth": 0,
             "ticks": ""
            },
            "colorscale": [
             [
              0,
              "#0d0887"
             ],
             [
              0.1111111111111111,
              "#46039f"
             ],
             [
              0.2222222222222222,
              "#7201a8"
             ],
             [
              0.3333333333333333,
              "#9c179e"
             ],
             [
              0.4444444444444444,
              "#bd3786"
             ],
             [
              0.5555555555555556,
              "#d8576b"
             ],
             [
              0.6666666666666666,
              "#ed7953"
             ],
             [
              0.7777777777777778,
              "#fb9f3a"
             ],
             [
              0.8888888888888888,
              "#fdca26"
             ],
             [
              1,
              "#f0f921"
             ]
            ],
            "type": "heatmapgl"
           }
          ],
          "histogram": [
           {
            "marker": {
             "pattern": {
              "fillmode": "overlay",
              "size": 10,
              "solidity": 0.2
             }
            },
            "type": "histogram"
           }
          ],
          "histogram2d": [
           {
            "colorbar": {
             "outlinewidth": 0,
             "ticks": ""
            },
            "colorscale": [
             [
              0,
              "#0d0887"
             ],
             [
              0.1111111111111111,
              "#46039f"
             ],
             [
              0.2222222222222222,
              "#7201a8"
             ],
             [
              0.3333333333333333,
              "#9c179e"
             ],
             [
              0.4444444444444444,
              "#bd3786"
             ],
             [
              0.5555555555555556,
              "#d8576b"
             ],
             [
              0.6666666666666666,
              "#ed7953"
             ],
             [
              0.7777777777777778,
              "#fb9f3a"
             ],
             [
              0.8888888888888888,
              "#fdca26"
             ],
             [
              1,
              "#f0f921"
             ]
            ],
            "type": "histogram2d"
           }
          ],
          "histogram2dcontour": [
           {
            "colorbar": {
             "outlinewidth": 0,
             "ticks": ""
            },
            "colorscale": [
             [
              0,
              "#0d0887"
             ],
             [
              0.1111111111111111,
              "#46039f"
             ],
             [
              0.2222222222222222,
              "#7201a8"
             ],
             [
              0.3333333333333333,
              "#9c179e"
             ],
             [
              0.4444444444444444,
              "#bd3786"
             ],
             [
              0.5555555555555556,
              "#d8576b"
             ],
             [
              0.6666666666666666,
              "#ed7953"
             ],
             [
              0.7777777777777778,
              "#fb9f3a"
             ],
             [
              0.8888888888888888,
              "#fdca26"
             ],
             [
              1,
              "#f0f921"
             ]
            ],
            "type": "histogram2dcontour"
           }
          ],
          "mesh3d": [
           {
            "colorbar": {
             "outlinewidth": 0,
             "ticks": ""
            },
            "type": "mesh3d"
           }
          ],
          "parcoords": [
           {
            "line": {
             "colorbar": {
              "outlinewidth": 0,
              "ticks": ""
             }
            },
            "type": "parcoords"
           }
          ],
          "pie": [
           {
            "automargin": true,
            "type": "pie"
           }
          ],
          "scatter": [
           {
            "fillpattern": {
             "fillmode": "overlay",
             "size": 10,
             "solidity": 0.2
            },
            "type": "scatter"
           }
          ],
          "scatter3d": [
           {
            "line": {
             "colorbar": {
              "outlinewidth": 0,
              "ticks": ""
             }
            },
            "marker": {
             "colorbar": {
              "outlinewidth": 0,
              "ticks": ""
             }
            },
            "type": "scatter3d"
           }
          ],
          "scattercarpet": [
           {
            "marker": {
             "colorbar": {
              "outlinewidth": 0,
              "ticks": ""
             }
            },
            "type": "scattercarpet"
           }
          ],
          "scattergeo": [
           {
            "marker": {
             "colorbar": {
              "outlinewidth": 0,
              "ticks": ""
             }
            },
            "type": "scattergeo"
           }
          ],
          "scattergl": [
           {
            "marker": {
             "colorbar": {
              "outlinewidth": 0,
              "ticks": ""
             }
            },
            "type": "scattergl"
           }
          ],
          "scattermapbox": [
           {
            "marker": {
             "colorbar": {
              "outlinewidth": 0,
              "ticks": ""
             }
            },
            "type": "scattermapbox"
           }
          ],
          "scatterpolar": [
           {
            "marker": {
             "colorbar": {
              "outlinewidth": 0,
              "ticks": ""
             }
            },
            "type": "scatterpolar"
           }
          ],
          "scatterpolargl": [
           {
            "marker": {
             "colorbar": {
              "outlinewidth": 0,
              "ticks": ""
             }
            },
            "type": "scatterpolargl"
           }
          ],
          "scatterternary": [
           {
            "marker": {
             "colorbar": {
              "outlinewidth": 0,
              "ticks": ""
             }
            },
            "type": "scatterternary"
           }
          ],
          "surface": [
           {
            "colorbar": {
             "outlinewidth": 0,
             "ticks": ""
            },
            "colorscale": [
             [
              0,
              "#0d0887"
             ],
             [
              0.1111111111111111,
              "#46039f"
             ],
             [
              0.2222222222222222,
              "#7201a8"
             ],
             [
              0.3333333333333333,
              "#9c179e"
             ],
             [
              0.4444444444444444,
              "#bd3786"
             ],
             [
              0.5555555555555556,
              "#d8576b"
             ],
             [
              0.6666666666666666,
              "#ed7953"
             ],
             [
              0.7777777777777778,
              "#fb9f3a"
             ],
             [
              0.8888888888888888,
              "#fdca26"
             ],
             [
              1,
              "#f0f921"
             ]
            ],
            "type": "surface"
           }
          ],
          "table": [
           {
            "cells": {
             "fill": {
              "color": "#EBF0F8"
             },
             "line": {
              "color": "white"
             }
            },
            "header": {
             "fill": {
              "color": "#C8D4E3"
             },
             "line": {
              "color": "white"
             }
            },
            "type": "table"
           }
          ]
         },
         "layout": {
          "annotationdefaults": {
           "arrowcolor": "#2a3f5f",
           "arrowhead": 0,
           "arrowwidth": 1
          },
          "autotypenumbers": "strict",
          "coloraxis": {
           "colorbar": {
            "outlinewidth": 0,
            "ticks": ""
           }
          },
          "colorscale": {
           "diverging": [
            [
             0,
             "#8e0152"
            ],
            [
             0.1,
             "#c51b7d"
            ],
            [
             0.2,
             "#de77ae"
            ],
            [
             0.3,
             "#f1b6da"
            ],
            [
             0.4,
             "#fde0ef"
            ],
            [
             0.5,
             "#f7f7f7"
            ],
            [
             0.6,
             "#e6f5d0"
            ],
            [
             0.7,
             "#b8e186"
            ],
            [
             0.8,
             "#7fbc41"
            ],
            [
             0.9,
             "#4d9221"
            ],
            [
             1,
             "#276419"
            ]
           ],
           "sequential": [
            [
             0,
             "#0d0887"
            ],
            [
             0.1111111111111111,
             "#46039f"
            ],
            [
             0.2222222222222222,
             "#7201a8"
            ],
            [
             0.3333333333333333,
             "#9c179e"
            ],
            [
             0.4444444444444444,
             "#bd3786"
            ],
            [
             0.5555555555555556,
             "#d8576b"
            ],
            [
             0.6666666666666666,
             "#ed7953"
            ],
            [
             0.7777777777777778,
             "#fb9f3a"
            ],
            [
             0.8888888888888888,
             "#fdca26"
            ],
            [
             1,
             "#f0f921"
            ]
           ],
           "sequentialminus": [
            [
             0,
             "#0d0887"
            ],
            [
             0.1111111111111111,
             "#46039f"
            ],
            [
             0.2222222222222222,
             "#7201a8"
            ],
            [
             0.3333333333333333,
             "#9c179e"
            ],
            [
             0.4444444444444444,
             "#bd3786"
            ],
            [
             0.5555555555555556,
             "#d8576b"
            ],
            [
             0.6666666666666666,
             "#ed7953"
            ],
            [
             0.7777777777777778,
             "#fb9f3a"
            ],
            [
             0.8888888888888888,
             "#fdca26"
            ],
            [
             1,
             "#f0f921"
            ]
           ]
          },
          "colorway": [
           "#636efa",
           "#EF553B",
           "#00cc96",
           "#ab63fa",
           "#FFA15A",
           "#19d3f3",
           "#FF6692",
           "#B6E880",
           "#FF97FF",
           "#FECB52"
          ],
          "font": {
           "color": "#2a3f5f"
          },
          "geo": {
           "bgcolor": "white",
           "lakecolor": "white",
           "landcolor": "#E5ECF6",
           "showlakes": true,
           "showland": true,
           "subunitcolor": "white"
          },
          "hoverlabel": {
           "align": "left"
          },
          "hovermode": "closest",
          "mapbox": {
           "style": "light"
          },
          "paper_bgcolor": "white",
          "plot_bgcolor": "#E5ECF6",
          "polar": {
           "angularaxis": {
            "gridcolor": "white",
            "linecolor": "white",
            "ticks": ""
           },
           "bgcolor": "#E5ECF6",
           "radialaxis": {
            "gridcolor": "white",
            "linecolor": "white",
            "ticks": ""
           }
          },
          "scene": {
           "xaxis": {
            "backgroundcolor": "#E5ECF6",
            "gridcolor": "white",
            "gridwidth": 2,
            "linecolor": "white",
            "showbackground": true,
            "ticks": "",
            "zerolinecolor": "white"
           },
           "yaxis": {
            "backgroundcolor": "#E5ECF6",
            "gridcolor": "white",
            "gridwidth": 2,
            "linecolor": "white",
            "showbackground": true,
            "ticks": "",
            "zerolinecolor": "white"
           },
           "zaxis": {
            "backgroundcolor": "#E5ECF6",
            "gridcolor": "white",
            "gridwidth": 2,
            "linecolor": "white",
            "showbackground": true,
            "ticks": "",
            "zerolinecolor": "white"
           }
          },
          "shapedefaults": {
           "line": {
            "color": "#2a3f5f"
           }
          },
          "ternary": {
           "aaxis": {
            "gridcolor": "white",
            "linecolor": "white",
            "ticks": ""
           },
           "baxis": {
            "gridcolor": "white",
            "linecolor": "white",
            "ticks": ""
           },
           "bgcolor": "#E5ECF6",
           "caxis": {
            "gridcolor": "white",
            "linecolor": "white",
            "ticks": ""
           }
          },
          "title": {
           "x": 0.05
          },
          "xaxis": {
           "automargin": true,
           "gridcolor": "white",
           "linecolor": "white",
           "ticks": "",
           "title": {
            "standoff": 15
           },
           "zerolinecolor": "white",
           "zerolinewidth": 2
          },
          "yaxis": {
           "automargin": true,
           "gridcolor": "white",
           "linecolor": "white",
           "ticks": "",
           "title": {
            "standoff": 15
           },
           "zerolinecolor": "white",
           "zerolinewidth": 2
          }
         }
        },
        "title": {
         "font": {
          "size": 24
         }
        },
        "width": 800
       }
      }
     },
     "metadata": {},
     "output_type": "display_data"
    }
   ],
   "source": [
    "# Creating a pie chart\n",
    "fig = px.pie(sums_aroma, values = 'Sum',  \n",
    "             names='index', \n",
    "             color_discrete_sequence=px.colors.sequential.Teal_r,\n",
    "             labels={'Grape sort': ''}, \n",
    "             width=800,  height=650  # Removing the percentage values\n",
    "            )\n",
    "\n",
    "# Setting labels\n",
    "fig.update_traces(textposition='inside', textinfo='label+percent', textfont_size=25)\n",
    "\n",
    "fig.update_layout(\n",
    "    title_font_size=24,  \n",
    "    legend_font_size=20,  \n",
    "    legend_title_font_size=18  \n",
    ")\n",
    "\n",
    "# Chart Display\n",
    "fig.show()"
   ]
  },
  {
   "cell_type": "markdown",
   "metadata": {},
   "source": [
    "**Output:** As you can see, most of the samples contain notes of fruits, herbs, flowers, berries, more unique smells such as coffee, nuts are rare, therefore, they may cause problems when predicting"
   ]
  },
  {
   "cell_type": "markdown",
   "metadata": {},
   "source": [
    "### 4.2. The relationship of flavor and chemical composition\n",
    "Let's build correlation matrices that reflect the relationship between the aroma of wine and its chemical composition to make sure that our dataset corresponds to reality\n",
    "#### 4.2.1. Pearson Correlation Coefficient"
   ]
  },
  {
   "cell_type": "code",
   "execution_count": null,
   "metadata": {},
   "outputs": [
    {
     "data": {
      "application/vnd.plotly.v1+json": {
       "config": {
        "plotlyServerURL": "https://plot.ly"
       },
       "data": [
        {
         "coloraxis": "coloraxis",
         "hovertemplate": "x: %{x}<br>y: %{y}<br>color: %{z}<extra></extra>",
         "name": "0",
         "type": "heatmap",
         "x": [
          "Acetoine",
          "Acetaldehyde",
          "Methanol",
          "1-propanol",
          "Ethyl lactate",
          "Isobutanol",
          "1-butanol",
          "2-butanol",
          "2-methyl-1-butanol",
          "3-methyl-1-butanol",
          "2-methyl-1-propanol",
          "1-pentanol",
          "1-hexanol",
          "2,3-butanediol",
          "2-phenylethanol",
          "3-(Methylthio)-1-propanol",
          "Hexyl acetate",
          "Ethyl octanoate",
          "Diethyl succinate",
          "2-phenylethyl acetate",
          "Diethyl malate",
          "Ethyl decanoate",
          "Isoamyl alcohol",
          "Isoamyl acetate",
          "1-heptanol",
          "Ethyl acetate",
          "Isopropyl acetate",
          "Isobutyl acetate",
          "Ethyl butyrate",
          "Ethyl hexanoate",
          "Ethyl isovalerate",
          "Pentyl acetate",
          "Phenyl acetate",
          "Ethyl caprylate",
          "alpha-TERPINEOL",
          "Linalool ",
          "Nerol",
          "Citronellol",
          "Geraniol",
          "1-octanol",
          "Hexanoic acid",
          "Octanoic acid",
          "Decanoic acid",
          "Propanoic acid",
          "butyric acid",
          "2-methylpropanoic acid",
          "2-methylbutyric acid",
          "3-methylbutyric acid",
          "Dodecanoic acid"
         ],
         "xaxis": "x",
         "y": [
          "Herbs and spices",
          "Tobacco/Smoke",
          "Wood",
          "Berries",
          "Citrus",
          "Fruits",
          "Nuts",
          "Coffee",
          "Chocolate/Cacao",
          "Flowers"
         ],
         "yaxis": "y",
         "z": [
          [
           -0.10729976629306338,
           -0.1891885948920371,
           -0.23088256203147517,
           -0.16227489556240546,
           0.06491597603527705,
           -0.09568366984712716,
           -0.02793511869120163,
           -0.08279763929752436,
           -0.056649763818450084,
           0.01959132313499686,
           0.024309876958437296,
           -0.043037804627978064,
           0.008451788067830162,
           -0.13782200009160128,
           0.06364508736979105,
           -0.09925815812013272,
           -0.052119739814248986,
           -0.06912786120472342,
           -0.043900441251161354,
           0.04219243685503796,
           -0.05894184040600721,
           -0.03587373059943571,
           0.02302965521815947,
           -0.026230710777118225,
           0.04662279496945449,
           -0.027210915513482998,
           -0.0764831682806474,
           0.06934463712972168,
           0.0015384673475761677,
           -0.043409945814320075,
           0.07150661322974677,
           0.037702283203132334,
           -0.016413249266301787,
           -0.03434105526534481,
           0.011192063186822924,
           -0.05988432305641541,
           0.010117682986203316,
           -0.019419933074951774,
           -0.10419111183915358,
           0.015548419277188332,
           -0.013955176171841248,
           -0.11514824807782381,
           -0.1505758136324779,
           0.04731834888037761,
           -0.13889417925555936,
           0.08402626694245813,
           0.051629498211636315,
           0.09296669211030568,
           0.006413744919567348
          ],
          [
           -0.03158099411440589,
           -0.0683498097541639,
           -0.011336863404585572,
           -0.05374061982391725,
           -0.017791025544327568,
           -0.0138778365349411,
           0.011364062269932852,
           -0.04631139168230886,
           0.08131479247289178,
           0.041147661471722594,
           -0.07816798290889798,
           -0.028872705738253394,
           -0.03786873485648703,
           -0.05944328913376006,
           0.005575061935726662,
           -0.0526191542949384,
           -0.0411432946375189,
           -0.027133782863932757,
           0.056888743703289876,
           -0.030424588528805682,
           -0.06490590063101748,
           -0.03722273310263497,
           -0.05200386125157666,
           -0.03549413339053477,
           -0.03521494118826988,
           -0.01904259224223057,
           -0.01240310816722952,
           0.11558729107797684,
           -0.017338717171347034,
           -0.01979395158483983,
           0.027431179990965428,
           0.1350819387890898,
           0.19562544096181975,
           0.11947709472371715,
           -0.028599589012759136,
           -0.049783682794570225,
           -0.030710310606113178,
           -0.020662834390777395,
           -0.019931280924005115,
           -0.026034181102473224,
           -0.06669139141655607,
           -0.10548168422454549,
           -0.02058785426535476,
           -0.00032170051087716535,
           -0.07963214005562949,
           -0.03148992502469617,
           0.017544167657687414,
           -0.04030928670399926,
           -0.0004578575946291868
          ],
          [
           0.0011202246235684824,
           -0.042113953099670205,
           -0.07635061634977822,
           -0.06599219450734022,
           0.027140728651523543,
           -0.05710755311851428,
           -0.006624696071159408,
           -0.06207435338166451,
           -0.0009709118757088082,
           0.03533457309255776,
           -0.004485431739660158,
           0.038742025979993676,
           0.0482946677281963,
           -0.019422926095172894,
           -0.015917307438354362,
           -0.03695087595282432,
           -0.07428391790069246,
           -0.038553524976499866,
           -0.04742508708263244,
           0.05276659128686231,
           -0.08179702843933337,
           -0.01899878612305873,
           -0.044080652388905364,
           -0.050033983518630164,
           -0.030776054577625472,
           -0.020855553265836536,
           -0.045264152830052126,
           -0.008715530547111737,
           0.021653600813275702,
           -0.031107112316066124,
           -0.035841058724487916,
           -0.024142550738153735,
           -0.029714023484678515,
           0.026752879811367716,
           0.11584201011345686,
           0.02034354296605845,
           0.07404401743220422,
           0.0015323659838942206,
           0.023410594585765433,
           -0.04498198160107752,
           -0.021213649822531305,
           -0.06569311830646402,
           -0.03680541158616891,
           0.04402262453738116,
           -0.00712013680695498,
           0.06935166850982394,
           -0.05109776480167326,
           -0.01063592424400938,
           -0.059293695748429895
          ],
          [
           -0.07796380122805754,
           -0.22996139704407478,
           -0.11917875882020253,
           -0.16033680563373406,
           0.11429655487762962,
           -0.025415827312543802,
           0.088123554168032,
           -0.11905948585564823,
           0.17005265038787648,
           0.10166389076832147,
           -0.0510949837164995,
           -0.0608607772557104,
           0.03949995105577244,
           -0.1598148196819234,
           0.09586898148806978,
           -0.1320812112438255,
           -0.11803903420700415,
           -0.07466333196733849,
           0.03720420665412506,
           -0.002646630242510674,
           -0.06079321026062145,
           -0.040552963774929104,
           0.028945606677666425,
           -0.11247834521610177,
           0.06332385232208795,
           -0.0443280906654492,
           0.004767493424174165,
           0.054726379163717497,
           0.04833543347226294,
           -0.036106585637632034,
           -0.02299092768269147,
           0.039129847924784404,
           0.06614923025594364,
           0.06567402571634731,
           -0.08349034077815944,
           -0.03174114898978212,
           0.0277466517237439,
           -0.045981818373476264,
           -0.09969106381960938,
           -0.11099837451483037,
           -0.11608233035396966,
           -0.2555822038421385,
           -0.06636004978536021,
           0.07135744525764563,
           -0.004206805128205407,
           0.1413272611308141,
           0.04091584927779167,
           0.14483844657897146,
           -0.0564715824751516
          ],
          [
           -0.018596658683044012,
           0.06365659500056048,
           0.03089098664858961,
           0.030956274022465386,
           -0.13769808519417406,
           -0.044235152626340694,
           -0.052878204608661356,
           0.031088101561695686,
           -0.07046069190711834,
           -0.05311377683879465,
           0.08264749828933506,
           0.10756071621112172,
           -0.06430750088110757,
           0.06002266653506581,
           -0.09051564740835971,
           0.06963140596104216,
           0.12321218503033234,
           0.07870733068734073,
           -0.04085681716838522,
           -0.07798823910511757,
           0.13243597533898538,
           0.0392119755258867,
           -0.08288507820398688,
           0.19257765839548163,
           -0.015446241401422482,
           -0.0277980077328392,
           -0.013752034888578703,
           -0.06672269613275449,
           -0.055610774654515666,
           0.053944509367673955,
           -0.05150555366451373,
           -0.021287180350634954,
           -0.03764401384844478,
           -0.04415514883946477,
           -0.025441620833607695,
           -0.06528739283767776,
           -0.0484175893350096,
           -0.09532709258840856,
           0.0018778164068404422,
           0.04231603059981108,
           0.03958220897225778,
           0.2063353276370404,
           0.11814797422271452,
           -0.05268726228324376,
           0.027198843556128945,
           -0.06308752049389948,
           -0.06822739708954587,
           -0.06525777151640129,
           0.06484876386306392
          ],
          [
           0.03804505737629824,
           0.09363480758839662,
           0.061802997889713565,
           0.0339027261261057,
           -0.07466247003691787,
           0.016248847808059255,
           0.013765313941230232,
           0.06718768804731146,
           -0.13798560628086098,
           -0.08970146970819975,
           0.014943154410262907,
           0.0710302280375967,
           0.04221364012547594,
           0.07672528941177771,
           0.014409585260323099,
           0.06810699590510332,
           0.11966011370885292,
           0.07383314888377919,
           0.07147890320473128,
           0.024889544280902266,
           0.08221182980344766,
           0.06505396795394551,
           0.030662454843092945,
           0.12009535228553714,
           0.0751501092139991,
           -0.09651417643821456,
           -0.054933179865186955,
           -0.042721272365551954,
           0.04538449996945447,
           0.06744835143832693,
           -0.00898536222649798,
           -0.06270633775264292,
           -0.09636207042372241,
           -0.048717305355057444,
           0.04224593918277972,
           0.06913960875604738,
           0.02081448993656057,
           0.0685676541546299,
           0.0456880348253129,
           0.10068925435045255,
           0.09048576891374195,
           0.2161939503412168,
           0.12740222391638611,
           -0.06835067122973423,
           0.03155518592442193,
           -0.095516153967315,
           -0.0546711274318249,
           -0.1406478092495105,
           0.07050806382928769
          ],
          [
           0.05336233992761306,
           0.10837303931987483,
           0.04085738180806821,
           0.036685850372116115,
           0.012202495729325665,
           -0.009307906022585157,
           -0.04705352734119644,
           0.061530336002612894,
           0.09075268448089853,
           0.08544394141699128,
           0.10876463082246597,
           0.0380274151434751,
           -0.03480111284903164,
           0.043053100261817204,
           -0.03891907943982693,
           0.03573302419037142,
           0.006255310703300062,
           0.0028556267674929386,
           -0.04244907549407993,
           -0.04228303933425447,
           -0.06470618626672457,
           0.007044138207730795,
           -0.019008510590475335,
           -0.019060862384763726,
           0.008793472506266851,
           0.0012732708275805988,
           0.0064894000491286866,
           -0.0339136492497889,
           -0.036451251404839714,
           -0.0032492239222719228,
           -0.026218471130867244,
           -0.015557630941529819,
           -0.01914593792156773,
           -0.022457534470195797,
           0.004718603005185904,
           -0.03973424447922394,
           0.0011144923094205178,
           -0.05063560904511785,
           0.03819798816779772,
           -0.00020251718246412355,
           0.062256251837932854,
           0.1700019072985599,
           -0.010690580341627322,
           -0.009439323288610416,
           0.0027480001438181575,
           0.008904660395456307,
           -0.032907828141317534,
           0.042065168456845645,
           0.15328264156804156
          ],
          [
           0.23650948912311615,
           0.19477957014524921,
           0.12350686156776632,
           0.09487586624185748,
           0.014681900001783424,
           0.00697726085404405,
           0.0170476294118425,
           -0.032499202362800975,
           -0.014451983019386294,
           -0.030895746334327817,
           -0.016692000985598327,
           -0.03637640867779679,
           -0.025464187178589618,
           0.19088275735623597,
           0.2194082670442361,
           -0.034795080667253564,
           -0.04543283104263896,
           -0.04539086523346881,
           0.08222615382190888,
           -0.004767780211281469,
           -0.049308794910284594,
           -0.04343175705544927,
           0.06895582884387733,
           -0.04417983858065999,
           -0.034620662816398445,
           0.07640473664464606,
           -0.03197169394142947,
           0.0039784289569936866,
           -0.026889721232397152,
           -0.0514112537559487,
           0.060207302633239,
           -0.012629529545281973,
           -0.01554248134316503,
           -0.00860128009012024,
           -0.020003114009909027,
           -0.029303949972059186,
           -0.011918497716865014,
           0.010958208746397344,
           -0.00007907215586853237,
           -0.0018293806602095234,
           -0.103070618960042,
           -0.09399023296307246,
           -0.03774600138326178,
           0.04342100359324033,
           -0.048149880630598434,
           0.007542392130465615,
           0.05706508415390053,
           0.016668764337443312,
           0.03172734783434418
          ],
          [
           0.09363018011034525,
           0.047581337558654124,
           -0.007494158832905309,
           -0.0520093737237591,
           0.11977465254355836,
           -0.08032682747688687,
           -0.031777407915367796,
           -0.04631139168230886,
           0.12268693059910248,
           0.08152391684751994,
           0.008558781658403855,
           -0.05330967210033279,
           -0.04057367658053214,
           0.02425124589096805,
           0.031174808341842053,
           -0.052619398403870206,
           -0.08843145807428146,
           -0.06953328157265026,
           -0.02513902142811764,
           -0.05439611128825063,
           -0.04764484667936725,
           -0.06675199584268912,
           -0.01769922277665022,
           -0.057498607036079126,
           -0.03524124229488782,
           0.05950546885012602,
           0.1500243866847953,
           0.09295219419696556,
           -0.024573972694881843,
           -0.05423326263810456,
           -0.03097230238596907,
           0.13508193878908992,
           0.19562544096181983,
           0.12316571000918279,
           -0.028729529059026686,
           -0.055336708556762586,
           -0.04429023264658094,
           -0.06154086522977114,
           -0.03713889510669286,
           0.0004832058068286792,
           -0.033646099140599864,
           -0.100564797926552,
           -0.059012851713723426,
           0.12641280255788007,
           -0.06423088821880722,
           0.11166085237659466,
           0.02980105736573316,
           0.11408214008622429,
           -0.0004578575946291569
          ],
          [
           -0.07070112295206624,
           0.07722477979901239,
           0.09915137154917007,
           0.11516658872777903,
           -0.036949673921467766,
           -0.00972487029686792,
           -0.10065386500951268,
           0.0147628908709652,
           -0.048289986202957144,
           -0.0182232537060905,
           0.07619015636041614,
           0.06339182668422721,
           -0.08373606949394224,
           0.035695541800665774,
           0.005971925001503062,
           0.16855753104638233,
           0.04539358609306661,
           0.034025849340275874,
           -0.06546711251203437,
           -0.058433517543489265,
           0.07374364634174091,
           0.012711289571113846,
           -0.06744000455017193,
           0.040372808881843365,
           -0.04183676857604427,
           -0.02340551217006005,
           -0.01186637671409797,
           -0.05920148939487701,
           -0.08156858134089273,
           -0.019802595619512524,
           -0.05609558331347063,
           -0.02322311258735762,
           -0.04761475761474894,
           -0.05313895550458408,
           -0.005556610544518217,
           0.008994238814457892,
           -0.08916596721553077,
           0.02983587229337113,
           0.04288704408887042,
           0.1109290087367059,
           0.08386624602050151,
           0.23955883184239318,
           0.05184400958026541,
           -0.0826758053752677,
           0.03952044650594672,
           -0.10331387631254027,
           -0.00418967409843471,
           -0.07875362099085535,
           0.12346747084666228
          ]
         ]
        }
       ],
       "layout": {
        "coloraxis": {
         "colorscale": [
          [
           0,
           "rgb(209, 238, 234)"
          ],
          [
           0.16666666666666666,
           "rgb(168, 219, 217)"
          ],
          [
           0.3333333333333333,
           "rgb(133, 196, 201)"
          ],
          [
           0.5,
           "rgb(104, 171, 184)"
          ],
          [
           0.6666666666666666,
           "rgb(79, 144, 166)"
          ],
          [
           0.8333333333333334,
           "rgb(59, 115, 143)"
          ],
          [
           1,
           "rgb(42, 86, 116)"
          ]
         ]
        },
        "legend": {
         "font": {
          "size": 20
         },
         "title": {
          "font": {
           "size": 18
          }
         }
        },
        "margin": {
         "t": 60
        },
        "template": {
         "data": {
          "bar": [
           {
            "error_x": {
             "color": "#2a3f5f"
            },
            "error_y": {
             "color": "#2a3f5f"
            },
            "marker": {
             "line": {
              "color": "#E5ECF6",
              "width": 0.5
             },
             "pattern": {
              "fillmode": "overlay",
              "size": 10,
              "solidity": 0.2
             }
            },
            "type": "bar"
           }
          ],
          "barpolar": [
           {
            "marker": {
             "line": {
              "color": "#E5ECF6",
              "width": 0.5
             },
             "pattern": {
              "fillmode": "overlay",
              "size": 10,
              "solidity": 0.2
             }
            },
            "type": "barpolar"
           }
          ],
          "carpet": [
           {
            "aaxis": {
             "endlinecolor": "#2a3f5f",
             "gridcolor": "white",
             "linecolor": "white",
             "minorgridcolor": "white",
             "startlinecolor": "#2a3f5f"
            },
            "baxis": {
             "endlinecolor": "#2a3f5f",
             "gridcolor": "white",
             "linecolor": "white",
             "minorgridcolor": "white",
             "startlinecolor": "#2a3f5f"
            },
            "type": "carpet"
           }
          ],
          "choropleth": [
           {
            "colorbar": {
             "outlinewidth": 0,
             "ticks": ""
            },
            "type": "choropleth"
           }
          ],
          "contour": [
           {
            "colorbar": {
             "outlinewidth": 0,
             "ticks": ""
            },
            "colorscale": [
             [
              0,
              "#0d0887"
             ],
             [
              0.1111111111111111,
              "#46039f"
             ],
             [
              0.2222222222222222,
              "#7201a8"
             ],
             [
              0.3333333333333333,
              "#9c179e"
             ],
             [
              0.4444444444444444,
              "#bd3786"
             ],
             [
              0.5555555555555556,
              "#d8576b"
             ],
             [
              0.6666666666666666,
              "#ed7953"
             ],
             [
              0.7777777777777778,
              "#fb9f3a"
             ],
             [
              0.8888888888888888,
              "#fdca26"
             ],
             [
              1,
              "#f0f921"
             ]
            ],
            "type": "contour"
           }
          ],
          "contourcarpet": [
           {
            "colorbar": {
             "outlinewidth": 0,
             "ticks": ""
            },
            "type": "contourcarpet"
           }
          ],
          "heatmap": [
           {
            "colorbar": {
             "outlinewidth": 0,
             "ticks": ""
            },
            "colorscale": [
             [
              0,
              "#0d0887"
             ],
             [
              0.1111111111111111,
              "#46039f"
             ],
             [
              0.2222222222222222,
              "#7201a8"
             ],
             [
              0.3333333333333333,
              "#9c179e"
             ],
             [
              0.4444444444444444,
              "#bd3786"
             ],
             [
              0.5555555555555556,
              "#d8576b"
             ],
             [
              0.6666666666666666,
              "#ed7953"
             ],
             [
              0.7777777777777778,
              "#fb9f3a"
             ],
             [
              0.8888888888888888,
              "#fdca26"
             ],
             [
              1,
              "#f0f921"
             ]
            ],
            "type": "heatmap"
           }
          ],
          "heatmapgl": [
           {
            "colorbar": {
             "outlinewidth": 0,
             "ticks": ""
            },
            "colorscale": [
             [
              0,
              "#0d0887"
             ],
             [
              0.1111111111111111,
              "#46039f"
             ],
             [
              0.2222222222222222,
              "#7201a8"
             ],
             [
              0.3333333333333333,
              "#9c179e"
             ],
             [
              0.4444444444444444,
              "#bd3786"
             ],
             [
              0.5555555555555556,
              "#d8576b"
             ],
             [
              0.6666666666666666,
              "#ed7953"
             ],
             [
              0.7777777777777778,
              "#fb9f3a"
             ],
             [
              0.8888888888888888,
              "#fdca26"
             ],
             [
              1,
              "#f0f921"
             ]
            ],
            "type": "heatmapgl"
           }
          ],
          "histogram": [
           {
            "marker": {
             "pattern": {
              "fillmode": "overlay",
              "size": 10,
              "solidity": 0.2
             }
            },
            "type": "histogram"
           }
          ],
          "histogram2d": [
           {
            "colorbar": {
             "outlinewidth": 0,
             "ticks": ""
            },
            "colorscale": [
             [
              0,
              "#0d0887"
             ],
             [
              0.1111111111111111,
              "#46039f"
             ],
             [
              0.2222222222222222,
              "#7201a8"
             ],
             [
              0.3333333333333333,
              "#9c179e"
             ],
             [
              0.4444444444444444,
              "#bd3786"
             ],
             [
              0.5555555555555556,
              "#d8576b"
             ],
             [
              0.6666666666666666,
              "#ed7953"
             ],
             [
              0.7777777777777778,
              "#fb9f3a"
             ],
             [
              0.8888888888888888,
              "#fdca26"
             ],
             [
              1,
              "#f0f921"
             ]
            ],
            "type": "histogram2d"
           }
          ],
          "histogram2dcontour": [
           {
            "colorbar": {
             "outlinewidth": 0,
             "ticks": ""
            },
            "colorscale": [
             [
              0,
              "#0d0887"
             ],
             [
              0.1111111111111111,
              "#46039f"
             ],
             [
              0.2222222222222222,
              "#7201a8"
             ],
             [
              0.3333333333333333,
              "#9c179e"
             ],
             [
              0.4444444444444444,
              "#bd3786"
             ],
             [
              0.5555555555555556,
              "#d8576b"
             ],
             [
              0.6666666666666666,
              "#ed7953"
             ],
             [
              0.7777777777777778,
              "#fb9f3a"
             ],
             [
              0.8888888888888888,
              "#fdca26"
             ],
             [
              1,
              "#f0f921"
             ]
            ],
            "type": "histogram2dcontour"
           }
          ],
          "mesh3d": [
           {
            "colorbar": {
             "outlinewidth": 0,
             "ticks": ""
            },
            "type": "mesh3d"
           }
          ],
          "parcoords": [
           {
            "line": {
             "colorbar": {
              "outlinewidth": 0,
              "ticks": ""
             }
            },
            "type": "parcoords"
           }
          ],
          "pie": [
           {
            "automargin": true,
            "type": "pie"
           }
          ],
          "scatter": [
           {
            "fillpattern": {
             "fillmode": "overlay",
             "size": 10,
             "solidity": 0.2
            },
            "type": "scatter"
           }
          ],
          "scatter3d": [
           {
            "line": {
             "colorbar": {
              "outlinewidth": 0,
              "ticks": ""
             }
            },
            "marker": {
             "colorbar": {
              "outlinewidth": 0,
              "ticks": ""
             }
            },
            "type": "scatter3d"
           }
          ],
          "scattercarpet": [
           {
            "marker": {
             "colorbar": {
              "outlinewidth": 0,
              "ticks": ""
             }
            },
            "type": "scattercarpet"
           }
          ],
          "scattergeo": [
           {
            "marker": {
             "colorbar": {
              "outlinewidth": 0,
              "ticks": ""
             }
            },
            "type": "scattergeo"
           }
          ],
          "scattergl": [
           {
            "marker": {
             "colorbar": {
              "outlinewidth": 0,
              "ticks": ""
             }
            },
            "type": "scattergl"
           }
          ],
          "scattermapbox": [
           {
            "marker": {
             "colorbar": {
              "outlinewidth": 0,
              "ticks": ""
             }
            },
            "type": "scattermapbox"
           }
          ],
          "scatterpolar": [
           {
            "marker": {
             "colorbar": {
              "outlinewidth": 0,
              "ticks": ""
             }
            },
            "type": "scatterpolar"
           }
          ],
          "scatterpolargl": [
           {
            "marker": {
             "colorbar": {
              "outlinewidth": 0,
              "ticks": ""
             }
            },
            "type": "scatterpolargl"
           }
          ],
          "scatterternary": [
           {
            "marker": {
             "colorbar": {
              "outlinewidth": 0,
              "ticks": ""
             }
            },
            "type": "scatterternary"
           }
          ],
          "surface": [
           {
            "colorbar": {
             "outlinewidth": 0,
             "ticks": ""
            },
            "colorscale": [
             [
              0,
              "#0d0887"
             ],
             [
              0.1111111111111111,
              "#46039f"
             ],
             [
              0.2222222222222222,
              "#7201a8"
             ],
             [
              0.3333333333333333,
              "#9c179e"
             ],
             [
              0.4444444444444444,
              "#bd3786"
             ],
             [
              0.5555555555555556,
              "#d8576b"
             ],
             [
              0.6666666666666666,
              "#ed7953"
             ],
             [
              0.7777777777777778,
              "#fb9f3a"
             ],
             [
              0.8888888888888888,
              "#fdca26"
             ],
             [
              1,
              "#f0f921"
             ]
            ],
            "type": "surface"
           }
          ],
          "table": [
           {
            "cells": {
             "fill": {
              "color": "#EBF0F8"
             },
             "line": {
              "color": "white"
             }
            },
            "header": {
             "fill": {
              "color": "#C8D4E3"
             },
             "line": {
              "color": "white"
             }
            },
            "type": "table"
           }
          ]
         },
         "layout": {
          "annotationdefaults": {
           "arrowcolor": "#2a3f5f",
           "arrowhead": 0,
           "arrowwidth": 1
          },
          "autotypenumbers": "strict",
          "coloraxis": {
           "colorbar": {
            "outlinewidth": 0,
            "ticks": ""
           }
          },
          "colorscale": {
           "diverging": [
            [
             0,
             "#8e0152"
            ],
            [
             0.1,
             "#c51b7d"
            ],
            [
             0.2,
             "#de77ae"
            ],
            [
             0.3,
             "#f1b6da"
            ],
            [
             0.4,
             "#fde0ef"
            ],
            [
             0.5,
             "#f7f7f7"
            ],
            [
             0.6,
             "#e6f5d0"
            ],
            [
             0.7,
             "#b8e186"
            ],
            [
             0.8,
             "#7fbc41"
            ],
            [
             0.9,
             "#4d9221"
            ],
            [
             1,
             "#276419"
            ]
           ],
           "sequential": [
            [
             0,
             "#0d0887"
            ],
            [
             0.1111111111111111,
             "#46039f"
            ],
            [
             0.2222222222222222,
             "#7201a8"
            ],
            [
             0.3333333333333333,
             "#9c179e"
            ],
            [
             0.4444444444444444,
             "#bd3786"
            ],
            [
             0.5555555555555556,
             "#d8576b"
            ],
            [
             0.6666666666666666,
             "#ed7953"
            ],
            [
             0.7777777777777778,
             "#fb9f3a"
            ],
            [
             0.8888888888888888,
             "#fdca26"
            ],
            [
             1,
             "#f0f921"
            ]
           ],
           "sequentialminus": [
            [
             0,
             "#0d0887"
            ],
            [
             0.1111111111111111,
             "#46039f"
            ],
            [
             0.2222222222222222,
             "#7201a8"
            ],
            [
             0.3333333333333333,
             "#9c179e"
            ],
            [
             0.4444444444444444,
             "#bd3786"
            ],
            [
             0.5555555555555556,
             "#d8576b"
            ],
            [
             0.6666666666666666,
             "#ed7953"
            ],
            [
             0.7777777777777778,
             "#fb9f3a"
            ],
            [
             0.8888888888888888,
             "#fdca26"
            ],
            [
             1,
             "#f0f921"
            ]
           ]
          },
          "colorway": [
           "#636efa",
           "#EF553B",
           "#00cc96",
           "#ab63fa",
           "#FFA15A",
           "#19d3f3",
           "#FF6692",
           "#B6E880",
           "#FF97FF",
           "#FECB52"
          ],
          "font": {
           "color": "#2a3f5f"
          },
          "geo": {
           "bgcolor": "white",
           "lakecolor": "white",
           "landcolor": "#E5ECF6",
           "showlakes": true,
           "showland": true,
           "subunitcolor": "white"
          },
          "hoverlabel": {
           "align": "left"
          },
          "hovermode": "closest",
          "mapbox": {
           "style": "light"
          },
          "paper_bgcolor": "white",
          "plot_bgcolor": "#E5ECF6",
          "polar": {
           "angularaxis": {
            "gridcolor": "white",
            "linecolor": "white",
            "ticks": ""
           },
           "bgcolor": "#E5ECF6",
           "radialaxis": {
            "gridcolor": "white",
            "linecolor": "white",
            "ticks": ""
           }
          },
          "scene": {
           "xaxis": {
            "backgroundcolor": "#E5ECF6",
            "gridcolor": "white",
            "gridwidth": 2,
            "linecolor": "white",
            "showbackground": true,
            "ticks": "",
            "zerolinecolor": "white"
           },
           "yaxis": {
            "backgroundcolor": "#E5ECF6",
            "gridcolor": "white",
            "gridwidth": 2,
            "linecolor": "white",
            "showbackground": true,
            "ticks": "",
            "zerolinecolor": "white"
           },
           "zaxis": {
            "backgroundcolor": "#E5ECF6",
            "gridcolor": "white",
            "gridwidth": 2,
            "linecolor": "white",
            "showbackground": true,
            "ticks": "",
            "zerolinecolor": "white"
           }
          },
          "shapedefaults": {
           "line": {
            "color": "#2a3f5f"
           }
          },
          "ternary": {
           "aaxis": {
            "gridcolor": "white",
            "linecolor": "white",
            "ticks": ""
           },
           "baxis": {
            "gridcolor": "white",
            "linecolor": "white",
            "ticks": ""
           },
           "bgcolor": "#E5ECF6",
           "caxis": {
            "gridcolor": "white",
            "linecolor": "white",
            "ticks": ""
           }
          },
          "title": {
           "x": 0.05
          },
          "xaxis": {
           "automargin": true,
           "gridcolor": "white",
           "linecolor": "white",
           "ticks": "",
           "title": {
            "standoff": 15
           },
           "zerolinecolor": "white",
           "zerolinewidth": 2
          },
          "yaxis": {
           "automargin": true,
           "gridcolor": "white",
           "linecolor": "white",
           "ticks": "",
           "title": {
            "standoff": 15
           },
           "zerolinecolor": "white",
           "zerolinewidth": 2
          }
         }
        },
        "title": {
         "font": {
          "size": 24
         }
        },
        "xaxis": {
         "anchor": "y",
         "constrain": "domain",
         "domain": [
          0,
          1
         ],
         "scaleanchor": "y",
         "tickangle": 45
        },
        "yaxis": {
         "anchor": "x",
         "autorange": "reversed",
         "constrain": "domain",
         "domain": [
          0,
          1
         ]
        }
       }
      }
     },
     "metadata": {},
     "output_type": "display_data"
    }
   ],
   "source": [
    "# Creating a table containing the chemical composition and aromatic characteristics\n",
    "aroma_chem_df = wine_aroma_df.loc[:, 'Acetoine':]\n",
    "aroma_chem_df = aroma_chem_df.drop(['DOI', 'Descriptors'], axis = 1)\n",
    "\n",
    "# Calculate the correlation between chemical composition and aromatic characteristics\n",
    "correlation_matrix = aroma_chem_df.corr().tail(10).loc[:, 'Acetoine' : 'Dodecanoic acid']\n",
    "\n",
    "# Building a heat map with rotated x-axis labels\n",
    "fig = px.imshow(correlation_matrix, color_continuous_scale=px.colors.sequential.Teal)\n",
    "\n",
    "fig.update_xaxes(tickangle=45)  \n",
    "\n",
    "fig.update_layout(\n",
    "    title_font_size=24,  \n",
    "    legend_font_size=20,  \n",
    "    legend_title_font_size=18  \n",
    ")\n",
    "\n",
    "fig.show()"
   ]
  },
  {
   "cell_type": "markdown",
   "metadata": {},
   "source": [
    "#### 4.2.3. Spearman Correlation Coefficient"
   ]
  },
  {
   "cell_type": "code",
   "execution_count": null,
   "metadata": {},
   "outputs": [
    {
     "data": {
      "application/vnd.plotly.v1+json": {
       "config": {
        "plotlyServerURL": "https://plot.ly"
       },
       "data": [
        {
         "coloraxis": "coloraxis",
         "hovertemplate": "x: %{x}<br>y: %{y}<br>color: %{z}<extra></extra>",
         "name": "0",
         "type": "heatmap",
         "x": [
          "Acetoine",
          "Acetaldehyde",
          "Methanol",
          "1-propanol",
          "Ethyl lactate",
          "Isobutanol",
          "1-butanol",
          "2-butanol",
          "2-methyl-1-butanol",
          "3-methyl-1-butanol",
          "2-methyl-1-propanol",
          "1-pentanol",
          "1-hexanol",
          "2,3-butanediol",
          "2-phenylethanol",
          "3-(Methylthio)-1-propanol",
          "Hexyl acetate",
          "Ethyl octanoate",
          "Diethyl succinate",
          "2-phenylethyl acetate",
          "Diethyl malate",
          "Ethyl decanoate",
          "Isoamyl alcohol",
          "Isoamyl acetate",
          "1-heptanol",
          "Ethyl acetate",
          "Isopropyl acetate",
          "Isobutyl acetate",
          "Ethyl butyrate",
          "Ethyl hexanoate",
          "Ethyl isovalerate",
          "Pentyl acetate",
          "Phenyl acetate",
          "Ethyl caprylate",
          "alpha-TERPINEOL",
          "Linalool ",
          "Nerol",
          "Citronellol",
          "Geraniol",
          "1-octanol",
          "Hexanoic acid",
          "Octanoic acid",
          "Decanoic acid",
          "Propanoic acid",
          "butyric acid",
          "2-methylpropanoic acid",
          "2-methylbutyric acid",
          "3-methylbutyric acid",
          "Dodecanoic acid"
         ],
         "xaxis": "x",
         "y": [
          "Herbs and spices",
          "Tobacco/Smoke",
          "Wood",
          "Berries",
          "Citrus",
          "Fruits",
          "Nuts",
          "Coffee",
          "Chocolate/Cacao",
          "Flowers"
         ],
         "yaxis": "y",
         "z": [
          [
           0.02437365716115494,
           -0.17097063839064314,
           -0.20023128637905205,
           -0.10514299974798752,
           -0.03664443967500857,
           -0.04647858359692996,
           -0.003174544698317023,
           -0.0569979380721418,
           -0.007691199592435173,
           0.046860990556904736,
           0.020737677716712862,
           -0.06618378547776209,
           -0.052996397096200604,
           -0.024077511686886464,
           0.13537459689335304,
           -0.029761105884030987,
           -0.16511559247257,
           -0.06950026794775101,
           -0.19778365209165663,
           -0.10404051592591633,
           -0.10124486855084087,
           -0.1339168819798068,
           0.020428959179790724,
           -0.129061907312036,
           -0.0029419072009993787,
           -0.05981942793044524,
           -0.11932711552256633,
           -0.020303524800502955,
           -0.008530825442741903,
           -0.05288340206005402,
           0.12327674452337968,
           -0.018584155287824696,
           -0.0164132492663017,
           0.026223318092678475,
           0.024816969778832493,
           0.012046722895699772,
           0.07582811188981502,
           0.10201875321718963,
           0.011437872840631875,
           0.09550655189190159,
           -0.02286842962398626,
           -0.08141789395057587,
           -0.14927897234465268,
           -0.05376356689360918,
           -0.12634881040505017,
           0.02884637236534326,
           0.0897330305378785,
           0.02481855531269474,
           0.02477958119373443
          ],
          [
           -0.012213533261796753,
           -0.061421546363373505,
           -0.03797741159489874,
           0.008852337485096083,
           -0.08294140841657378,
           0.02182318828272124,
           -0.012529432190565912,
           -0.012905030722421959,
           0.09141398614615905,
           0.051734859045809135,
           -0.05784501271449876,
           -0.044689097475429804,
           -0.07079728408476527,
           -0.05079646459984337,
           0.07932392595062937,
           -0.030132208191051255,
           -0.12162642926245738,
           -0.044652992135302584,
           -0.0515635136542582,
           -0.05961909289755919,
           -0.06723227056863045,
           -0.09323787991430701,
           -0.07003543769212439,
           -0.07853154961024392,
           -0.0733671075039639,
           -0.0369703663446508,
           0.011884422867843433,
           0.027026352839596045,
           0.008351296821799343,
           -0.030572092883480593,
           -0.0024950189066068294,
           0.05491041835794451,
           0.1956254409618199,
           0.05295559013171412,
           0.007240189448581583,
           0.02573088379168961,
           -0.048823858172573564,
           0.0677217080126179,
           -0.048596724010911044,
           -0.033298016270373466,
           -0.11441549391941562,
           -0.15043940248838183,
           -0.09969361363327583,
           -0.04719892631038524,
           -0.08241093064264685,
           -0.042769757062125414,
           -0.04468958048661277,
           -0.08018696592308422,
           -0.001976250250914521
          ],
          [
           0.05281855760613085,
           -0.012647177505915671,
           -0.04783698574000839,
           -0.01208556969381979,
           -0.015563323693565393,
           -0.03596241001693741,
           -0.05704562414496596,
           -0.07429204338972759,
           0.027271855937191166,
           0.07553014624488219,
           0.04064760598695239,
           -0.07804149006844985,
           -0.07029182648645534,
           -0.041007595562545254,
           0.0406507292902876,
           -0.04077606090373069,
           -0.04789721491176885,
           -0.01226627797378144,
           -0.10550290771506211,
           -0.09004168402452287,
           -0.0810783388843148,
           -0.02355719392598883,
           -0.09689071312900426,
           -0.03677706059321217,
           -0.01916696868420095,
           0.016383262379553315,
           -0.05321401302370905,
           -0.024587917807081795,
           0.07409156664846714,
           -0.014616961788906447,
           -0.0027566357390915613,
           -0.021462194328115494,
           -0.02971402348467847,
           0.012257970479716176,
           -0.003715054166902616,
           0.015309947297416618,
           -0.05910400378462194,
           0.006100464315177472,
           -0.05321255597054751,
           -0.04527068611982846,
           -0.0032635352953558163,
           -0.03553668961292095,
           -0.04197892034442812,
           -0.017506019081131235,
           -0.029800775343722368,
           0.03256301405255339,
           -0.012409144143223931,
           -0.0511225620404436,
           -0.06703963089298717
          ],
          [
           -0.029053122732278117,
           -0.21562567801650154,
           -0.17334360467781762,
           -0.08536620835592229,
           0.03660885330183442,
           0.03933250186921483,
           0.08529793966937749,
           -0.10860519701754234,
           0.06863780534115194,
           0.07648681911118133,
           -0.03122221988684062,
           -0.020286848483715703,
           0.049011834102452655,
           -0.010136426850949044,
           0.19163959899695837,
           -0.11553989648420217,
           -0.21070316657809732,
           -0.11081156168814357,
           -0.07050988683928636,
           -0.16509007346849291,
           -0.011772562919011213,
           -0.14094035552333437,
           -0.0007952167166042205,
           -0.16604070856845585,
           0.051431893295689805,
           -0.062266342329114925,
           -0.0726626943554186,
           0.0554298305849097,
           -0.11024991033880081,
           -0.1326877626691042,
           0.0705344805326584,
           -0.08104741531594274,
           0.06614923025594374,
           0.04644419639212323,
           -0.021290788376740994,
           0.04617630791283097,
           0.025267479913074355,
           0.17524699431503557,
           0.10511819144650789,
           -0.02529415659122013,
           -0.11283653329057954,
           -0.21363760426825604,
           -0.1776941073011872,
           0.05831177378434289,
           -0.025934994721733027,
           0.07849995687294879,
           0.07774888943839431,
           0.001901413961262736,
           -0.09156280321852102
          ],
          [
           -0.00047202029382197394,
           0.07364625626881549,
           0.10127053698042493,
           -0.024347931720608753,
           -0.11422600133806042,
           -0.05035950583669049,
           -0.13527334190938106,
           0.019131696473405714,
           -0.0143055891010479,
           -0.03801039597573549,
           0.08531929172658653,
           0.0054843305208336504,
           -0.04434818143156584,
           0.10654335900846193,
           -0.22354334026191633,
           0.04858484027192269,
           0.25325843276816007,
           0.160862580772053,
           0.08425819242537783,
           0.14264096542721147,
           0.03912857037977966,
           0.21491435270191103,
           -0.03001662344136598,
           0.238811694023144,
           0.034464011139741194,
           -0.035321437512605795,
           0.0310451492974875,
           -0.035293722904208305,
           0.08324949078257848,
           0.20604729388204557,
           -0.11997743142666885,
           0.10474289101823896,
           -0.03764401384844472,
           -0.10815729432673064,
           -0.08408540880868716,
           -0.15373040190475706,
           -0.025419132734538472,
           -0.23793649936659134,
           -0.10784393489279866,
           -0.06244009279417639,
           0.043484964542102766,
           0.162730938013516,
           0.19555104780479757,
           -0.06808328676194157,
           0.026392785118955497,
           0.008403457040029353,
           -0.07524911102402004,
           -0.0007892380562665221,
           0.09075031267912803
          ],
          [
           0.002813758452487458,
           0.10279456745020157,
           0.07066387440522053,
           0.03439594446519703,
           0.09369245887463318,
           -0.025299663220842667,
           -0.017150980688831897,
           0.070608551352713,
           -0.08251187543680577,
           -0.07116369864250345,
           -0.025055699896365136,
           0.11131479244246478,
           0.06634380641978711,
           0.003927964687232656,
           -0.10555613232509901,
           0.12025396018487244,
           0.10038479181450641,
           0.08019994560981993,
           0.17440025991653574,
           0.054184885957133784,
           0.08116101876964227,
           0.03207711781986043,
           -0.023102421995712753,
           0.13714279514151634,
           0.06319576959275763,
           -0.07269528227614522,
           -0.020901838448470926,
           -0.038948030366009904,
           0.09770704692287507,
           0.02497006248866272,
           0.006245892163956168,
           0.03097485007954912,
           -0.09636207042372233,
           0.0038834016789508824,
           0.02536809532143696,
           0.011038978699998281,
           0.02614505908996665,
           -0.08745310175874337,
           -0.07321359232454261,
           0.021661933830516518,
           0.0736844349835349,
           0.14982154927523292,
           0.06791390461010181,
           0.04482770184748948,
           0.025949278299350644,
           -0.05506602345949622,
           -0.10319647906616158,
           -0.007790289905182465,
           0.07261296302922662
          ],
          [
           0.05805786699388197,
           0.051730705243308715,
           0.08252788973393557,
           0.016650651860542875,
           0.048548432639465795,
           -0.008747127530638643,
           -0.018200528221512458,
           0.09342031252812044,
           0.04368144527015828,
           0.04714288286091073,
           0.05010987450864103,
           0.020395442945540465,
           -0.006081748901098857,
           0.004252531497855528,
           -0.067331329105901,
           -0.002169576287764899,
           0.09043207086134825,
           0.07163736684856213,
           -0.010223902734551222,
           0.050201103972572284,
           -0.06767386295002456,
           0.09576597254327579,
           0.009126975827217566,
           0.059715702198482455,
           -0.041639247903302166,
           -0.02474828436783536,
           0.035594287180604776,
           0.01321027993003603,
           0.021761937267854296,
           0.07098182816195153,
           -0.07291326505068664,
           -0.04093370148329679,
           -0.01914593792156774,
           -0.055009352915480106,
           0.02147342188929531,
           -0.06177825779576383,
           0.005428601823811514,
           -0.10827478849724775,
           -0.0478686719624276,
           -0.030403481039601842,
           0.06590506503514577,
           0.11548049128830593,
           0.07393526505075314,
           -0.019585006788975807,
           -0.0008874797978490393,
           0.04196331378083458,
           -0.012465568147691146,
           0.1069898539222772,
           0.1293348785534378
          ],
          [
           0.0733321180984544,
           0.06609564453446655,
           0.027656336169742696,
           -0.0017880452200155891,
           -0.019014229815804813,
           0.03412584120921218,
           0.08469165257193438,
           -0.05271987242688255,
           -0.022103422368717925,
           -0.03781362678800945,
           -0.046034323213676495,
           0.026213976915684056,
           -0.01459665254529223,
           0.022606685491054327,
           0.09819896740376288,
           0.06211380668369181,
           -0.10301130725765198,
           -0.0833529845333557,
           -0.0028723565606642337,
           -0.04454298252238501,
           0.014603518204913046,
           -0.1454429611526889,
           0.06998299459906185,
           -0.039753882558169494,
           -0.05227268594312782,
           0.0686428367087229,
           -0.044656043746245544,
           0.026539562499084433,
           0.043510699196790036,
           -0.11075459728640477,
           0.10270814291456223,
           -0.033229570377648635,
           -0.015542481343165031,
           0.06455710672011584,
           -0.053438804844516526,
           0.010897619403685724,
           -0.01785462499994694,
           0.009732714961990858,
           0.01529635272566209,
           0.016186404201166713,
           -0.07367474517649623,
           -0.10318273874517372,
           -0.020417077170216315,
           0.11983087693994392,
           -0.011424641664293961,
           -0.00888662592158092,
           0.026215537056654657,
           -0.018709318451771286,
           0.033846646483795755
          ],
          [
           0.05008427308794352,
           0.001127000850704101,
           -0.04144456382118461,
           -0.10223645037332785,
           -0.012574207689976202,
           -0.07622301994399737,
           0.06205475281143164,
           -0.012905030722421959,
           0.09942327069944544,
           0.06612248085304528,
           0.05223987582355896,
           -0.04767479148779688,
           0.02268098779531781,
           -0.032524849206255355,
           0.121827003752256,
           -0.058389523427992654,
           -0.056714586448176126,
           -0.13154226317517392,
           -0.03968469847430874,
           -0.04893639421772088,
           0.0014851307528592995,
           -0.14291565675807813,
           -0.019607388480970146,
           -0.14446460906642153,
           -0.09415877542558193,
           0.02418539503502654,
           0.09262858999936793,
           0.030819525167960403,
           0.0026372516279366347,
           -0.0781567553605234,
           0.03298499571446317,
           0.05491041835794451,
           0.1956254409618199,
           0.09227904815031372,
           -0.02956917707571974,
           -0.06940337022724442,
           -0.016853787340710448,
           -0.016235466244073026,
           0.03219319822196493,
           0.05099114692259016,
           -0.02161181551811184,
           -0.09914748113819585,
           -0.09021529756046724,
           0.03754460047417008,
           -0.07481127629404405,
           0.105057882060333,
           0.12473619183554566,
           0.08068782142541454,
           -0.001976250250914521
          ],
          [
           -0.04537850568410422,
           0.20474625740246896,
           0.20303579036006958,
           0.06403670747098035,
           0.05911148692921996,
           0.00022543801088904775,
           -0.12796371139026602,
           0.05707738170332787,
           0.020190247763144587,
           -0.0191366260042263,
           0.01415460972500522,
           0.027210432352627108,
           0.028173713485004272,
           0.06017794455265252,
           -0.18815035068525787,
           0.151993120990066,
           0.15191848894681045,
           0.12418707350099839,
           0.004442223516903823,
           0.03743882447778477,
           -0.05243470690002924,
           0.13595615907178413,
           -0.003715121565832519,
           0.0668222898586804,
           0.03373214978724616,
           0.03187805746949259,
           0.04009016054996535,
           0.059037372169983345,
           0.0365582762265455,
           0.07249214762395027,
           -0.012440648853758831,
           0.13333571529504243,
           -0.04761475761474891,
           -0.11109730932066668,
           -0.04151420158286406,
           -0.03795903616825101,
           0.10856273423736476,
           -0.0493440740528936,
           0.06591901853541784,
           -0.01611481846960416,
           0.08962652855035555,
           0.20471156211120495,
           0.19472504765582985,
           -0.038153047405557444,
           0.06327261807993544,
           -0.060128035279400194,
           -0.07163527148477389,
           0.013014340694632098,
           0.11667522064396062
          ]
         ]
        }
       ],
       "layout": {
        "coloraxis": {
         "colorscale": [
          [
           0,
           "rgb(209, 238, 234)"
          ],
          [
           0.16666666666666666,
           "rgb(168, 219, 217)"
          ],
          [
           0.3333333333333333,
           "rgb(133, 196, 201)"
          ],
          [
           0.5,
           "rgb(104, 171, 184)"
          ],
          [
           0.6666666666666666,
           "rgb(79, 144, 166)"
          ],
          [
           0.8333333333333334,
           "rgb(59, 115, 143)"
          ],
          [
           1,
           "rgb(42, 86, 116)"
          ]
         ]
        },
        "margin": {
         "t": 60
        },
        "template": {
         "data": {
          "bar": [
           {
            "error_x": {
             "color": "#2a3f5f"
            },
            "error_y": {
             "color": "#2a3f5f"
            },
            "marker": {
             "line": {
              "color": "#E5ECF6",
              "width": 0.5
             },
             "pattern": {
              "fillmode": "overlay",
              "size": 10,
              "solidity": 0.2
             }
            },
            "type": "bar"
           }
          ],
          "barpolar": [
           {
            "marker": {
             "line": {
              "color": "#E5ECF6",
              "width": 0.5
             },
             "pattern": {
              "fillmode": "overlay",
              "size": 10,
              "solidity": 0.2
             }
            },
            "type": "barpolar"
           }
          ],
          "carpet": [
           {
            "aaxis": {
             "endlinecolor": "#2a3f5f",
             "gridcolor": "white",
             "linecolor": "white",
             "minorgridcolor": "white",
             "startlinecolor": "#2a3f5f"
            },
            "baxis": {
             "endlinecolor": "#2a3f5f",
             "gridcolor": "white",
             "linecolor": "white",
             "minorgridcolor": "white",
             "startlinecolor": "#2a3f5f"
            },
            "type": "carpet"
           }
          ],
          "choropleth": [
           {
            "colorbar": {
             "outlinewidth": 0,
             "ticks": ""
            },
            "type": "choropleth"
           }
          ],
          "contour": [
           {
            "colorbar": {
             "outlinewidth": 0,
             "ticks": ""
            },
            "colorscale": [
             [
              0,
              "#0d0887"
             ],
             [
              0.1111111111111111,
              "#46039f"
             ],
             [
              0.2222222222222222,
              "#7201a8"
             ],
             [
              0.3333333333333333,
              "#9c179e"
             ],
             [
              0.4444444444444444,
              "#bd3786"
             ],
             [
              0.5555555555555556,
              "#d8576b"
             ],
             [
              0.6666666666666666,
              "#ed7953"
             ],
             [
              0.7777777777777778,
              "#fb9f3a"
             ],
             [
              0.8888888888888888,
              "#fdca26"
             ],
             [
              1,
              "#f0f921"
             ]
            ],
            "type": "contour"
           }
          ],
          "contourcarpet": [
           {
            "colorbar": {
             "outlinewidth": 0,
             "ticks": ""
            },
            "type": "contourcarpet"
           }
          ],
          "heatmap": [
           {
            "colorbar": {
             "outlinewidth": 0,
             "ticks": ""
            },
            "colorscale": [
             [
              0,
              "#0d0887"
             ],
             [
              0.1111111111111111,
              "#46039f"
             ],
             [
              0.2222222222222222,
              "#7201a8"
             ],
             [
              0.3333333333333333,
              "#9c179e"
             ],
             [
              0.4444444444444444,
              "#bd3786"
             ],
             [
              0.5555555555555556,
              "#d8576b"
             ],
             [
              0.6666666666666666,
              "#ed7953"
             ],
             [
              0.7777777777777778,
              "#fb9f3a"
             ],
             [
              0.8888888888888888,
              "#fdca26"
             ],
             [
              1,
              "#f0f921"
             ]
            ],
            "type": "heatmap"
           }
          ],
          "heatmapgl": [
           {
            "colorbar": {
             "outlinewidth": 0,
             "ticks": ""
            },
            "colorscale": [
             [
              0,
              "#0d0887"
             ],
             [
              0.1111111111111111,
              "#46039f"
             ],
             [
              0.2222222222222222,
              "#7201a8"
             ],
             [
              0.3333333333333333,
              "#9c179e"
             ],
             [
              0.4444444444444444,
              "#bd3786"
             ],
             [
              0.5555555555555556,
              "#d8576b"
             ],
             [
              0.6666666666666666,
              "#ed7953"
             ],
             [
              0.7777777777777778,
              "#fb9f3a"
             ],
             [
              0.8888888888888888,
              "#fdca26"
             ],
             [
              1,
              "#f0f921"
             ]
            ],
            "type": "heatmapgl"
           }
          ],
          "histogram": [
           {
            "marker": {
             "pattern": {
              "fillmode": "overlay",
              "size": 10,
              "solidity": 0.2
             }
            },
            "type": "histogram"
           }
          ],
          "histogram2d": [
           {
            "colorbar": {
             "outlinewidth": 0,
             "ticks": ""
            },
            "colorscale": [
             [
              0,
              "#0d0887"
             ],
             [
              0.1111111111111111,
              "#46039f"
             ],
             [
              0.2222222222222222,
              "#7201a8"
             ],
             [
              0.3333333333333333,
              "#9c179e"
             ],
             [
              0.4444444444444444,
              "#bd3786"
             ],
             [
              0.5555555555555556,
              "#d8576b"
             ],
             [
              0.6666666666666666,
              "#ed7953"
             ],
             [
              0.7777777777777778,
              "#fb9f3a"
             ],
             [
              0.8888888888888888,
              "#fdca26"
             ],
             [
              1,
              "#f0f921"
             ]
            ],
            "type": "histogram2d"
           }
          ],
          "histogram2dcontour": [
           {
            "colorbar": {
             "outlinewidth": 0,
             "ticks": ""
            },
            "colorscale": [
             [
              0,
              "#0d0887"
             ],
             [
              0.1111111111111111,
              "#46039f"
             ],
             [
              0.2222222222222222,
              "#7201a8"
             ],
             [
              0.3333333333333333,
              "#9c179e"
             ],
             [
              0.4444444444444444,
              "#bd3786"
             ],
             [
              0.5555555555555556,
              "#d8576b"
             ],
             [
              0.6666666666666666,
              "#ed7953"
             ],
             [
              0.7777777777777778,
              "#fb9f3a"
             ],
             [
              0.8888888888888888,
              "#fdca26"
             ],
             [
              1,
              "#f0f921"
             ]
            ],
            "type": "histogram2dcontour"
           }
          ],
          "mesh3d": [
           {
            "colorbar": {
             "outlinewidth": 0,
             "ticks": ""
            },
            "type": "mesh3d"
           }
          ],
          "parcoords": [
           {
            "line": {
             "colorbar": {
              "outlinewidth": 0,
              "ticks": ""
             }
            },
            "type": "parcoords"
           }
          ],
          "pie": [
           {
            "automargin": true,
            "type": "pie"
           }
          ],
          "scatter": [
           {
            "fillpattern": {
             "fillmode": "overlay",
             "size": 10,
             "solidity": 0.2
            },
            "type": "scatter"
           }
          ],
          "scatter3d": [
           {
            "line": {
             "colorbar": {
              "outlinewidth": 0,
              "ticks": ""
             }
            },
            "marker": {
             "colorbar": {
              "outlinewidth": 0,
              "ticks": ""
             }
            },
            "type": "scatter3d"
           }
          ],
          "scattercarpet": [
           {
            "marker": {
             "colorbar": {
              "outlinewidth": 0,
              "ticks": ""
             }
            },
            "type": "scattercarpet"
           }
          ],
          "scattergeo": [
           {
            "marker": {
             "colorbar": {
              "outlinewidth": 0,
              "ticks": ""
             }
            },
            "type": "scattergeo"
           }
          ],
          "scattergl": [
           {
            "marker": {
             "colorbar": {
              "outlinewidth": 0,
              "ticks": ""
             }
            },
            "type": "scattergl"
           }
          ],
          "scattermapbox": [
           {
            "marker": {
             "colorbar": {
              "outlinewidth": 0,
              "ticks": ""
             }
            },
            "type": "scattermapbox"
           }
          ],
          "scatterpolar": [
           {
            "marker": {
             "colorbar": {
              "outlinewidth": 0,
              "ticks": ""
             }
            },
            "type": "scatterpolar"
           }
          ],
          "scatterpolargl": [
           {
            "marker": {
             "colorbar": {
              "outlinewidth": 0,
              "ticks": ""
             }
            },
            "type": "scatterpolargl"
           }
          ],
          "scatterternary": [
           {
            "marker": {
             "colorbar": {
              "outlinewidth": 0,
              "ticks": ""
             }
            },
            "type": "scatterternary"
           }
          ],
          "surface": [
           {
            "colorbar": {
             "outlinewidth": 0,
             "ticks": ""
            },
            "colorscale": [
             [
              0,
              "#0d0887"
             ],
             [
              0.1111111111111111,
              "#46039f"
             ],
             [
              0.2222222222222222,
              "#7201a8"
             ],
             [
              0.3333333333333333,
              "#9c179e"
             ],
             [
              0.4444444444444444,
              "#bd3786"
             ],
             [
              0.5555555555555556,
              "#d8576b"
             ],
             [
              0.6666666666666666,
              "#ed7953"
             ],
             [
              0.7777777777777778,
              "#fb9f3a"
             ],
             [
              0.8888888888888888,
              "#fdca26"
             ],
             [
              1,
              "#f0f921"
             ]
            ],
            "type": "surface"
           }
          ],
          "table": [
           {
            "cells": {
             "fill": {
              "color": "#EBF0F8"
             },
             "line": {
              "color": "white"
             }
            },
            "header": {
             "fill": {
              "color": "#C8D4E3"
             },
             "line": {
              "color": "white"
             }
            },
            "type": "table"
           }
          ]
         },
         "layout": {
          "annotationdefaults": {
           "arrowcolor": "#2a3f5f",
           "arrowhead": 0,
           "arrowwidth": 1
          },
          "autotypenumbers": "strict",
          "coloraxis": {
           "colorbar": {
            "outlinewidth": 0,
            "ticks": ""
           }
          },
          "colorscale": {
           "diverging": [
            [
             0,
             "#8e0152"
            ],
            [
             0.1,
             "#c51b7d"
            ],
            [
             0.2,
             "#de77ae"
            ],
            [
             0.3,
             "#f1b6da"
            ],
            [
             0.4,
             "#fde0ef"
            ],
            [
             0.5,
             "#f7f7f7"
            ],
            [
             0.6,
             "#e6f5d0"
            ],
            [
             0.7,
             "#b8e186"
            ],
            [
             0.8,
             "#7fbc41"
            ],
            [
             0.9,
             "#4d9221"
            ],
            [
             1,
             "#276419"
            ]
           ],
           "sequential": [
            [
             0,
             "#0d0887"
            ],
            [
             0.1111111111111111,
             "#46039f"
            ],
            [
             0.2222222222222222,
             "#7201a8"
            ],
            [
             0.3333333333333333,
             "#9c179e"
            ],
            [
             0.4444444444444444,
             "#bd3786"
            ],
            [
             0.5555555555555556,
             "#d8576b"
            ],
            [
             0.6666666666666666,
             "#ed7953"
            ],
            [
             0.7777777777777778,
             "#fb9f3a"
            ],
            [
             0.8888888888888888,
             "#fdca26"
            ],
            [
             1,
             "#f0f921"
            ]
           ],
           "sequentialminus": [
            [
             0,
             "#0d0887"
            ],
            [
             0.1111111111111111,
             "#46039f"
            ],
            [
             0.2222222222222222,
             "#7201a8"
            ],
            [
             0.3333333333333333,
             "#9c179e"
            ],
            [
             0.4444444444444444,
             "#bd3786"
            ],
            [
             0.5555555555555556,
             "#d8576b"
            ],
            [
             0.6666666666666666,
             "#ed7953"
            ],
            [
             0.7777777777777778,
             "#fb9f3a"
            ],
            [
             0.8888888888888888,
             "#fdca26"
            ],
            [
             1,
             "#f0f921"
            ]
           ]
          },
          "colorway": [
           "#636efa",
           "#EF553B",
           "#00cc96",
           "#ab63fa",
           "#FFA15A",
           "#19d3f3",
           "#FF6692",
           "#B6E880",
           "#FF97FF",
           "#FECB52"
          ],
          "font": {
           "color": "#2a3f5f"
          },
          "geo": {
           "bgcolor": "white",
           "lakecolor": "white",
           "landcolor": "#E5ECF6",
           "showlakes": true,
           "showland": true,
           "subunitcolor": "white"
          },
          "hoverlabel": {
           "align": "left"
          },
          "hovermode": "closest",
          "mapbox": {
           "style": "light"
          },
          "paper_bgcolor": "white",
          "plot_bgcolor": "#E5ECF6",
          "polar": {
           "angularaxis": {
            "gridcolor": "white",
            "linecolor": "white",
            "ticks": ""
           },
           "bgcolor": "#E5ECF6",
           "radialaxis": {
            "gridcolor": "white",
            "linecolor": "white",
            "ticks": ""
           }
          },
          "scene": {
           "xaxis": {
            "backgroundcolor": "#E5ECF6",
            "gridcolor": "white",
            "gridwidth": 2,
            "linecolor": "white",
            "showbackground": true,
            "ticks": "",
            "zerolinecolor": "white"
           },
           "yaxis": {
            "backgroundcolor": "#E5ECF6",
            "gridcolor": "white",
            "gridwidth": 2,
            "linecolor": "white",
            "showbackground": true,
            "ticks": "",
            "zerolinecolor": "white"
           },
           "zaxis": {
            "backgroundcolor": "#E5ECF6",
            "gridcolor": "white",
            "gridwidth": 2,
            "linecolor": "white",
            "showbackground": true,
            "ticks": "",
            "zerolinecolor": "white"
           }
          },
          "shapedefaults": {
           "line": {
            "color": "#2a3f5f"
           }
          },
          "ternary": {
           "aaxis": {
            "gridcolor": "white",
            "linecolor": "white",
            "ticks": ""
           },
           "baxis": {
            "gridcolor": "white",
            "linecolor": "white",
            "ticks": ""
           },
           "bgcolor": "#E5ECF6",
           "caxis": {
            "gridcolor": "white",
            "linecolor": "white",
            "ticks": ""
           }
          },
          "title": {
           "x": 0.05
          },
          "xaxis": {
           "automargin": true,
           "gridcolor": "white",
           "linecolor": "white",
           "ticks": "",
           "title": {
            "standoff": 15
           },
           "zerolinecolor": "white",
           "zerolinewidth": 2
          },
          "yaxis": {
           "automargin": true,
           "gridcolor": "white",
           "linecolor": "white",
           "ticks": "",
           "title": {
            "standoff": 15
           },
           "zerolinecolor": "white",
           "zerolinewidth": 2
          }
         }
        },
        "xaxis": {
         "anchor": "y",
         "constrain": "domain",
         "domain": [
          0,
          1
         ],
         "scaleanchor": "y",
         "tickangle": 45
        },
        "yaxis": {
         "anchor": "x",
         "autorange": "reversed",
         "constrain": "domain",
         "domain": [
          0,
          1
         ]
        }
       }
      }
     },
     "metadata": {},
     "output_type": "display_data"
    }
   ],
   "source": [
    "# Creating a table containing the chemical composition and aromatic characteristics\n",
    "aroma_chem_df = wine_aroma_df.loc[:, 'Acetoine':]\n",
    "aroma_chem_df = aroma_chem_df.drop(['DOI', 'Descriptors'], axis = 1)\n",
    "\n",
    "# Calculate the correlation between chemical composition and aromatic characteristics\n",
    "correlation_matrix = aroma_chem_df.corr(method='spearman').tail(10).loc[:, 'Acetoine' : 'Dodecanoic acid']\n",
    "\n",
    "# Building a heat map with rotated x-axis labels\n",
    "fig = px.imshow(correlation_matrix, color_continuous_scale=px.colors.sequential.Teal)\n",
    "\n",
    "fig.update_xaxes(tickangle=45)  \n",
    "\n",
    "fig.show()"
   ]
  },
  {
   "cell_type": "markdown",
   "metadata": {},
   "source": [
    "**Output:** In this way, we do not see strong correlations between a particular compound and flavor"
   ]
  },
  {
   "cell_type": "markdown",
   "metadata": {},
   "source": [
    "### General conclusion:\n",
    "- The dataset contains 449 wines collected from 78 scientific articles\n",
    "- Wines are presented from 15 countries, dominated by Spain and Italy, as the most developed wine regions\n",
    "- Various grape varieties and blends are also presented, which allows us to conclude that the dataset is diverse\n",
    "- Each wine is characterized by 49 chemical compounds that affect the flavor of the wine\n",
    "- There is a certain imbalance in the aromas of various wines, most of the wines contain odors such as fruits, herbs and berries, fewer nuts and coffee, which may complicate the prediction"
   ]
  },
  {
   "cell_type": "markdown",
   "metadata": {},
   "source": []
  }
 ],
 "metadata": {
  "kernelspec": {
   "display_name": ".venv",
   "language": "python",
   "name": "python3"
  },
  "language_info": {
   "codemirror_mode": {
    "name": "ipython",
    "version": 3
   },
   "file_extension": ".py",
   "mimetype": "text/x-python",
   "name": "python",
   "nbconvert_exporter": "python",
   "pygments_lexer": "ipython3",
   "version": "3.11.9"
  }
 },
 "nbformat": 4,
 "nbformat_minor": 2
}
